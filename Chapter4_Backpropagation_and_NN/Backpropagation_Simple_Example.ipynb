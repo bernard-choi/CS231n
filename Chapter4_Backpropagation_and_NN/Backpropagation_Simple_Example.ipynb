{
 "cells": [
  {
   "cell_type": "code",
   "execution_count": 22,
   "metadata": {},
   "outputs": [],
   "source": [
    "import numpy as np"
   ]
  },
  {
   "cell_type": "code",
   "execution_count": 23,
   "metadata": {},
   "outputs": [],
   "source": [
    "# 곱셈계층\n",
    "class MulLayer:\n",
    "    def __init__(self):\n",
    "        self.x = None\n",
    "        self.y = None\n",
    "        \n",
    "    def forward(self, x, y):\n",
    "        self.x = x\n",
    "        self.y = y\n",
    "        out = x*y\n",
    "        \n",
    "        return out\n",
    "    \n",
    "    def backward(self,dout):\n",
    "        dx = dout * self.y\n",
    "        dy = dout * self.x \n",
    "        \n",
    "        return dx, dy\n",
    "    \n",
    "# 덧셈계층\n",
    "class AddLayer:\n",
    "    def __init__(self):\n",
    "        pass\n",
    "    \n",
    "    def forward(self, x, y):\n",
    "        out = x + y\n",
    "        return out\n",
    "    \n",
    "    def backward(self, dout):\n",
    "        dx = dout*1\n",
    "        dy = dout*1\n",
    "        return dx, dy"
   ]
  },
  {
   "cell_type": "markdown",
   "metadata": {},
   "source": [
    "![](https://user-images.githubusercontent.com/36406676/52039631-67d7a600-2578-11e9-80bc-a5d8952b5551.PNG)"
   ]
  },
  {
   "cell_type": "code",
   "execution_count": 24,
   "metadata": {},
   "outputs": [
    {
     "name": "stdout",
     "output_type": "stream",
     "text": [
      "f:  -12\n",
      "dq: -4\n",
      "dz: 3\n",
      "dx: -4\n",
      "dy: -4\n"
     ]
    }
   ],
   "source": [
    "x = -2\n",
    "y = 5\n",
    "z = -4\n",
    "\n",
    "add_layer = AddLayer()\n",
    "mul_layer = MulLayer()\n",
    "\n",
    "# 순전파\n",
    "q = add_layer.forward(x,y)\n",
    "f = mul_layer.forward(q,z)\n",
    "print(\"f: \" ,f)\n",
    "\n",
    "#역전파\n",
    "df = 1\n",
    "dq, dz = mul_layer.backward(1)\n",
    "print(\"dq:\", dq)\n",
    "print(\"dz:\", dz)\n",
    "\n",
    "dx, dy = add_layer.backward(dq)\n",
    "print(\"dx:\", dx)\n",
    "print(\"dy:\", dy)"
   ]
  },
  {
   "cell_type": "markdown",
   "metadata": {},
   "source": [
    "![](https://user-images.githubusercontent.com/36406676/52042800-62cb2480-2581-11e9-93e5-0cf6d5a5adc3.jpg)"
   ]
  },
  {
   "cell_type": "code",
   "execution_count": 56,
   "metadata": {},
   "outputs": [],
   "source": [
    "## 추가 계층 생성\n",
    "\n",
    "## 나눗셈계층\n",
    "class  InverseLayer:\n",
    "    def __init__(self):\n",
    "        pass\n",
    "    \n",
    "    def forward(self, x):\n",
    "        self.x = x\n",
    "        out = 1/x\n",
    "        return out\n",
    "    \n",
    "    def backward(self, dout, x):\n",
    "        self.x = x\n",
    "        dx = dout * -1 / (self.x) ** 2\n",
    "        return dx\n",
    "        \n",
    "        \n",
    "# 지수계층\n",
    "class ExpLayer:\n",
    "    def __init__(self):\n",
    "        pass\n",
    "    \n",
    "    def forward(self, x):\n",
    "        self.x = x\n",
    "        out = np.exp(x)\n",
    "        return out\n",
    "    \n",
    "    def backward(self, dout, x):\n",
    "        dx = np.exp(x) * dout\n",
    "        return dx"
   ]
  },
  {
   "cell_type": "code",
   "execution_count": 81,
   "metadata": {},
   "outputs": [
    {
     "name": "stdout",
     "output_type": "stream",
     "text": [
      "p: -2\n",
      "q: 6\n",
      "r: 4\n",
      "s: 1\n",
      "t: -1\n",
      "u: 0.36787944117144233\n",
      "v: 1.3678794411714423\n",
      "L: 0.7310585786300049\n"
     ]
    }
   ],
   "source": [
    "w0 = 2\n",
    "x0 = -1\n",
    "w1 = -3\n",
    "x1 = -2\n",
    "w2 = -3\n",
    "\n",
    "add_layer1 = AddLayer()\n",
    "add_layer2 = AddLayer()\n",
    "add_layer3 = AddLayer()\n",
    "mul_layer1 = MulLayer()\n",
    "mul_layer2 = MulLayer()\n",
    "mul_layer3 = MulLayer()\n",
    "inv_layer = InverseLayer()\n",
    "exp_layer = ExpLayer()\n",
    "\n",
    "# 순전파\n",
    "p = mul_layer1.forward(w0,x0)\n",
    "q = mul_layer2.forward(w1,x1)\n",
    "r = add_layer1.forward(p,q)\n",
    "s = add_layer2.forward(r,w2)\n",
    "t = mul_layer3.forward(s,-1)\n",
    "u = exp_layer.forward(t)\n",
    "v = add_layer3.forward(u,1)\n",
    "L = inv_layer.forward(v)\n",
    "\n",
    "print(\"p:\", p)\n",
    "print(\"q:\", q)\n",
    "print(\"r:\", r)\n",
    "print(\"s:\", s)\n",
    "print(\"t:\", t)\n",
    "print(\"u:\", u)\n",
    "print(\"v:\", v)\n",
    "print(\"L:\", L)"
   ]
  },
  {
   "cell_type": "code",
   "execution_count": 82,
   "metadata": {},
   "outputs": [
    {
     "name": "stdout",
     "output_type": "stream",
     "text": [
      "dz: 1\n",
      "dv: -0.534446645388523\n",
      "du: -0.534446645388523\n",
      "dt: -0.19661193324148188\n",
      "ds: 0.19661193324148188\n",
      "dr: 0.19661193324148188\n",
      "dp: 0.19661193324148188\n",
      "dq: 0.19661193324148188\n",
      "dw0: -0.39322386648296376\n",
      "dx0: -0.5898357997244457\n",
      "dw1: -0.19661193324148188\n",
      "dx1: 0.39322386648296376\n",
      "dw2: 0.19661193324148188\n"
     ]
    }
   ],
   "source": [
    "#역전파\n",
    "dz = 1\n",
    "dv = inv_layer.backward(dz,v)\n",
    "du, _ = add_layer3.backward(dv) # 1에대한 미분값은 필요없으므로\n",
    "dt  = exp_layer.backward(du,t)\n",
    "_,dx = mul_layer3.backward(dt) # 1에 대한 미분값은 필요없으므로\n",
    "dr, dw2 = add_layer2.backward(ds)\n",
    "dp, dq = add_layer1.backward(dr)\n",
    "dw0, dx0 = mul_layer2.backward(dp)\n",
    "dw1, dx1 = mul_layer1.backward(dq)\n",
    "\n",
    "\n",
    "print('dz:',dz)\n",
    "print('dv:',dv)\n",
    "print('du:',du)\n",
    "print('dt:',dt)\n",
    "print('ds:',ds)\n",
    "print('dr:',dr)\n",
    "print('dp:',dp)\n",
    "print('dq:',dq)\n",
    "print('dw0:',dw0)\n",
    "print('dx0:',dx0)\n",
    "print('dw1:',dw1)\n",
    "print('dx1:',dx1)\n",
    "print('dw2:',dw2)"
   ]
  }
 ],
 "metadata": {
  "kernelspec": {
   "display_name": "Python 3",
   "language": "python",
   "name": "python3"
  },
  "language_info": {
   "codemirror_mode": {
    "name": "ipython",
    "version": 3
   },
   "file_extension": ".py",
   "mimetype": "text/x-python",
   "name": "python",
   "nbconvert_exporter": "python",
   "pygments_lexer": "ipython3",
   "version": "3.6.5"
  }
 },
 "nbformat": 4,
 "nbformat_minor": 2
}
