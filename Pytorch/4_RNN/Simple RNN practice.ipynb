{
 "cells": [
  {
   "cell_type": "markdown",
   "metadata": {},
   "source": [
    "## 1. Settings\n",
    "### 1) Import Required Libraries"
   ]
  },
  {
   "cell_type": "code",
   "execution_count": 1,
   "metadata": {},
   "outputs": [],
   "source": [
    "import torch \n",
    "import torch.nn as nn\n",
    "import torch.optim as optim\n",
    "from torch.autograd import Variable\n",
    "import numpy as np"
   ]
  },
  {
   "cell_type": "markdown",
   "metadata": {},
   "source": [
    "### 2) Hyperparameters & Data"
   ]
  },
  {
   "cell_type": "code",
   "execution_count": 2,
   "metadata": {},
   "outputs": [],
   "source": [
    "# preprocessing string data\n",
    "# alphabet(0-25), others(26~32), start(33), end(34) - > 35 characters\n",
    "\n",
    "n_hidden = 50\n",
    "lr = 0.01\n",
    "epochs = 2000\n",
    "\n",
    "string = \"hello pytorch, how long can a rnn cell remember?\" # show us your limit!\n",
    "chars = \"abcdefghijklmnopqrstuvwxyz ?!.,:;01\"\n",
    "char_list = [i for i in chars]\n",
    "char_len = len(char_list)  # 35\n",
    "n_letters = len(char_list) # 35"
   ]
  },
  {
   "cell_type": "code",
   "execution_count": 13,
   "metadata": {},
   "outputs": [
    {
     "data": {
      "text/plain": [
       "1"
      ]
     },
     "execution_count": 13,
     "metadata": {},
     "output_type": "execute_result"
    }
   ],
   "source": [
    "char_list.index('b')"
   ]
  },
  {
   "cell_type": "code",
   "execution_count": 10,
   "metadata": {},
   "outputs": [
    {
     "data": {
      "text/plain": [
       "35"
      ]
     },
     "execution_count": 10,
     "metadata": {},
     "output_type": "execute_result"
    }
   ],
   "source": [
    "n_letters"
   ]
  },
  {
   "cell_type": "markdown",
   "metadata": {},
   "source": [
    "### 3) String to One-hot"
   ]
  },
  {
   "cell_type": "code",
   "execution_count": 14,
   "metadata": {},
   "outputs": [],
   "source": [
    "# string to onehot vector\n",
    "# a -> [1,0,0,0 ... 0 0]\n",
    "\n",
    "def string_to_onehot(string):\n",
    "    start= np.zeros(shape=len(char_list), dtype = int)\n",
    "    end = np.zeros(shape=len(char_list), dtype = int)\n",
    "    start[-2] = 1\n",
    "    end[-1] = 1\n",
    "    for i in string:\n",
    "        idx = char_list.index(i)                     # char_list.index(a)이면 a의 위치를 뽑아냄. 즉 0이 나옴\n",
    "        zero = np.zeros(shape=char_len, dtype = int)\n",
    "        zero[idx]=1\n",
    "        start = np.vstack([start,zero])\n",
    "    output = np.vstack([start,end])\n",
    "    return output"
   ]
  },
  {
   "cell_type": "code",
   "execution_count": 15,
   "metadata": {},
   "outputs": [
    {
     "data": {
      "text/plain": [
       "array([[0, 0, 0, 0, 0, 0, 0, 0, 0, 0, 0, 0, 0, 0, 0, 0, 0, 0, 0, 0, 0, 0,\n",
       "        0, 0, 0, 0, 0, 0, 0, 0, 0, 0, 0, 1, 0],\n",
       "       [1, 0, 0, 0, 0, 0, 0, 0, 0, 0, 0, 0, 0, 0, 0, 0, 0, 0, 0, 0, 0, 0,\n",
       "        0, 0, 0, 0, 0, 0, 0, 0, 0, 0, 0, 0, 0],\n",
       "       [0, 0, 0, 0, 0, 0, 0, 0, 0, 0, 0, 0, 0, 0, 0, 0, 0, 0, 0, 0, 0, 0,\n",
       "        0, 0, 0, 0, 0, 0, 0, 0, 0, 0, 0, 0, 1]])"
      ]
     },
     "execution_count": 15,
     "metadata": {},
     "output_type": "execute_result"
    }
   ],
   "source": [
    "string_to_onehot('a')"
   ]
  },
  {
   "cell_type": "markdown",
   "metadata": {},
   "source": [
    "### 4) One-hot to Character"
   ]
  },
  {
   "cell_type": "code",
   "execution_count": 16,
   "metadata": {},
   "outputs": [],
   "source": [
    "# Onehot vector to word\n",
    "# [1 0 0 0 0 ... 0] -> a\n",
    "\n",
    "def onehot_to_word(onehot_1):\n",
    "    onehot = torch.Tensor.numpy(onehot_1)\n",
    "    return char_list[onehot.argmax()]"
   ]
  },
  {
   "cell_type": "markdown",
   "metadata": {},
   "source": [
    "## 2. RNN class"
   ]
  },
  {
   "cell_type": "code",
   "execution_count": 19,
   "metadata": {},
   "outputs": [],
   "source": [
    "# RNN woth 1 hidden layer\n",
    "class RNN(nn.Module):\n",
    "    def __init__(self,  input_size, hidden_size,output_size):\n",
    "        super(RNN, self).__init__()\n",
    "        \n",
    "        self.input_size = input_size\n",
    "        self.hidden_size = hidden_size\n",
    "        self.output_size = output_size\n",
    "        \n",
    "        self.i2h = nn.Linear(input_size, hidden_size)\n",
    "        self.h2h = nn.Linear(hidden_size, hidden_size)\n",
    "        self.i2o = nn.Linear(hidden_size, output_size)\n",
    "        self.act_fn = nn.Tanh()\n",
    "        \n",
    "    def forward(self, input, hidden):\n",
    "        hidden = self.act_fn(self.i2h(input) + self.h2h(hidden))\n",
    "        output = self.i2o(hidden)\n",
    "        return output, hidden\n",
    "    \n",
    "    def init_hidden(self):\n",
    "        return Variable(torch.zeros(1, self.hidden_size))\n",
    "    \n",
    "rnn = RNN(n_letters, n_hidden, n_letters)\n",
    "    "
   ]
  },
  {
   "cell_type": "markdown",
   "metadata": {},
   "source": [
    "## 3. Loss function  & Optimizer"
   ]
  },
  {
   "cell_type": "code",
   "execution_count": 20,
   "metadata": {},
   "outputs": [],
   "source": [
    "loss_func = nn.MSELoss()\n",
    "optimizer = torch.optim.Adam(rnn.parameters(), lr = lr)"
   ]
  },
  {
   "cell_type": "markdown",
   "metadata": {},
   "source": [
    "## 4. Train"
   ]
  },
  {
   "cell_type": "code",
   "execution_count": 24,
   "metadata": {},
   "outputs": [],
   "source": [
    "one_hot = torch.from_numpy(string_to_onehot(string)).type_as(torch.FloatTensor())"
   ]
  },
  {
   "cell_type": "code",
   "execution_count": 26,
   "metadata": {},
   "outputs": [
    {
     "name": "stdout",
     "output_type": "stream",
     "text": [
      "tensor(2.5419, grad_fn=<AddBackward0>)\n",
      "tensor(0.7735, grad_fn=<AddBackward0>)\n",
      "tensor(0.4118, grad_fn=<AddBackward0>)\n",
      "tensor(0.2421, grad_fn=<AddBackward0>)\n",
      "tensor(0.1524, grad_fn=<AddBackward0>)\n",
      "tensor(0.1011, grad_fn=<AddBackward0>)\n",
      "tensor(0.0906, grad_fn=<AddBackward0>)\n",
      "tensor(0.0594, grad_fn=<AddBackward0>)\n",
      "tensor(0.0469, grad_fn=<AddBackward0>)\n",
      "tensor(0.0418, grad_fn=<AddBackward0>)\n",
      "tensor(0.0292, grad_fn=<AddBackward0>)\n",
      "tensor(0.0218, grad_fn=<AddBackward0>)\n",
      "tensor(0.0161, grad_fn=<AddBackward0>)\n",
      "tensor(0.0124, grad_fn=<AddBackward0>)\n",
      "tensor(0.0144, grad_fn=<AddBackward0>)\n",
      "tensor(0.0097, grad_fn=<AddBackward0>)\n",
      "tensor(0.0075, grad_fn=<AddBackward0>)\n",
      "tensor(0.0076, grad_fn=<AddBackward0>)\n",
      "tensor(0.0054, grad_fn=<AddBackward0>)\n",
      "tensor(0.0051, grad_fn=<AddBackward0>)\n",
      "tensor(0.0046, grad_fn=<AddBackward0>)\n",
      "tensor(0.0034, grad_fn=<AddBackward0>)\n",
      "tensor(0.0032, grad_fn=<AddBackward0>)\n",
      "tensor(0.0073, grad_fn=<AddBackward0>)\n",
      "tensor(0.0043, grad_fn=<AddBackward0>)\n",
      "tensor(0.0033, grad_fn=<AddBackward0>)\n",
      "tensor(0.0022, grad_fn=<AddBackward0>)\n",
      "tensor(0.0019, grad_fn=<AddBackward0>)\n",
      "tensor(0.0016, grad_fn=<AddBackward0>)\n",
      "tensor(0.0015, grad_fn=<AddBackward0>)\n",
      "tensor(0.0050, grad_fn=<AddBackward0>)\n",
      "tensor(0.0059, grad_fn=<AddBackward0>)\n",
      "tensor(0.0022, grad_fn=<AddBackward0>)\n",
      "tensor(0.0016, grad_fn=<AddBackward0>)\n",
      "tensor(0.0012, grad_fn=<AddBackward0>)\n",
      "tensor(0.0010, grad_fn=<AddBackward0>)\n",
      "tensor(0.0009, grad_fn=<AddBackward0>)\n",
      "tensor(0.0008, grad_fn=<AddBackward0>)\n",
      "tensor(0.0014, grad_fn=<AddBackward0>)\n",
      "tensor(0.0041, grad_fn=<AddBackward0>)\n",
      "tensor(0.0015, grad_fn=<AddBackward0>)\n",
      "tensor(0.0009, grad_fn=<AddBackward0>)\n",
      "tensor(0.0007, grad_fn=<AddBackward0>)\n",
      "tensor(0.0009, grad_fn=<AddBackward0>)\n",
      "tensor(0.0007, grad_fn=<AddBackward0>)\n",
      "tensor(0.0006, grad_fn=<AddBackward0>)\n",
      "tensor(0.0005, grad_fn=<AddBackward0>)\n",
      "tensor(0.0004, grad_fn=<AddBackward0>)\n",
      "tensor(0.0004, grad_fn=<AddBackward0>)\n",
      "tensor(0.0003, grad_fn=<AddBackward0>)\n",
      "tensor(0.0003, grad_fn=<AddBackward0>)\n",
      "tensor(0.0003, grad_fn=<AddBackward0>)\n",
      "tensor(0.0009, grad_fn=<AddBackward0>)\n",
      "tensor(0.0036, grad_fn=<AddBackward0>)\n",
      "tensor(0.0008, grad_fn=<AddBackward0>)\n",
      "tensor(0.0004, grad_fn=<AddBackward0>)\n",
      "tensor(0.0003, grad_fn=<AddBackward0>)\n",
      "tensor(0.0003, grad_fn=<AddBackward0>)\n",
      "tensor(0.0002, grad_fn=<AddBackward0>)\n",
      "tensor(0.0002, grad_fn=<AddBackward0>)\n",
      "tensor(0.0002, grad_fn=<AddBackward0>)\n",
      "tensor(0.0002, grad_fn=<AddBackward0>)\n",
      "tensor(0.0005, grad_fn=<AddBackward0>)\n",
      "tensor(0.0029, grad_fn=<AddBackward0>)\n",
      "tensor(0.0012, grad_fn=<AddBackward0>)\n",
      "tensor(0.0004, grad_fn=<AddBackward0>)\n",
      "tensor(0.0003, grad_fn=<AddBackward0>)\n",
      "tensor(0.0002, grad_fn=<AddBackward0>)\n",
      "tensor(0.0001, grad_fn=<AddBackward0>)\n",
      "tensor(0.0001, grad_fn=<AddBackward0>)\n",
      "tensor(0.0001, grad_fn=<AddBackward0>)\n",
      "tensor(0.0022, grad_fn=<AddBackward0>)\n",
      "tensor(0.0004, grad_fn=<AddBackward0>)\n",
      "tensor(0.0002, grad_fn=<AddBackward0>)\n",
      "tensor(0.0001, grad_fn=<AddBackward0>)\n",
      "tensor(8.9706e-05, grad_fn=<AddBackward0>)\n",
      "tensor(7.7167e-05, grad_fn=<AddBackward0>)\n",
      "tensor(7.2282e-05, grad_fn=<AddBackward0>)\n",
      "tensor(0.0001, grad_fn=<AddBackward0>)\n",
      "tensor(0.0042, grad_fn=<AddBackward0>)\n",
      "tensor(0.0009, grad_fn=<AddBackward0>)\n",
      "tensor(0.0003, grad_fn=<AddBackward0>)\n",
      "tensor(0.0001, grad_fn=<AddBackward0>)\n",
      "tensor(7.9157e-05, grad_fn=<AddBackward0>)\n",
      "tensor(6.0690e-05, grad_fn=<AddBackward0>)\n",
      "tensor(5.2405e-05, grad_fn=<AddBackward0>)\n",
      "tensor(5.0461e-05, grad_fn=<AddBackward0>)\n",
      "tensor(0.0002, grad_fn=<AddBackward0>)\n",
      "tensor(0.0004, grad_fn=<AddBackward0>)\n",
      "tensor(0.0001, grad_fn=<AddBackward0>)\n",
      "tensor(9.9103e-05, grad_fn=<AddBackward0>)\n",
      "tensor(7.1778e-05, grad_fn=<AddBackward0>)\n",
      "tensor(0.0006, grad_fn=<AddBackward0>)\n",
      "tensor(0.0001, grad_fn=<AddBackward0>)\n",
      "tensor(0.0002, grad_fn=<AddBackward0>)\n",
      "tensor(0.0001, grad_fn=<AddBackward0>)\n",
      "tensor(5.1935e-05, grad_fn=<AddBackward0>)\n",
      "tensor(3.7071e-05, grad_fn=<AddBackward0>)\n",
      "tensor(2.7292e-05, grad_fn=<AddBackward0>)\n",
      "tensor(2.4893e-05, grad_fn=<AddBackward0>)\n",
      "tensor(3.2860e-05, grad_fn=<AddBackward0>)\n",
      "tensor(0.0009, grad_fn=<AddBackward0>)\n",
      "tensor(0.0009, grad_fn=<AddBackward0>)\n",
      "tensor(0.0003, grad_fn=<AddBackward0>)\n",
      "tensor(7.5956e-05, grad_fn=<AddBackward0>)\n",
      "tensor(4.7764e-05, grad_fn=<AddBackward0>)\n",
      "tensor(2.6770e-05, grad_fn=<AddBackward0>)\n",
      "tensor(1.8221e-05, grad_fn=<AddBackward0>)\n",
      "tensor(1.5268e-05, grad_fn=<AddBackward0>)\n",
      "tensor(1.3452e-05, grad_fn=<AddBackward0>)\n",
      "tensor(1.2235e-05, grad_fn=<AddBackward0>)\n",
      "tensor(1.1219e-05, grad_fn=<AddBackward0>)\n",
      "tensor(1.0497e-05, grad_fn=<AddBackward0>)\n",
      "tensor(2.2384e-05, grad_fn=<AddBackward0>)\n",
      "tensor(0.0023, grad_fn=<AddBackward0>)\n",
      "tensor(0.0007, grad_fn=<AddBackward0>)\n",
      "tensor(0.0004, grad_fn=<AddBackward0>)\n",
      "tensor(0.0001, grad_fn=<AddBackward0>)\n",
      "tensor(4.7526e-05, grad_fn=<AddBackward0>)\n",
      "tensor(2.7346e-05, grad_fn=<AddBackward0>)\n",
      "tensor(0.0002, grad_fn=<AddBackward0>)\n",
      "tensor(0.0026, grad_fn=<AddBackward0>)\n",
      "tensor(0.0003, grad_fn=<AddBackward0>)\n",
      "tensor(0.0001, grad_fn=<AddBackward0>)\n",
      "tensor(6.8342e-05, grad_fn=<AddBackward0>)\n",
      "tensor(2.8071e-05, grad_fn=<AddBackward0>)\n",
      "tensor(1.4569e-05, grad_fn=<AddBackward0>)\n",
      "tensor(9.0283e-06, grad_fn=<AddBackward0>)\n",
      "tensor(6.8758e-06, grad_fn=<AddBackward0>)\n",
      "tensor(8.1670e-06, grad_fn=<AddBackward0>)\n",
      "tensor(0.0002, grad_fn=<AddBackward0>)\n",
      "tensor(0.0004, grad_fn=<AddBackward0>)\n",
      "tensor(0.0003, grad_fn=<AddBackward0>)\n",
      "tensor(6.1960e-05, grad_fn=<AddBackward0>)\n",
      "tensor(3.4679e-05, grad_fn=<AddBackward0>)\n",
      "tensor(1.4304e-05, grad_fn=<AddBackward0>)\n",
      "tensor(7.6386e-06, grad_fn=<AddBackward0>)\n",
      "tensor(4.1866e-06, grad_fn=<AddBackward0>)\n",
      "tensor(3.2339e-06, grad_fn=<AddBackward0>)\n",
      "tensor(2.8353e-06, grad_fn=<AddBackward0>)\n",
      "tensor(3.6834e-05, grad_fn=<AddBackward0>)\n",
      "tensor(0.0028, grad_fn=<AddBackward0>)\n",
      "tensor(0.0005, grad_fn=<AddBackward0>)\n",
      "tensor(0.0003, grad_fn=<AddBackward0>)\n",
      "tensor(8.9502e-05, grad_fn=<AddBackward0>)\n",
      "tensor(2.5103e-05, grad_fn=<AddBackward0>)\n",
      "tensor(1.0369e-05, grad_fn=<AddBackward0>)\n",
      "tensor(4.8751e-06, grad_fn=<AddBackward0>)\n",
      "tensor(2.9931e-06, grad_fn=<AddBackward0>)\n",
      "tensor(2.1054e-06, grad_fn=<AddBackward0>)\n",
      "tensor(1.6714e-06, grad_fn=<AddBackward0>)\n",
      "tensor(1.4038e-06, grad_fn=<AddBackward0>)\n",
      "tensor(1.1998e-06, grad_fn=<AddBackward0>)\n",
      "tensor(1.0536e-06, grad_fn=<AddBackward0>)\n",
      "tensor(9.3296e-07, grad_fn=<AddBackward0>)\n",
      "tensor(9.6174e-07, grad_fn=<AddBackward0>)\n",
      "tensor(1.0067e-05, grad_fn=<AddBackward0>)\n",
      "tensor(0.0013, grad_fn=<AddBackward0>)\n",
      "tensor(0.0010, grad_fn=<AddBackward0>)\n",
      "tensor(0.0002, grad_fn=<AddBackward0>)\n",
      "tensor(8.9538e-05, grad_fn=<AddBackward0>)\n",
      "tensor(2.6210e-05, grad_fn=<AddBackward0>)\n",
      "tensor(1.0504e-05, grad_fn=<AddBackward0>)\n",
      "tensor(5.6096e-06, grad_fn=<AddBackward0>)\n",
      "tensor(4.9346e-06, grad_fn=<AddBackward0>)\n",
      "tensor(0.0001, grad_fn=<AddBackward0>)\n",
      "tensor(0.0011, grad_fn=<AddBackward0>)\n",
      "tensor(0.0007, grad_fn=<AddBackward0>)\n",
      "tensor(0.0002, grad_fn=<AddBackward0>)\n",
      "tensor(3.7949e-05, grad_fn=<AddBackward0>)\n",
      "tensor(1.9509e-05, grad_fn=<AddBackward0>)\n",
      "tensor(8.1763e-06, grad_fn=<AddBackward0>)\n",
      "tensor(3.0302e-06, grad_fn=<AddBackward0>)\n",
      "tensor(1.0981e-06, grad_fn=<AddBackward0>)\n",
      "tensor(9.3353e-07, grad_fn=<AddBackward0>)\n",
      "tensor(2.3556e-06, grad_fn=<AddBackward0>)\n",
      "tensor(0.0002, grad_fn=<AddBackward0>)\n",
      "tensor(0.0003, grad_fn=<AddBackward0>)\n",
      "tensor(0.0002, grad_fn=<AddBackward0>)\n",
      "tensor(9.5728e-05, grad_fn=<AddBackward0>)\n",
      "tensor(1.8972e-05, grad_fn=<AddBackward0>)\n",
      "tensor(1.5840e-05, grad_fn=<AddBackward0>)\n",
      "tensor(1.0829e-05, grad_fn=<AddBackward0>)\n",
      "tensor(3.2728e-05, grad_fn=<AddBackward0>)\n",
      "tensor(0.0004, grad_fn=<AddBackward0>)\n",
      "tensor(0.0002, grad_fn=<AddBackward0>)\n",
      "tensor(6.3879e-05, grad_fn=<AddBackward0>)\n",
      "tensor(3.3739e-05, grad_fn=<AddBackward0>)\n",
      "tensor(2.0797e-05, grad_fn=<AddBackward0>)\n",
      "tensor(0.0001, grad_fn=<AddBackward0>)\n",
      "tensor(0.0008, grad_fn=<AddBackward0>)\n",
      "tensor(0.0002, grad_fn=<AddBackward0>)\n",
      "tensor(1.1299e-05, grad_fn=<AddBackward0>)\n",
      "tensor(2.3473e-05, grad_fn=<AddBackward0>)\n",
      "tensor(0.0002, grad_fn=<AddBackward0>)\n",
      "tensor(0.0004, grad_fn=<AddBackward0>)\n",
      "tensor(0.0003, grad_fn=<AddBackward0>)\n",
      "tensor(9.4878e-05, grad_fn=<AddBackward0>)\n",
      "tensor(3.2544e-05, grad_fn=<AddBackward0>)\n",
      "tensor(1.2060e-05, grad_fn=<AddBackward0>)\n"
     ]
    }
   ],
   "source": [
    "for i in range(epochs):\n",
    "    rnn.zero_grad()\n",
    "    total_loss = 0\n",
    "    hidden = rnn.init_hidden()\n",
    "    \n",
    "    for j in range(one_hot.size()[0]-1):\n",
    "        input = Variable(one_hot[j:j+1,:])\n",
    "        output, hidden = rnn.forward(input, hidden)\n",
    "        target = Variable(one_hot[j+1])\n",
    "        loss = loss_func(output.view(-1), target.view(-1))\n",
    "        total_loss += loss\n",
    "        input = output\n",
    "    \n",
    "    total_loss.backward()\n",
    "    optimizer.step()\n",
    "    \n",
    "    if i % 10 == 0:\n",
    "        print(total_loss)"
   ]
  },
  {
   "cell_type": "code",
   "execution_count": null,
   "metadata": {},
   "outputs": [],
   "source": []
  }
 ],
 "metadata": {
  "kernelspec": {
   "display_name": "Python 3",
   "language": "python",
   "name": "python3"
  },
  "language_info": {
   "codemirror_mode": {
    "name": "ipython",
    "version": 3
   },
   "file_extension": ".py",
   "mimetype": "text/x-python",
   "name": "python",
   "nbconvert_exporter": "python",
   "pygments_lexer": "ipython3",
   "version": "3.6.5"
  }
 },
 "nbformat": 4,
 "nbformat_minor": 2
}
