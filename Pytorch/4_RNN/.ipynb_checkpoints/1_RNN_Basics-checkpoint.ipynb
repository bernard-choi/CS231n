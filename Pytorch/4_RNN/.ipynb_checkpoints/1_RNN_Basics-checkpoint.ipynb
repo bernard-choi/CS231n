{
 "cells": [
  {
   "cell_type": "code",
   "execution_count": 8,
   "metadata": {},
   "outputs": [],
   "source": [
    "import torch\n",
    "import torch.nn as nn\n",
    "from torch.autograd import Variable"
   ]
  },
  {
   "cell_type": "code",
   "execution_count": 10,
   "metadata": {},
   "outputs": [],
   "source": [
    "# One hot ncoding for each char in 'hello'\n",
    "h = [1,0,0,0]\n",
    "e = [0,1,0,0]\n",
    "l = [0,0,1,0]\n",
    "o = [0,0,0,1]"
   ]
  },
  {
   "cell_type": "markdown",
   "metadata": {},
   "source": [
    "## nn.RNN"
   ]
  },
  {
   "cell_type": "code",
   "execution_count": 51,
   "metadata": {},
   "outputs": [
    {
     "name": "stdout",
     "output_type": "stream",
     "text": [
      "out size torch.Size([1, 1, 2]) hidden size torch.Size([1, 1, 2])\n",
      "out size torch.Size([1, 1, 2]) hidden size torch.Size([1, 1, 2])\n",
      "out size torch.Size([1, 1, 2]) hidden size torch.Size([1, 1, 2])\n",
      "out size torch.Size([1, 1, 2]) hidden size torch.Size([1, 1, 2])\n",
      "out size torch.Size([1, 1, 2]) hidden size torch.Size([1, 1, 2])\n"
     ]
    }
   ],
   "source": [
    "# One cell RNN input_dim (4) -> output_dim (2) sequence 5\n",
    "# batch_first를 해야 input이 들어갈때 (batch, seq_length, input_size)\n",
    "cell = nn.RNN(input_size = 4, hidden_size = 2, batch_first = True)\n",
    "\n",
    "# (num_layers * num_directions, batch, hidden_size) whether batch_first = True or False\n",
    "# num_layer = 1, batch = 1, hidden_size = 2\n",
    "hidden = Variable(torch.randn(1,1,2))\n",
    "\n",
    "# Seq_length = 1\n",
    "# Input: (batch, seq_len, input_size) when batch_first = True\n",
    "inputs = Variable(torch.Tensor([h,e,l,l,o]))\n",
    "for one in inputs:\n",
    "    one = one.view(1,1,-1)     ## [[[1,0,0,0]]] , -1은 n으로 생각\n",
    "    # Input: (batch, seq_len, input_size)\n",
    "    # cell 안에는 3차원의 데이터가 들어가야한다. hidden도 마찬가지\n",
    "    # Hidden : (num_layers*num_directions, batch, hidden_size)\n",
    "    out, hidden = cell(one, hidden)\n",
    "    print(\"out size\", out.size(),\"hidden size\", hidden.size())\n",
    "    \n",
    "# hidden_size 와 output_size가 다른 경우 Fully_Connected_layer를 하나 더 만들어준다. \n",
    "    "
   ]
  },
  {
   "cell_type": "code",
   "execution_count": 53,
   "metadata": {},
   "outputs": [
    {
     "name": "stdout",
     "output_type": "stream",
     "text": [
      "one input size torch.Size([1, 1, 4]) out size torch.Size([1, 1, 2])\n",
      "one input size torch.Size([1, 1, 4]) out size torch.Size([1, 1, 2])\n",
      "one input size torch.Size([1, 1, 4]) out size torch.Size([1, 1, 2])\n",
      "one input size torch.Size([1, 1, 4]) out size torch.Size([1, 1, 2])\n",
      "one input size torch.Size([1, 1, 4]) out size torch.Size([1, 1, 2])\n"
     ]
    }
   ],
   "source": [
    "# seq_length를 하나씩 줄수도 있다. \n",
    "for one in inputs:\n",
    "    one = one.view(1,1,-1)     ## [[[1,0,0,0]]]\n",
    "    #Input: (batch, seq_len, input_size)\n",
    "    out, hidden = cell(one, hidden)\n",
    "    print(\"one input size\", one.size(),\"out size\", out.size())\n",
    "  "
   ]
  },
  {
   "cell_type": "code",
   "execution_count": 20,
   "metadata": {},
   "outputs": [
    {
     "name": "stdout",
     "output_type": "stream",
     "text": [
      "sequence input size torch.Size([1, 5, 4]) out size torch.Size([1, 5, 2])\n"
     ]
    }
   ],
   "source": [
    "# Seq_length를 전체길이로 하는 경우 (seq_len= 5)\n",
    "# Input: batch, seq_len, input_size) when batch_first = True\n",
    "inputs = inputs.view(1,5,-1) # cell 들어가기전에 3차원 맞춰줌. batch_size = 1, seq_length = 5로\n",
    "out, hidden = cell(inputs, hidden)\n",
    "print(\"sequence input size\", inputs.size(), \"out size\", out.size())\n",
    "# seq_len = 5로 출력된다."
   ]
  },
  {
   "cell_type": "code",
   "execution_count": 57,
   "metadata": {},
   "outputs": [
    {
     "name": "stdout",
     "output_type": "stream",
     "text": [
      "torch.Size([1, 3, 2])\n"
     ]
    }
   ],
   "source": [
    "# 이번에는 Batch_size를 늘려보자. hello로 뿐만아니라 eolll lleel을 학습시킬 경우 hidden을 바꿔줘야함\n",
    "# Hidden : (num_layers * num_directions, batch, hidden_size)\n",
    "hidden = Variable(torch.randn(1,3,2))\n",
    "\n",
    "\n",
    "# Input:  (batch_size:3, seq_length:5, input_dim:4)\n",
    "# 4개가 5개가 3개 \n",
    "inputs = Variable(torch.Tensor([[h,e,l,l,o],\n",
    "                                [e,o,l,l,l],\n",
    "                                [l,l,e,e,l]]))"
   ]
  },
  {
   "cell_type": "code",
   "execution_count": 58,
   "metadata": {},
   "outputs": [
    {
     "name": "stdout",
     "output_type": "stream",
     "text": [
      "batch input size torch.Size([3, 5, 4]) out size torch.Size([3, 5, 2])\n"
     ]
    }
   ],
   "source": [
    "cell = nn.RNN(input_size = 4, hidden_size = 2, batch_first = True)\n",
    "\n",
    "# input: (batch, seq_len,, input_size)\n",
    "out, hidden = cell(inputs, hidden)\n",
    "print(\"batch input size\", inputs.size(), \"out size\", out.size())\n",
    "\n",
    "# batch_size가 3으로 바뀐거 확인"
   ]
  },
  {
   "cell_type": "markdown",
   "metadata": {},
   "source": [
    "우리가 보통 생성하는 __input__은 __(batch, seq_len, input_size)__이다.\n",
    "\n",
    "하지만 cell안에 넣을때 __default__는 __(seq_len, batch_size, input_size)__.\n",
    "\n",
    "만약 batch_first = True로 하면 그대로 넣으면된다,"
   ]
  },
  {
   "cell_type": "code",
   "execution_count": 59,
   "metadata": {},
   "outputs": [
    {
     "name": "stdout",
     "output_type": "stream",
     "text": [
      "batch input size torch.Size([5, 3, 4]) out size torch.Size([5, 3, 2])\n"
     ]
    }
   ],
   "source": [
    "cell = nn.RNN(input_size = 4, hidden_size = 2) \n",
    "# batch_first = True가 없으면 input을 transpose해줘야함\n",
    "\n",
    "inputs = inputs.transpose(dim0=0,dim1=1)\n",
    "out, hidden = cell(inputs, hidden)\n",
    "print(\"batch input size\", inputs.size(),\"out size\", out.size())\n",
    "## output size도 seq_length, batch_size, hidden_size가 된다. \n",
    "## size 형태가 바뀌었지만 똑같음. batch_size = 3, seq_length = 5, hidden_size = 2"
   ]
  }
 ],
 "metadata": {
  "kernelspec": {
   "display_name": "Python 3",
   "language": "python",
   "name": "python3"
  },
  "language_info": {
   "codemirror_mode": {
    "name": "ipython",
    "version": 3
   },
   "file_extension": ".py",
   "mimetype": "text/x-python",
   "name": "python",
   "nbconvert_exporter": "python",
   "pygments_lexer": "ipython3",
   "version": "3.6.5"
  }
 },
 "nbformat": 4,
 "nbformat_minor": 2
}
