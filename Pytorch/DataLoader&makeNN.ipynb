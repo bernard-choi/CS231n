{
 "cells": [
  {
   "cell_type": "markdown",
   "metadata": {},
   "source": [
    "DataLoader\n",
    "- 입력은 어떻게 정의해야 할까요?\n",
    "- batch나 epoch이나 이런건 어떻게...?\n",
    "- 전처리를 하고 싶은데...?\n",
    "- mnist, cifar-10 이런거말고 내 데이터를 넣고 싶은데...?"
   ]
  },
  {
   "cell_type": "markdown",
   "metadata": {},
   "source": [
    "torchvision에 있는 데이터 가져오기"
   ]
  },
  {
   "cell_type": "code",
   "execution_count": 1,
   "metadata": {},
   "outputs": [],
   "source": [
    "%matplotlib inline\n",
    "import matplotlib\n",
    "import matplotlib.pyplot as plt\n",
    "\n",
    "import torch\n",
    "import torch.nn as nn\n",
    "import torch.nn.functional as F\n",
    "from torch.autograd import Variable\n",
    "from torch.utils.data import Dataset, DataLoader\n",
    "\n",
    "import numpy as np\n",
    "\n",
    "import torchvision\n",
    "import torchvision.transforms as transforms ## 가지고 온 데이터 선처리\n",
    "                                            ## 여러개의 선처리 할꺼면 transdroms.Compose\n",
    "    \n",
    "    "
   ]
  },
  {
   "cell_type": "code",
   "execution_count": 6,
   "metadata": {},
   "outputs": [
    {
     "name": "stdout",
     "output_type": "stream",
     "text": [
      "Downloading https://www.cs.toronto.edu/~kriz/cifar-10-python.tar.gz to ./data\\cifar-10-python.tar.gz\n",
      "Failed download. Trying https -> http instead. Downloading http://www.cs.toronto.edu/~kriz/cifar-10-python.tar.gz to ./data\\cifar-10-python.tar.gz\n",
      "Files already downloaded and verified\n"
     ]
    }
   ],
   "source": [
    "transform = transforms.Compose([transforms.ToTensor(), ## 텐서형태로전환\n",
    "                                transforms.Normalize((0.5,0.5,0.5),(0.5,0.5,0.5))])\n",
    "\n",
    "## 각 함수의 작동원리을 알고 싶으면 https://pytorch.org/docs/stable/torchvision/transforms.html\n",
    "trainset = torchvision.datasets.CIFAR10(root = './data',\n",
    "                                        train = True, # False 는 testdata\n",
    "                                        download = True,\n",
    "                                        transform = transform) # 위에서 만든 tranform을 넣는다. 해당 변환 작업 진행\n",
    "\n",
    "testset = torchvision.datasets.CIFAR10(root = './data',\n",
    "                                       train = False,\n",
    "                                       download = True,\n",
    "                                       transform = transform)"
   ]
  },
  {
   "cell_type": "code",
   "execution_count": null,
   "metadata": {},
   "outputs": [],
   "source": [
    "trainloader = DataLoader(trainset, batch_size = 8, shuffle = True, num_workers = 2)\n",
    "# 실제로 network input은 8X3X32X32 shuffle : 섞어서 무작위로 , num_workers: CPU프로세서 개수\n",
    "testloader = DataLoader(testset, batch_size = 8, shuffle = Flase, num_workers = 2)\n"
   ]
  },
  {
   "cell_type": "code",
   "execution_count": 2,
   "metadata": {},
   "outputs": [],
   "source": [
    "classes = ('plane','car','bird','cat','deer','dog','frog','horse','ship','truck')"
   ]
  },
  {
   "cell_type": "code",
   "execution_count": null,
   "metadata": {},
   "outputs": [],
   "source": [
    "def imshow(img):\n",
    "    img = gimg/2 * 0.5 #unnormalize\n",
    "    np.img = img.numpy()\n",
    "    \n",
    "    plt.imshow(np.transpose(np_img,(1,2,0)))\n",
    "    \n",
    "    print(np_img.shape)\n",
    "    print((np.transpose(np_img,(1,2,0))).shape) # toTensor 에서 HWC -> CHW된걸 다시 HWC로"
   ]
  },
  {
   "cell_type": "code",
   "execution_count": null,
   "metadata": {},
   "outputs": [],
   "source": [
    "for n,(img, labels) in enumerate(trainloader):\n",
    "    print(n,img.shape,labels.shape)"
   ]
  }
 ],
 "metadata": {
  "kernelspec": {
   "display_name": "Python 3",
   "language": "python",
   "name": "python3"
  },
  "language_info": {
   "codemirror_mode": {
    "name": "ipython",
    "version": 3
   },
   "file_extension": ".py",
   "mimetype": "text/x-python",
   "name": "python",
   "nbconvert_exporter": "python",
   "pygments_lexer": "ipython3",
   "version": "3.6.5"
  }
 },
 "nbformat": 4,
 "nbformat_minor": 2
}
