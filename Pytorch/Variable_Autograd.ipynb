{
 "cells": [
  {
   "cell_type": "markdown",
   "metadata": {},
   "source": [
    "## Variable & Automatic Gradient Calculation"
   ]
  },
  {
   "cell_type": "markdown",
   "metadata": {},
   "source": [
    "- Tensor vs Variable\n",
    "- Graph and Gradient "
   ]
  },
  {
   "cell_type": "markdown",
   "metadata": {},
   "source": [
    "## 1. Import Required Libraries"
   ]
  },
  {
   "cell_type": "code",
   "execution_count": 1,
   "metadata": {},
   "outputs": [],
   "source": [
    "import torch\n",
    "from torch.autograd import Variable"
   ]
  },
  {
   "cell_type": "markdown",
   "metadata": {},
   "source": [
    "## 2. Tensor vs Variable"
   ]
  },
  {
   "cell_type": "markdown",
   "metadata": {},
   "source": [
    "### 1) Declaration"
   ]
  },
  {
   "cell_type": "code",
   "execution_count": 2,
   "metadata": {},
   "outputs": [
    {
     "data": {
      "text/plain": [
       "tensor([[1.3733e-14, 9.5680e+20, 7.2065e+31, 2.6301e+20],\n",
       "        [1.4601e-19, 6.4069e+02, 4.3066e+21, 1.1824e+22],\n",
       "        [4.3066e+21, 6.3828e+28, 3.8016e-39, 0.0000e+00]])"
      ]
     },
     "execution_count": 2,
     "metadata": {},
     "output_type": "execute_result"
    }
   ],
   "source": [
    "x_tensor = torch.Tensor(3,4)\n",
    "x_tensor\n",
    "x_tensor.data # 원래는 Variable로 감싸진 형태만 data를 받았는데 tensor도 이제 받는듯..?"
   ]
  },
  {
   "cell_type": "code",
   "execution_count": 8,
   "metadata": {},
   "outputs": [
    {
     "data": {
      "text/plain": [
       "tensor([[1.3733e-14, 9.5680e+20, 7.2065e+31, 2.6301e+20],\n",
       "        [1.4601e-19, 6.4069e+02, 4.3066e+21, 1.1824e+22],\n",
       "        [4.3066e+21, 6.3828e+28, 3.8016e-39, 0.0000e+00]])"
      ]
     },
     "execution_count": 8,
     "metadata": {},
     "output_type": "execute_result"
    }
   ],
   "source": [
    "x_variable = Variable(x_tensor)\n",
    "x_variable\n",
    "x_variable.data"
   ]
  },
  {
   "cell_type": "markdown",
   "metadata": {},
   "source": [
    "### 2) Variable of a Variable"
   ]
  },
  {
   "cell_type": "code",
   "execution_count": 9,
   "metadata": {},
   "outputs": [
    {
     "data": {
      "text/plain": [
       "tensor([[1.3733e-14, 9.5680e+20, 7.2065e+31, 2.6301e+20],\n",
       "        [1.4601e-19, 6.4069e+02, 4.3066e+21, 1.1824e+22],\n",
       "        [4.3066e+21, 6.3828e+28, 3.8016e-39, 0.0000e+00]])"
      ]
     },
     "execution_count": 9,
     "metadata": {},
     "output_type": "execute_result"
    }
   ],
   "source": [
    "# .data -> wrapped tensor\n",
    "x_variable.data"
   ]
  },
  {
   "cell_type": "code",
   "execution_count": 10,
   "metadata": {},
   "outputs": [
    {
     "name": "stdout",
     "output_type": "stream",
     "text": [
      "None\n"
     ]
    }
   ],
   "source": [
    "print(x_variable.grad) # 연산진행 X 따라서 None이 출력"
   ]
  },
  {
   "cell_type": "code",
   "execution_count": 11,
   "metadata": {},
   "outputs": [
    {
     "name": "stdout",
     "output_type": "stream",
     "text": [
      "False\n"
     ]
    },
    {
     "data": {
      "text/plain": [
       "True"
      ]
     },
     "execution_count": 11,
     "metadata": {},
     "output_type": "execute_result"
    }
   ],
   "source": [
    "# .requires grad -> whether variable requires gradient\n",
    "\n",
    "print(x_variable.requires_grad)                        # 처음에 안넣어줘서 False뜬다 \n",
    "x_variable = Variable(x_tensor, requires_grad = True)  # 그래디언트 계산이 돼고 안돼고를 설정\n",
    "x_variable.requires_grad"
   ]
  },
  {
   "cell_type": "markdown",
   "metadata": {},
   "source": [
    "## 3. Graph & Variables"
   ]
  },
  {
   "cell_type": "code",
   "execution_count": 30,
   "metadata": {},
   "outputs": [
    {
     "data": {
      "text/plain": [
       "(True, True, True)"
      ]
     },
     "execution_count": 30,
     "metadata": {},
     "output_type": "execute_result"
    }
   ],
   "source": [
    "# create graph\n",
    "\n",
    "x = Variable(torch.FloatTensor(3,4), requires_grad=True)\n",
    "y = x**2 + 4*x\n",
    "z = 2*y + 3\n",
    "\n",
    "x.requires_grad, y.requires_grad, z.requires_grad # gradient계산여부 다 True"
   ]
  },
  {
   "cell_type": "code",
   "execution_count": 31,
   "metadata": {},
   "outputs": [
    {
     "name": "stdout",
     "output_type": "stream",
     "text": [
      "tensor([[5.3395, 5.6302, 7.2208, 3.5229],\n",
      "        [4.7059, 0.2659, 7.7184, 2.7003],\n",
      "        [2.3630, 3.7341, 1.2561, 6.6380]])\n"
     ]
    },
    {
     "data": {
      "text/plain": [
       "(None, None)"
      ]
     },
     "execution_count": 31,
     "metadata": {},
     "output_type": "execute_result"
    }
   ],
   "source": [
    "# .backward(gradient, retain_graph, create_graph, retain_variables) 백프로파게이션 자동으로\n",
    "# compute gradient of current variable w.r.t. graph leaves\n",
    "\n",
    "loss = torch.rand(3,4)\n",
    "z.backward(loss)\n",
    "\n",
    "print(x.grad)\n",
    "y.grad, z.grad # 다 x로 이루어진 함수라 leaf node인 x에 대한 grad만 저장한다"
   ]
  },
  {
   "cell_type": "code",
   "execution_count": 28,
   "metadata": {},
   "outputs": [],
   "source": [
    "loss = torch.rand(3,4)"
   ]
  }
 ],
 "metadata": {
  "kernelspec": {
   "display_name": "Python 3",
   "language": "python",
   "name": "python3"
  },
  "language_info": {
   "codemirror_mode": {
    "name": "ipython",
    "version": 3
   },
   "file_extension": ".py",
   "mimetype": "text/x-python",
   "name": "python",
   "nbconvert_exporter": "python",
   "pygments_lexer": "ipython3",
   "version": "3.6.5"
  }
 },
 "nbformat": 4,
 "nbformat_minor": 2
}
