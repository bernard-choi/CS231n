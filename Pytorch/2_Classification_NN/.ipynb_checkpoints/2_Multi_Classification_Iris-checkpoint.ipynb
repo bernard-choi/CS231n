{
 "cells": [
  {
   "cell_type": "markdown",
   "metadata": {},
   "source": [
    "## Multiclass classification - iris\n",
    "- 이번에는 0, 1 분류가 아닌 multiclass분류\n",
    "- 먼저 간단한 iris data를 이용"
   ]
  },
  {
   "cell_type": "markdown",
   "metadata": {},
   "source": [
    "## 1. Import Required Libraries"
   ]
  },
  {
   "cell_type": "code",
   "execution_count": 1,
   "metadata": {},
   "outputs": [],
   "source": [
    "import torch\n",
    "import torch.nn as nn\n",
    "from torch.autograd import Variable\n",
    "import torch.optim as optim\n",
    "import numpy as np\n",
    "import random\n",
    "\n",
    "from sklearn.datasets import load_iris\n",
    "from sklearn.model_selection import train_test_split\n",
    "from sklearn.metrics import accuracy_score\n",
    "from sklearn.preprocessing import normalize\n",
    "\n",
    "from torch.utils.data import Dataset\n",
    "from torch.utils.data import DataLoader\n"
   ]
  },
  {
   "cell_type": "markdown",
   "metadata": {},
   "source": [
    "## 2. Generate Data"
   ]
  },
  {
   "cell_type": "code",
   "execution_count": 6,
   "metadata": {},
   "outputs": [
    {
     "name": "stdout",
     "output_type": "stream",
     "text": [
      "(150, 4)\n",
      "(150,)\n"
     ]
    }
   ],
   "source": [
    "# iris data를 불러옵니다. \n",
    "\n",
    "iris = load_iris()\n",
    "print(iris.data.shape)    # 150개의 data 4개의 feature\n",
    "print(iris.target.shape)  "
   ]
  },
  {
   "cell_type": "code",
   "execution_count": 9,
   "metadata": {},
   "outputs": [],
   "source": [
    "# train과 test set을 분리합니다.\n",
    "\n",
    "train_X, test_X, train_y, test_y = train_test_split(iris.data, iris.target, test_size=0.3)"
   ]
  },
  {
   "cell_type": "code",
   "execution_count": 13,
   "metadata": {},
   "outputs": [],
   "source": [
    "class makeData(Dataset):\n",
    "    def __init__(self,X_data, y_data):\n",
    "        self.X_data = X_data\n",
    "        self.y_data = y_data\n",
    "        \n",
    "    def __getitem__(self,index):\n",
    "        return self.X_data[index], self.y_data[index]\n",
    "    \n",
    "    def __len__(self):\n",
    "        return len(self.X_data)"
   ]
  },
  {
   "cell_type": "code",
   "execution_count": 14,
   "metadata": {},
   "outputs": [],
   "source": [
    "# normalize는 기본적으로 열(column)기준입니다\n",
    "train_data = makeData(np.array(normalize(train_X)), np.array(train_y))\n",
    "test_data = makeData(np.array(normalize(test_X)), np.array(test_y))"
   ]
  },
  {
   "cell_type": "code",
   "execution_count": 15,
   "metadata": {},
   "outputs": [
    {
     "data": {
      "text/plain": [
       "(array([0.76701103, 0.35063361, 0.51499312, 0.15340221]), 1)"
      ]
     },
     "execution_count": 15,
     "metadata": {},
     "output_type": "execute_result"
    }
   ],
   "source": [
    "train_data.__getitem__(0)"
   ]
  },
  {
   "cell_type": "code",
   "execution_count": 16,
   "metadata": {},
   "outputs": [
    {
     "data": {
      "text/plain": [
       "105"
      ]
     },
     "execution_count": 16,
     "metadata": {},
     "output_type": "execute_result"
    }
   ],
   "source": [
    "train_data.__len__()"
   ]
  },
  {
   "cell_type": "markdown",
   "metadata": {},
   "source": [
    "## 3. Model & Optimizer"
   ]
  },
  {
   "cell_type": "code",
   "execution_count": null,
   "metadata": {},
   "outputs": [],
   "source": [
    "class Multiclass_Classification(nn.Module):\n",
    "    def __init__(self,num_feature, num_class):\n",
    "        super(Multiclass_Classification, self).__init__()\n",
    "        \n",
    "        # 이전 예제에서는 __init__에 self만 있었습니다.\n",
    "        # 이제는 넣고 싶은 feature의 개수와 class를 자유롭게 하기 위해 변수로 지정합니다.\n",
    "        # Layer 역시 활성화 함수를 ReLU로 변경하고 Layer안에 넣어 좀 더 짧은 코드로 신경망을 구성해보았습니다.\n",
    "        \n",
    "        self.Layer_1 = nn.Sequential(\n",
    "                            nn.Linear(num_feature,100),\n",
    "                            nn.ReLU()\n",
    "                        )\n",
    "        \n",
    "        self.Layer_2 = nn.Sequential(\n",
    "                            nn.Linear(100,50),\n",
    "                            nn.ReLU()\n",
    "                        )\n",
    "        \n",
    "        self.Layer_3 = nn.Sequential(\n",
    "                            nn.Linear(50,30),\n",
    "                            nn.ReLU()\n",
    "                        )\n",
    "        \n",
    "        self.dropout = nn.Dropout(0.5)\n",
    "        \n",
    "        self.out = nn.Linear(30, num_class)\n",
    "        \n",
    "    def forward(self, inputs):\n",
    "        \n",
    "        x = self.Layer_1(inputs)\n",
    "        x = self.Layer_2(x)\n",
    "        x = self.dropout(x)\n",
    "        x = self.Layer_3(x)\n",
    "        x = self.dropout(x)\n",
    "        \n",
    "        x = self.out(x)\n",
    "        \n",
    "        return x\n",
    "    \n",
    "    def predict(self, test_inputs):\n",
    "        x = self.Layer_1(inputs)\n",
    "        x = self.Layer_2(x)\n",
    "        x = self.Layer_3(x)\n",
    "        \n",
    "        x = self.out(x)\n",
    "        \n",
    "        # 1차원의 최대값 위치들을 출력합니다\n",
    "        \n",
    "        return torch.max(x,1)[1]"
   ]
  }
 ],
 "metadata": {
  "kernelspec": {
   "display_name": "Python 3",
   "language": "python",
   "name": "python3"
  },
  "language_info": {
   "codemirror_mode": {
    "name": "ipython",
    "version": 3
   },
   "file_extension": ".py",
   "mimetype": "text/x-python",
   "name": "python",
   "nbconvert_exporter": "python",
   "pygments_lexer": "ipython3",
   "version": "3.6.5"
  }
 },
 "nbformat": 4,
 "nbformat_minor": 2
}
