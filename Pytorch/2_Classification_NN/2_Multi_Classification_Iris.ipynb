{
 "cells": [
  {
   "cell_type": "markdown",
   "metadata": {},
   "source": [
    "## Multiclass classification - iris\n",
    "- 이번에는 0, 1 분류가 아닌 multiclass분류\n",
    "- 먼저 간단한 iris data를 이용"
   ]
  },
  {
   "cell_type": "markdown",
   "metadata": {},
   "source": [
    "## 1. Import Required Libraries"
   ]
  },
  {
   "cell_type": "code",
   "execution_count": 1,
   "metadata": {},
   "outputs": [],
   "source": [
    "import torch\n",
    "import torch.nn as nn\n",
    "from torch.autograd import Variable\n",
    "import torch.optim as optim\n",
    "import numpy as np\n",
    "import random\n",
    "\n",
    "from sklearn.datasets import load_iris\n",
    "from sklearn.model_selection import train_test_split\n",
    "from sklearn.metrics import accuracy_score\n",
    "from sklearn.preprocessing import normalize\n",
    "\n",
    "from torch.utils.data import Dataset\n",
    "from torch.utils.data import DataLoader\n"
   ]
  },
  {
   "cell_type": "markdown",
   "metadata": {},
   "source": [
    "## 2. Generate Data"
   ]
  },
  {
   "cell_type": "code",
   "execution_count": 6,
   "metadata": {},
   "outputs": [
    {
     "name": "stdout",
     "output_type": "stream",
     "text": [
      "(150, 4)\n",
      "(150,)\n"
     ]
    }
   ],
   "source": [
    "# iris data를 불러옵니다. \n",
    "\n",
    "iris = load_iris()\n",
    "print(iris.data.shape)    # 150개의 data 4개의 feature\n",
    "print(iris.target.shape)  "
   ]
  },
  {
   "cell_type": "code",
   "execution_count": 9,
   "metadata": {},
   "outputs": [],
   "source": [
    "# train과 test set을 분리합니다.\n",
    "\n",
    "train_X, test_X, train_y, test_y = train_test_split(iris.data, iris.target, test_size=0.3)"
   ]
  },
  {
   "cell_type": "code",
   "execution_count": 24,
   "metadata": {},
   "outputs": [
    {
     "data": {
      "text/plain": [
       "array([[5.5, 3.5, 1.3, 0.2],\n",
       "       [5.7, 2.6, 3.5, 1. ],\n",
       "       [4.9, 3. , 1.4, 0.2],\n",
       "       [6.7, 3.1, 4.7, 1.5],\n",
       "       [5.3, 3.7, 1.5, 0.2],\n",
       "       [4.6, 3.2, 1.4, 0.2],\n",
       "       [5.6, 2.7, 4.2, 1.3],\n",
       "       [5. , 2. , 3.5, 1. ],\n",
       "       [5.1, 2.5, 3. , 1.1],\n",
       "       [6.8, 2.8, 4.8, 1.4],\n",
       "       [6. , 2.2, 4. , 1. ],\n",
       "       [7.2, 3.6, 6.1, 2.5],\n",
       "       [6.7, 3.3, 5.7, 2.1],\n",
       "       [5.1, 3.8, 1.9, 0.4],\n",
       "       [6.3, 2.5, 5. , 1.9],\n",
       "       [6.1, 2.8, 4. , 1.3],\n",
       "       [5.9, 3.2, 4.8, 1.8],\n",
       "       [6.4, 2.8, 5.6, 2.1],\n",
       "       [4.8, 3.1, 1.6, 0.2],\n",
       "       [6. , 2.7, 5.1, 1.6],\n",
       "       [6.3, 3.3, 6. , 2.5],\n",
       "       [4.9, 2.4, 3.3, 1. ],\n",
       "       [7.2, 3. , 5.8, 1.6],\n",
       "       [4.9, 3.1, 1.5, 0.1],\n",
       "       [5. , 3.5, 1.6, 0.6],\n",
       "       [7.3, 2.9, 6.3, 1.8],\n",
       "       [5.8, 2.7, 4.1, 1. ],\n",
       "       [4.6, 3.4, 1.4, 0.3],\n",
       "       [6.3, 3.4, 5.6, 2.4],\n",
       "       [5.6, 2.8, 4.9, 2. ],\n",
       "       [5.1, 3.8, 1.5, 0.3],\n",
       "       [5.2, 3.4, 1.4, 0.2],\n",
       "       [6.3, 2.3, 4.4, 1.3],\n",
       "       [6.4, 2.9, 4.3, 1.3],\n",
       "       [5.1, 3.5, 1.4, 0.2],\n",
       "       [5.5, 2.3, 4. , 1.3],\n",
       "       [4.4, 2.9, 1.4, 0.2],\n",
       "       [5.4, 3.4, 1.5, 0.4],\n",
       "       [6.5, 2.8, 4.6, 1.5],\n",
       "       [6. , 3. , 4.8, 1.8],\n",
       "       [6.4, 3.2, 5.3, 2.3],\n",
       "       [6.4, 2.7, 5.3, 1.9],\n",
       "       [6.2, 2.9, 4.3, 1.3],\n",
       "       [5.7, 3. , 4.2, 1.2],\n",
       "       [6.5, 3. , 5.8, 2.2]])"
      ]
     },
     "execution_count": 24,
     "metadata": {},
     "output_type": "execute_result"
    }
   ],
   "source": [
    "test_X"
   ]
  },
  {
   "cell_type": "code",
   "execution_count": 13,
   "metadata": {},
   "outputs": [],
   "source": [
    "class makeData(Dataset):\n",
    "    def __init__(self,X_data, y_data):\n",
    "        self.X_data = X_data\n",
    "        self.y_data = y_data\n",
    "        \n",
    "    def __getitem__(self,index):\n",
    "        return self.X_data[index], self.y_data[index]\n",
    "    \n",
    "    def __len__(self):\n",
    "        return len(self.X_data)"
   ]
  },
  {
   "cell_type": "code",
   "execution_count": 14,
   "metadata": {},
   "outputs": [],
   "source": [
    "# normalize는 기본적으로 열(column)기준입니다\n",
    "train_data = makeData(np.array(normalize(train_X)), np.array(train_y))\n",
    "test_data = makeData(np.array(normalize(test_X)), np.array(test_y))"
   ]
  },
  {
   "cell_type": "code",
   "execution_count": 15,
   "metadata": {},
   "outputs": [
    {
     "data": {
      "text/plain": [
       "(array([0.76701103, 0.35063361, 0.51499312, 0.15340221]), 1)"
      ]
     },
     "execution_count": 15,
     "metadata": {},
     "output_type": "execute_result"
    }
   ],
   "source": [
    "train_data.__getitem__(0)"
   ]
  },
  {
   "cell_type": "code",
   "execution_count": 16,
   "metadata": {},
   "outputs": [
    {
     "data": {
      "text/plain": [
       "105"
      ]
     },
     "execution_count": 16,
     "metadata": {},
     "output_type": "execute_result"
    }
   ],
   "source": [
    "train_data.__len__()"
   ]
  },
  {
   "cell_type": "markdown",
   "metadata": {},
   "source": [
    "## 3. Model & Optimizer"
   ]
  },
  {
   "cell_type": "code",
   "execution_count": 28,
   "metadata": {},
   "outputs": [],
   "source": [
    "class Multiclass_Classification(nn.Module):\n",
    "    def __init__(self,num_feature, num_class):\n",
    "        super(Multiclass_Classification, self).__init__()\n",
    "        \n",
    "        # 이전 예제에서는 __init__에 self만 있었습니다.\n",
    "        # 이제는 넣고 싶은 feature의 개수와 class를 자유롭게 하기 위해 변수로 지정합니다.\n",
    "        # Layer 역시 활성화 함수를 ReLU로 변경하고 Layer안에 넣어 좀 더 짧은 코드로 신경망을 구성해보았습니다.\n",
    "        \n",
    "        self.Layer_1 = nn.Sequential(\n",
    "                            nn.Linear(num_feature,100),\n",
    "                            nn.ReLU()\n",
    "                        )\n",
    "        \n",
    "        self.Layer_2 = nn.Sequential(\n",
    "                            nn.Linear(100,50),\n",
    "                            nn.ReLU()\n",
    "                        )\n",
    "        \n",
    "        self.Layer_3 = nn.Sequential(\n",
    "                            nn.Linear(50,30),\n",
    "                            nn.ReLU()\n",
    "                        )\n",
    "        \n",
    "        self.dropout = nn.Dropout(0.5)\n",
    "        \n",
    "        self.out = nn.Linear(30, num_class)\n",
    "        \n",
    "    def forward(self, inputs):\n",
    "        \n",
    "        x = self.Layer_1(inputs)\n",
    "        x = self.Layer_2(x)\n",
    "        x = self.dropout(x)\n",
    "        x = self.Layer_3(x)\n",
    "        x = self.dropout(x)\n",
    "        \n",
    "        x = self.out(x)\n",
    "        \n",
    "        return x\n",
    "    \n",
    "    def predict(self, test_inputs):\n",
    "        x = self.Layer_1(test_inputs)\n",
    "        x = self.Layer_2(x)\n",
    "        x = self.Layer_3(x)\n",
    "        \n",
    "        x = self.out(x)\n",
    "        \n",
    "        # 1차원의 최대값 위치들을 출력합니다\n",
    "        \n",
    "        return torch.max(x,1)[1]"
   ]
  },
  {
   "cell_type": "markdown",
   "metadata": {},
   "source": [
    "## 4. Training"
   ]
  },
  {
   "cell_type": "code",
   "execution_count": 29,
   "metadata": {},
   "outputs": [
    {
     "name": "stdout",
     "output_type": "stream",
     "text": [
      "tensor(1.1304, grad_fn=<NllLossBackward>)\n",
      "tensor(0.1356, grad_fn=<NllLossBackward>)\n",
      "tensor(0.0882, grad_fn=<NllLossBackward>)\n",
      "tensor(0.0079, grad_fn=<NllLossBackward>)\n",
      "tensor(0.1193, grad_fn=<NllLossBackward>)\n",
      "tensor(0.0584, grad_fn=<NllLossBackward>)\n",
      "tensor(0.1681, grad_fn=<NllLossBackward>)\n",
      "tensor(0.0190, grad_fn=<NllLossBackward>)\n",
      "tensor(0.0995, grad_fn=<NllLossBackward>)\n",
      "tensor(0.0501, grad_fn=<NllLossBackward>)\n"
     ]
    }
   ],
   "source": [
    "## 30개씩 1000번 학습시켜보겠습니다\n",
    "EPOCHS = 1000\n",
    "BATCH_SIZE = 30\n",
    "NUM_FEATURE = 4\n",
    "NUM_CLASS = 3\n",
    "\n",
    "model = Multiclass_Classification(NUM_FEATURE, NUM_CLASS)\n",
    "\n",
    "# pytorch 에서는 NLL loss + log softmax가 이미 적용되어있습니다. \n",
    "criterion = nn.CrossEntropyLoss()\n",
    "\n",
    "train_loader = DataLoader(dataset = train_data, batch_size = BATCH_SIZE, shuffle = True)\n",
    "\n",
    "optimizer = optim.Adam(model.parameters(), lr = 0.01)\n",
    "\n",
    "for epoch in range(EPOCHS):\n",
    "    \n",
    "    for X_batch, y_batch in train_loader:\n",
    "        \n",
    "        # torch.tensor는 기본적으로 float로 들어갑니다.\n",
    "        \n",
    "        inputs = torch.Tensor(X_batch.float())\n",
    "        targets = torch.LongTensor(y_batch.long()) # dummy로 들어가나?\n",
    "        model.zero_grad()\n",
    "        y_pred = model(inputs)\n",
    "        loss = criterion(y_pred, targets)\n",
    "        loss.backward()\n",
    "        optimizer.step()\n",
    "        \n",
    "    if epoch % 100 == 0:\n",
    "        print(loss)\n",
    "        "
   ]
  },
  {
   "cell_type": "markdown",
   "metadata": {},
   "source": [
    "## 5. Check Trained Parameters"
   ]
  },
  {
   "cell_type": "code",
   "execution_count": 34,
   "metadata": {},
   "outputs": [],
   "source": [
    "test_loader = DataLoader(dataset = test_data, batch_size = 1)\n",
    "\n",
    "test_y_true = []\n",
    "test_y_pred = []\n",
    "\n",
    "for X_batch, y_batch in test_loader:\n",
    "    inputs = torch.Tensor(X_batch.float())\n",
    "    test_y_true.append(y_batch.item())\n",
    "    y_pred = model.predict(inputs)\n",
    "    test_y_pred.append(int(y_pred.item()))"
   ]
  },
  {
   "cell_type": "code",
   "execution_count": 36,
   "metadata": {},
   "outputs": [
    {
     "name": "stdout",
     "output_type": "stream",
     "text": [
      "[0, 1, 0, 1, 0, 0, 1, 1, 1, 1, 1, 2, 2, 0, 2, 1, 2, 2, 0, 2, 2, 1, 1, 0, 0, 2, 1, 0, 2, 2, 0, 0, 1, 1, 0, 1, 0, 0, 1, 2, 2, 2, 1, 1, 2]\n"
     ]
    }
   ],
   "source": [
    "print(test_y_pred)"
   ]
  },
  {
   "cell_type": "code",
   "execution_count": 37,
   "metadata": {},
   "outputs": [
    {
     "name": "stdout",
     "output_type": "stream",
     "text": [
      "[0, 1, 0, 1, 0, 0, 1, 1, 1, 1, 1, 2, 2, 0, 2, 1, 1, 2, 0, 1, 2, 1, 2, 0, 0, 2, 1, 0, 2, 2, 0, 0, 1, 1, 0, 1, 0, 0, 1, 2, 2, 2, 1, 1, 2]\n"
     ]
    }
   ],
   "source": [
    "print(test_y_true)"
   ]
  },
  {
   "cell_type": "code",
   "execution_count": null,
   "metadata": {},
   "outputs": [],
   "source": [
    "metrics.accuracy_score(test)"
   ]
  }
 ],
 "metadata": {
  "kernelspec": {
   "display_name": "Python 3",
   "language": "python",
   "name": "python3"
  },
  "language_info": {
   "codemirror_mode": {
    "name": "ipython",
    "version": 3
   },
   "file_extension": ".py",
   "mimetype": "text/x-python",
   "name": "python",
   "nbconvert_exporter": "python",
   "pygments_lexer": "ipython3",
   "version": "3.6.5"
  }
 },
 "nbformat": 4,
 "nbformat_minor": 2
}
