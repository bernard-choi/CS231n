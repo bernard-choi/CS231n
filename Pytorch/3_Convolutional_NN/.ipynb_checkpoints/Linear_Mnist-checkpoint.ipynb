{
 "cells": [
  {
   "cell_type": "markdown",
   "metadata": {},
   "source": [
    "# Convolutional Neural Network\n",
    "\n",
    "- MNIST data\n",
    "- only fully connected layers"
   ]
  },
  {
   "cell_type": "markdown",
   "metadata": {},
   "source": [
    "## Settings\n",
    "\n",
    "### 1) Import required libraries\n"
   ]
  },
  {
   "cell_type": "code",
   "execution_count": 1,
   "metadata": {},
   "outputs": [],
   "source": [
    "import numpy as np\n",
    "import torch\n",
    "import torch.nn as nn\n",
    "import torch.optim as optim\n",
    "import torch.nn.init as init\n",
    "import torchvision.datasets as dset\n",
    "import torchvision.transforms as transforms\n",
    "from torch.utils.data import DataLoader\n",
    "from torch.autograd import Variable"
   ]
  },
  {
   "cell_type": "markdown",
   "metadata": {},
   "source": [
    "### 2) Set Hyperparameters"
   ]
  },
  {
   "cell_type": "code",
   "execution_count": null,
   "metadata": {},
   "outputs": [],
   "source": [
    "batch_size = 16\n",
    "learning_rate = 0.0002\n",
    "num_epoch = 10"
   ]
  },
  {
   "cell_type": "markdown",
   "metadata": {},
   "source": [
    "## Data Generation\n",
    "### 1) Download Data"
   ]
  },
  {
   "cell_type": "code",
   "execution_count": 3,
   "metadata": {},
   "outputs": [],
   "source": [
    "mnist_train = dset.MNIST(\"./\", train=True, transform=transforms.ToTensor(), target_transform=None, download=True)\n",
    "mnist_test = dset.MNIST(\"./\", train=False, transform=transforms.ToTensor(), target_transform=None, download=True)"
   ]
  },
  {
   "cell_type": "markdown",
   "metadata": {},
   "source": [
    "### 2) Check Dataset"
   ]
  },
  {
   "cell_type": "code",
   "execution_count": 7,
   "metadata": {},
   "outputs": [
    {
     "name": "stdout",
     "output_type": "stream",
     "text": [
      "tensor(5) 60000\n",
      "tensor(7) 10000\n"
     ]
    }
   ],
   "source": [
    "print(mnist_train.__getitem__(0)[1], mnist_train.__len__())\n",
    "print(mnist_test.__getitem__(0)[1], mnist_test.__len__())"
   ]
  },
  {
   "cell_type": "markdown",
   "metadata": {},
   "source": [
    "### 3) Set DataLoader"
   ]
  },
  {
   "cell_type": "code",
   "execution_count": 8,
   "metadata": {},
   "outputs": [],
   "source": [
    "train_loader = torch.utils.data.DataLoader(mnist_train,batch_size=batch_size, shuffle=True,num_workers=2,drop_last=True)\n",
    "test_loader = torch.utils.data.DataLoader(mnist_test,batch_size=batch_size, shuffle=False,num_workers=2,drop_last=True)"
   ]
  },
  {
   "cell_type": "markdown",
   "metadata": {},
   "source": [
    "## 4. Model & Optimizer\n",
    "\n",
    "### 1) CNN Model"
   ]
  },
  {
   "cell_type": "code",
   "execution_count": 11,
   "metadata": {},
   "outputs": [],
   "source": [
    "class Linear(nn.Module):\n",
    "    def __init__(self):\n",
    "        super(Linear, self).__init__()\n",
    "        self.layer = nn.Sequential(\n",
    "            nn.Linear(784,300),\n",
    "            nn.ReLU(),\n",
    "            nn.Linear(300,100),\n",
    "            nn.ReLU(),\n",
    "            nn.Linear(100,10),\n",
    "            nn.ReLU()\n",
    "        )\n",
    "        \n",
    "    def forward(self, x):\n",
    "        out = x.view(batch_size, -1)\n",
    "        out = self.layer(out)\n",
    "        \n",
    "        return out\n",
    "    \n",
    "model = Linear()"
   ]
  },
  {
   "cell_type": "code",
   "execution_count": 12,
   "metadata": {},
   "outputs": [],
   "source": [
    "### 2) Loss func & optimizer\n",
    "\n",
    "loss_func = nn.CrossEntropyLoss()\n",
    "optimizer = torch.optim.SGD(model.parameters(), lr = learning_rate)"
   ]
  },
  {
   "cell_type": "markdown",
   "metadata": {},
   "source": [
    "## 5. Train\n"
   ]
  },
  {
   "cell_type": "code",
   "execution_count": 14,
   "metadata": {},
   "outputs": [
    {
     "name": "stdout",
     "output_type": "stream",
     "text": [
      "0번째 epoch\n",
      "tensor(2.2450, grad_fn=<NllLossBackward>)\n",
      "tensor(2.1183, grad_fn=<NllLossBackward>)\n",
      "tensor(2.2221, grad_fn=<NllLossBackward>)\n",
      "tensor(2.0428, grad_fn=<NllLossBackward>)\n",
      "1번째 epoch\n",
      "tensor(2.1513, grad_fn=<NllLossBackward>)\n",
      "tensor(2.2229, grad_fn=<NllLossBackward>)\n",
      "tensor(2.2289, grad_fn=<NllLossBackward>)\n",
      "tensor(2.0290, grad_fn=<NllLossBackward>)\n",
      "2번째 epoch\n",
      "tensor(2.1026, grad_fn=<NllLossBackward>)\n",
      "tensor(2.1083, grad_fn=<NllLossBackward>)\n",
      "tensor(1.9799, grad_fn=<NllLossBackward>)\n",
      "tensor(2.0583, grad_fn=<NllLossBackward>)\n",
      "3번째 epoch\n",
      "tensor(2.1562, grad_fn=<NllLossBackward>)\n",
      "tensor(2.1068, grad_fn=<NllLossBackward>)\n",
      "tensor(2.1090, grad_fn=<NllLossBackward>)\n",
      "tensor(1.8513, grad_fn=<NllLossBackward>)\n",
      "4번째 epoch\n",
      "tensor(1.8996, grad_fn=<NllLossBackward>)\n",
      "tensor(2.0748, grad_fn=<NllLossBackward>)\n",
      "tensor(1.9903, grad_fn=<NllLossBackward>)\n",
      "tensor(1.5733, grad_fn=<NllLossBackward>)\n",
      "5번째 epoch\n",
      "tensor(1.9815, grad_fn=<NllLossBackward>)\n",
      "tensor(1.7044, grad_fn=<NllLossBackward>)\n",
      "tensor(1.8187, grad_fn=<NllLossBackward>)\n",
      "tensor(1.5458, grad_fn=<NllLossBackward>)\n",
      "6번째 epoch\n",
      "tensor(1.9070, grad_fn=<NllLossBackward>)\n",
      "tensor(1.6931, grad_fn=<NllLossBackward>)\n",
      "tensor(1.8546, grad_fn=<NllLossBackward>)\n",
      "tensor(2.0402, grad_fn=<NllLossBackward>)\n",
      "7번째 epoch\n",
      "tensor(1.7894, grad_fn=<NllLossBackward>)\n",
      "tensor(1.5795, grad_fn=<NllLossBackward>)\n",
      "tensor(1.7197, grad_fn=<NllLossBackward>)\n",
      "tensor(1.6286, grad_fn=<NllLossBackward>)\n",
      "8번째 epoch\n",
      "tensor(1.3113, grad_fn=<NllLossBackward>)\n",
      "tensor(2.0048, grad_fn=<NllLossBackward>)\n",
      "tensor(1.5613, grad_fn=<NllLossBackward>)\n",
      "tensor(1.8753, grad_fn=<NllLossBackward>)\n",
      "9번째 epoch\n",
      "tensor(1.2196, grad_fn=<NllLossBackward>)\n",
      "tensor(1.5770, grad_fn=<NllLossBackward>)\n",
      "tensor(1.3973, grad_fn=<NllLossBackward>)\n",
      "tensor(1.8165, grad_fn=<NllLossBackward>)\n"
     ]
    }
   ],
   "source": [
    "for i in range(num_epoch):\n",
    "    print(\"{}번째 epoch\".format(i))\n",
    "    for j, [image, label] in enumerate(train_loader):\n",
    "        x = Variable(image)\n",
    "        y_ = Variable(label)\n",
    "        \n",
    "        optimizer.zero_grad()\n",
    "        output = model.forward(x)\n",
    "        loss = loss_func(output, y_)\n",
    "        loss.backward()\n",
    "        optimizer.step()\n",
    "        \n",
    "        if j % 1000 == 0:\n",
    "            print(loss)"
   ]
  },
  {
   "cell_type": "code",
   "execution_count": 15,
   "metadata": {},
   "outputs": [
    {
     "name": "stderr",
     "output_type": "stream",
     "text": [
      "C:\\Users\\user\\Anaconda3\\lib\\site-packages\\ipykernel_launcher.py:5: UserWarning: volatile was removed and now has no effect. Use `with torch.no_grad():` instead.\n",
      "  \"\"\"\n"
     ]
    },
    {
     "name": "stdout",
     "output_type": "stream",
     "text": [
      "Accuracy of Test Data: 48.90999984741211\n"
     ]
    }
   ],
   "source": [
    "## 6. Test\n",
    "correct = 0\n",
    "total = 0\n",
    "for image, label in test_loader:\n",
    "    x = Variable(image, volatile = True)\n",
    "    y_ = Variable(label)\n",
    "    \n",
    "    output = model.forward(x)\n",
    "    _, output_index = torch.max(output,1)\n",
    "    \n",
    "    total += label.size(0)\n",
    "    correct += (output_index == y_).sum().float()\n",
    "    \n",
    "print(\"Accuracy of Test Data: {}\".format(100*correct/total))"
   ]
  }
 ],
 "metadata": {
  "kernelspec": {
   "display_name": "Python 3",
   "language": "python",
   "name": "python3"
  },
  "language_info": {
   "codemirror_mode": {
    "name": "ipython",
    "version": 3
   },
   "file_extension": ".py",
   "mimetype": "text/x-python",
   "name": "python",
   "nbconvert_exporter": "python",
   "pygments_lexer": "ipython3",
   "version": "3.6.5"
  }
 },
 "nbformat": 4,
 "nbformat_minor": 2
}
