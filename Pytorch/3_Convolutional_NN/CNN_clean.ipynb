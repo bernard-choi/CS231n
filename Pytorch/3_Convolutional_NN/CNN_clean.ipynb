{
 "cells": [
  {
   "cell_type": "markdown",
   "metadata": {},
   "source": [
    "## Convolutional Neural Network\n",
    "- MNIST data\n",
    "- 3 Convolutional layers\n",
    "- 2 fully conected layers"
   ]
  },
  {
   "cell_type": "markdown",
   "metadata": {},
   "source": [
    "## 1. Settings\n",
    "\n",
    "### 1) Import required libraries"
   ]
  },
  {
   "cell_type": "code",
   "execution_count": 2,
   "metadata": {},
   "outputs": [],
   "source": [
    "import numpy as np\n",
    "import torch\n",
    "import torch.nn as nn\n",
    "import torch.optim as optim\n",
    "import torch.nn.init as init\n",
    "import torchvision.datasets as dset\n",
    "import torchvision.transforms as transforms\n",
    "from torch.utils.data import DataLoader\n",
    "from torch.autograd import Variable"
   ]
  },
  {
   "cell_type": "markdown",
   "metadata": {},
   "source": [
    "### 2) Set hyperparameters"
   ]
  },
  {
   "cell_type": "code",
   "execution_count": 3,
   "metadata": {},
   "outputs": [],
   "source": [
    "batch_size = 16\n",
    "learning_rate = 0.0002\n",
    "num_epoch = 10"
   ]
  },
  {
   "cell_type": "markdown",
   "metadata": {},
   "source": [
    "## 2. Data\n",
    "\n",
    "### 1) Download Data"
   ]
  },
  {
   "cell_type": "code",
   "execution_count": 4,
   "metadata": {},
   "outputs": [
    {
     "name": "stdout",
     "output_type": "stream",
     "text": [
      "Downloading http://yann.lecun.com/exdb/mnist/train-images-idx3-ubyte.gz\n",
      "Downloading http://yann.lecun.com/exdb/mnist/train-labels-idx1-ubyte.gz\n",
      "Downloading http://yann.lecun.com/exdb/mnist/t10k-images-idx3-ubyte.gz\n",
      "Downloading http://yann.lecun.com/exdb/mnist/t10k-labels-idx1-ubyte.gz\n",
      "Processing...\n",
      "Done!\n"
     ]
    }
   ],
   "source": [
    "mnist_train = dset.MNIST(\"./\", train=True, transform=transforms.ToTensor(), target_transform=None, download=True)\n",
    "## pil 이미지를 텐서로, 0-9까지의 라벨값이라 바꿔주지 않았다. Download True는 데이터가 없으면 다운로드 하겠다는 뜻\n",
    "mnist_test = dset.MNIST(\"./\", train=False, transform=transforms.ToTensor(), target_transform=None, download=True)"
   ]
  },
  {
   "cell_type": "markdown",
   "metadata": {},
   "source": [
    "### 2) Check Dataset"
   ]
  },
  {
   "cell_type": "code",
   "execution_count": 5,
   "metadata": {},
   "outputs": [
    {
     "name": "stdout",
     "output_type": "stream",
     "text": [
      "torch.Size([1, 28, 28]) 60000\n",
      "torch.Size([1, 28, 28]) 10000\n"
     ]
    }
   ],
   "source": [
    "print(mnist_train.__getitem__(0)[0].size(), mnist_train.__len__()) ## train 개수 6만개\n",
    "print(mnist_test.__getitem__(0)[0].size(), mnist_test.__len__())   ## test개수 6만개"
   ]
  },
  {
   "cell_type": "code",
   "execution_count": 6,
   "metadata": {},
   "outputs": [],
   "source": [
    "img1, label1 = mnist_train.__getitem__(0)\n",
    "img2, label2 = mnist_test.__getitem__(0)"
   ]
  },
  {
   "cell_type": "code",
   "execution_count": 8,
   "metadata": {},
   "outputs": [
    {
     "name": "stdout",
     "output_type": "stream",
     "text": [
      "torch.Size([1, 28, 28]) tensor(5)\n",
      "torch.Size([1, 28, 28]) tensor(7)\n"
     ]
    }
   ],
   "source": [
    "print(img1.size(), label1) ## 첫번째 데이터는 라벨5 \n",
    "print(img1.size(), label2) ## 두번째 데이터는 라벨 7"
   ]
  },
  {
   "cell_type": "markdown",
   "metadata": {},
   "source": [
    "### 3) Set DataLoader"
   ]
  },
  {
   "cell_type": "code",
   "execution_count": 13,
   "metadata": {},
   "outputs": [],
   "source": [
    "## Dataloader를 통해서 batchsize만큼 묶는다.\n",
    "## shuffle = True , 섞어서 16개씩 묶는다. \n",
    "## for문으로 부르면 된다. \n",
    "\n",
    "train_loader = torch.utils.data.DataLoader(mnist_train,batch_size=batch_size, shuffle=True,num_workers=2,drop_last=True)\n",
    "test_loader = torch.utils.data.DataLoader(mnist_test,batch_size=batch_size, shuffle=False,num_workers=2,drop_last=True)"
   ]
  },
  {
   "cell_type": "markdown",
   "metadata": {},
   "source": [
    "## 3. Model & Optimizer\n",
    "\n",
    "### 1) CNN Model"
   ]
  },
  {
   "cell_type": "code",
   "execution_count": 14,
   "metadata": {},
   "outputs": [],
   "source": [
    "class CNN(nn.Module):\n",
    "    def __init__(self):\n",
    "        super(CNN, self).__init__()   # super는 상속받을때 한번만...?\n",
    "        self.layer = nn.Sequential(\n",
    "            nn.Conv2d(1,16,5),        # batch X 16 X 24 X 24\n",
    "            nn.ReLU(),\n",
    "            nn.Conv2d(16,32,5),       # batch X 32 X 20 X 20\n",
    "            nn.ReLU(),\n",
    "            nn.MaxPool2d(2,2),        # batch X 32 X 10 X 10\n",
    "            nn.Conv2d(32,64,5),       # batch X 64 X 6 X 6\n",
    "            nn.ReLU(),\n",
    "            nn.MaxPool2d(2,2)         # batch X 64 X 3 X 3\n",
    "        )\n",
    "        self.fc_layer = nn.Sequential(\n",
    "            nn.Linear(64*3*3,100),\n",
    "            nn.ReLU(),\n",
    "            nn.Linear(100,10)\n",
    "        )\n",
    "    def forward(self,x):               # Forward propagation\n",
    "        out = self.layer(x)\n",
    "        out = out.view(batch_size, -1) # FC전에 쫙 펴주는 부분. reshape로 생각하면된다. batchsize 빼고 나머지를 핀다. \n",
    "        out = self.fc_layer(out)\n",
    "        \n",
    "        return out\n",
    "    \n",
    "model = CNN()\n",
    "## model = CNN().cuda()  "
   ]
  },
  {
   "cell_type": "markdown",
   "metadata": {},
   "source": [
    "### 2) Loss func & Optimizer"
   ]
  },
  {
   "cell_type": "code",
   "execution_count": 15,
   "metadata": {},
   "outputs": [],
   "source": [
    "loss_func = nn.CrossEntropyLoss()\n",
    "optimizer =  torch.optim.SGD(model.parameters(), lr = learning_rate)"
   ]
  },
  {
   "cell_type": "markdown",
   "metadata": {},
   "source": [
    "## 4. Train"
   ]
  },
  {
   "cell_type": "code",
   "execution_count": 16,
   "metadata": {},
   "outputs": [
    {
     "name": "stdout",
     "output_type": "stream",
     "text": [
      "tensor(2.2996, grad_fn=<NllLossBackward>)\n",
      "tensor(2.2901, grad_fn=<NllLossBackward>)\n",
      "tensor(2.2928, grad_fn=<NllLossBackward>)\n",
      "tensor(2.2843, grad_fn=<NllLossBackward>)\n",
      "tensor(2.2936, grad_fn=<NllLossBackward>)\n",
      "tensor(2.2891, grad_fn=<NllLossBackward>)\n",
      "tensor(2.2888, grad_fn=<NllLossBackward>)\n",
      "tensor(2.2873, grad_fn=<NllLossBackward>)\n",
      "tensor(2.2774, grad_fn=<NllLossBackward>)\n",
      "tensor(2.2568, grad_fn=<NllLossBackward>)\n",
      "tensor(2.2413, grad_fn=<NllLossBackward>)\n",
      "tensor(2.2435, grad_fn=<NllLossBackward>)\n",
      "tensor(2.2039, grad_fn=<NllLossBackward>)\n",
      "tensor(2.1574, grad_fn=<NllLossBackward>)\n",
      "tensor(2.2078, grad_fn=<NllLossBackward>)\n",
      "tensor(1.9942, grad_fn=<NllLossBackward>)\n",
      "tensor(1.6938, grad_fn=<NllLossBackward>)\n",
      "tensor(1.2521, grad_fn=<NllLossBackward>)\n",
      "tensor(0.9622, grad_fn=<NllLossBackward>)\n",
      "tensor(1.1286, grad_fn=<NllLossBackward>)\n",
      "tensor(0.6144, grad_fn=<NllLossBackward>)\n",
      "tensor(0.7697, grad_fn=<NllLossBackward>)\n",
      "tensor(0.6317, grad_fn=<NllLossBackward>)\n",
      "tensor(0.6029, grad_fn=<NllLossBackward>)\n",
      "tensor(0.2989, grad_fn=<NllLossBackward>)\n",
      "tensor(0.9418, grad_fn=<NllLossBackward>)\n",
      "tensor(0.3425, grad_fn=<NllLossBackward>)\n",
      "tensor(0.5536, grad_fn=<NllLossBackward>)\n",
      "tensor(0.1944, grad_fn=<NllLossBackward>)\n",
      "tensor(0.2305, grad_fn=<NllLossBackward>)\n",
      "tensor(0.3079, grad_fn=<NllLossBackward>)\n",
      "tensor(0.3202, grad_fn=<NllLossBackward>)\n",
      "tensor(0.4897, grad_fn=<NllLossBackward>)\n",
      "tensor(0.6022, grad_fn=<NllLossBackward>)\n",
      "tensor(0.6201, grad_fn=<NllLossBackward>)\n",
      "tensor(0.8111, grad_fn=<NllLossBackward>)\n",
      "tensor(0.1622, grad_fn=<NllLossBackward>)\n",
      "tensor(0.0887, grad_fn=<NllLossBackward>)\n",
      "tensor(0.1116, grad_fn=<NllLossBackward>)\n",
      "tensor(0.2252, grad_fn=<NllLossBackward>)\n"
     ]
    }
   ],
   "source": [
    "for i in range(num_epoch):\n",
    "    for j,[image, label] in enumerate(train_loader):\n",
    "        x = Variable(image)\n",
    "        y_ = Variable(label)\n",
    "        \n",
    "        optimizer.zero_grad()\n",
    "        output = model.forward(x)\n",
    "        loss = loss_func(output, y_)\n",
    "        loss.backward()\n",
    "        optimizer.step()\n",
    "        \n",
    "        if j % 1000 ==0:\n",
    "            print(loss)"
   ]
  },
  {
   "cell_type": "markdown",
   "metadata": {},
   "source": [
    "## 5. Test"
   ]
  },
  {
   "cell_type": "code",
   "execution_count": 19,
   "metadata": {},
   "outputs": [
    {
     "name": "stderr",
     "output_type": "stream",
     "text": [
      "C:\\Users\\user\\Anaconda3\\lib\\site-packages\\ipykernel_launcher.py:5: UserWarning: volatile was removed and now has no effect. Use `with torch.no_grad():` instead.\n",
      "  \"\"\"\n"
     ]
    },
    {
     "name": "stdout",
     "output_type": "stream",
     "text": [
      "Accuracy of Test Data: 91.31999969482422\n"
     ]
    }
   ],
   "source": [
    "correct = 0\n",
    "total = 0\n",
    "\n",
    "for image, label in test_loader:\n",
    "    x = Variable(image, volatile=True)\n",
    "    y_ = Variable(label)\n",
    "    \n",
    "    output = model.forward(x)\n",
    "    _, output_index = torch.max(output,1)     \n",
    "    \n",
    "    total += label.size(0)\n",
    "    correct += (output_index == y_).sum().float()\n",
    "    \n",
    "    \n",
    "print(\"Accuracy of Test Data: {}\".format(100*correct/total))"
   ]
  }
 ],
 "metadata": {
  "kernelspec": {
   "display_name": "Python 3",
   "language": "python",
   "name": "python3"
  },
  "language_info": {
   "codemirror_mode": {
    "name": "ipython",
    "version": 3
   },
   "file_extension": ".py",
   "mimetype": "text/x-python",
   "name": "python",
   "nbconvert_exporter": "python",
   "pygments_lexer": "ipython3",
   "version": "3.6.5"
  }
 },
 "nbformat": 4,
 "nbformat_minor": 2
}
