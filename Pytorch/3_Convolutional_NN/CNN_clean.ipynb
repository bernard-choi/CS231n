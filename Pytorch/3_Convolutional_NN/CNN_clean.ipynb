{
 "cells": [
  {
   "cell_type": "markdown",
   "metadata": {},
   "source": [
    "## Convolutional Neural Network\n",
    "- MNIST data\n",
    "- 3 Convolutional layers\n",
    "- 2 fully conected layers"
   ]
  },
  {
   "cell_type": "markdown",
   "metadata": {},
   "source": [
    "## 1. Settings\n",
    "\n",
    "### 1) Import required libraries"
   ]
  },
  {
   "cell_type": "code",
   "execution_count": 2,
   "metadata": {},
   "outputs": [],
   "source": [
    "import numpy as np\n",
    "import torch\n",
    "import torch.nn as nn\n",
    "import torch.optim as optim\n",
    "import torch.nn.init as init\n",
    "import torchvision.datasets as dset\n",
    "import torchvision.transforms as transforms\n",
    "from torch.utils.data import DataLoader\n",
    "from torch.autograd import Variable"
   ]
  },
  {
   "cell_type": "markdown",
   "metadata": {},
   "source": [
    "### 2) Set hyperparameters"
   ]
  },
  {
   "cell_type": "code",
   "execution_count": 10,
   "metadata": {},
   "outputs": [],
   "source": [
    "batch_size = 16\n",
    "learning_rate = 0.0002\n",
    "num_epoch = 10"
   ]
  },
  {
   "cell_type": "markdown",
   "metadata": {},
   "source": [
    "## 2. Data\n",
    "\n",
    "### 1) Download Data"
   ]
  },
  {
   "cell_type": "code",
   "execution_count": 4,
   "metadata": {},
   "outputs": [],
   "source": [
    "mnist_train = dset.MNIST(\"./\", train=True, transform=transforms.ToTensor(), target_transform=None, download=True)\n",
    "mnist_test = dset.MNIST(\"./\", train=False, transform=transforms.ToTensor(), target_transform=None, download=True)"
   ]
  },
  {
   "cell_type": "markdown",
   "metadata": {},
   "source": [
    "### 2) Check Dataset"
   ]
  },
  {
   "cell_type": "code",
   "execution_count": 5,
   "metadata": {},
   "outputs": [
    {
     "name": "stdout",
     "output_type": "stream",
     "text": [
      "torch.Size([1, 28, 28]) 60000\n"
     ]
    },
    {
     "data": {
      "text/plain": [
       "(torch.Size([1, 28, 28]), 10000)"
      ]
     },
     "execution_count": 5,
     "metadata": {},
     "output_type": "execute_result"
    }
   ],
   "source": [
    "print(mnist_train.__getitem__(0)[0].size(), mnist_train.__len__())\n",
    "mnist_test.__getitem__(0)[0].size(), mnist_test.__len__()"
   ]
  },
  {
   "cell_type": "markdown",
   "metadata": {},
   "source": [
    "### 3) Set DataLoader"
   ]
  },
  {
   "cell_type": "code",
   "execution_count": 6,
   "metadata": {},
   "outputs": [],
   "source": [
    "train_loader = torch.utils.data.DataLoader(mnist_train,batch_size=batch_size, shuffle=True,num_workers=2,drop_last=True)\n",
    "test_loader = torch.utils.data.DataLoader(mnist_test,batch_size=batch_size, shuffle=False,num_workers=2,drop_last=True)"
   ]
  },
  {
   "cell_type": "markdown",
   "metadata": {},
   "source": [
    "## 3. Model & Optimizer\n",
    "\n",
    "### 1) CNN Model"
   ]
  },
  {
   "cell_type": "code",
   "execution_count": 11,
   "metadata": {},
   "outputs": [],
   "source": [
    "class CNN(nn.Module):\n",
    "    def __init__(self):\n",
    "        super(CNN, self).__init__()\n",
    "        self.layer = nn.Sequential(\n",
    "            nn.Conv2d(1,16,5),\n",
    "            nn.ReLU(),\n",
    "            nn.Conv2d(16,32,5),\n",
    "            nn.ReLU(),\n",
    "            nn.MaxPool2d(2,2),\n",
    "            nn.Conv2d(32,64,5),\n",
    "            nn.ReLU(),\n",
    "            nn.MaxPool2d(2,2)\n",
    "        )\n",
    "        self.fc_layer = nn.Sequential(\n",
    "            nn.Linear(64*3*3,100),\n",
    "            nn.ReLU(),\n",
    "            nn.Linear(100,10)\n",
    "        )\n",
    "    def forward(self,x):\n",
    "        out = self.layer(x)\n",
    "        out = out.view(batch_size, -1)\n",
    "        out = self.fc_layer(out)\n",
    "        \n",
    "        return out\n",
    "    \n",
    "model = CNN()\n",
    "        "
   ]
  },
  {
   "cell_type": "code",
   "execution_count": 12,
   "metadata": {},
   "outputs": [],
   "source": [
    "### 2) Loss func & Optimizer\n",
    "loss_func = nn.CrossEntropyLoss()\n",
    "optimizer =  torch.optim.SGD(model.parameters(), lr = learning_rate)"
   ]
  },
  {
   "cell_type": "markdown",
   "metadata": {},
   "source": [
    "## 4. Train"
   ]
  },
  {
   "cell_type": "code",
   "execution_count": 13,
   "metadata": {},
   "outputs": [
    {
     "name": "stdout",
     "output_type": "stream",
     "text": [
      "tensor(2.3018, grad_fn=<NllLossBackward>)\n",
      "tensor(2.3056, grad_fn=<NllLossBackward>)\n",
      "tensor(2.2933, grad_fn=<NllLossBackward>)\n",
      "tensor(2.3036, grad_fn=<NllLossBackward>)\n",
      "tensor(2.2970, grad_fn=<NllLossBackward>)\n",
      "tensor(2.2929, grad_fn=<NllLossBackward>)\n",
      "tensor(2.3001, grad_fn=<NllLossBackward>)\n",
      "tensor(2.3013, grad_fn=<NllLossBackward>)\n",
      "tensor(2.2822, grad_fn=<NllLossBackward>)\n",
      "tensor(2.2917, grad_fn=<NllLossBackward>)\n",
      "tensor(2.2774, grad_fn=<NllLossBackward>)\n",
      "tensor(2.3021, grad_fn=<NllLossBackward>)\n",
      "tensor(2.2922, grad_fn=<NllLossBackward>)\n",
      "tensor(2.2907, grad_fn=<NllLossBackward>)\n",
      "tensor(2.3234, grad_fn=<NllLossBackward>)\n",
      "tensor(2.2763, grad_fn=<NllLossBackward>)\n",
      "tensor(2.2943, grad_fn=<NllLossBackward>)\n",
      "tensor(2.2977, grad_fn=<NllLossBackward>)\n",
      "tensor(2.2692, grad_fn=<NllLossBackward>)\n",
      "tensor(2.2824, grad_fn=<NllLossBackward>)\n",
      "tensor(2.2653, grad_fn=<NllLossBackward>)\n",
      "tensor(2.2978, grad_fn=<NllLossBackward>)\n",
      "tensor(2.2750, grad_fn=<NllLossBackward>)\n",
      "tensor(2.2718, grad_fn=<NllLossBackward>)\n",
      "tensor(2.2565, grad_fn=<NllLossBackward>)\n",
      "tensor(2.2449, grad_fn=<NllLossBackward>)\n",
      "tensor(2.2309, grad_fn=<NllLossBackward>)\n",
      "tensor(2.1913, grad_fn=<NllLossBackward>)\n",
      "tensor(2.1994, grad_fn=<NllLossBackward>)\n",
      "tensor(2.1220, grad_fn=<NllLossBackward>)\n",
      "tensor(1.9261, grad_fn=<NllLossBackward>)\n",
      "tensor(1.7280, grad_fn=<NllLossBackward>)\n",
      "tensor(1.5368, grad_fn=<NllLossBackward>)\n",
      "tensor(0.8540, grad_fn=<NllLossBackward>)\n",
      "tensor(0.7032, grad_fn=<NllLossBackward>)\n",
      "tensor(1.1485, grad_fn=<NllLossBackward>)\n",
      "tensor(0.4559, grad_fn=<NllLossBackward>)\n",
      "tensor(0.3716, grad_fn=<NllLossBackward>)\n",
      "tensor(0.3727, grad_fn=<NllLossBackward>)\n",
      "tensor(0.2482, grad_fn=<NllLossBackward>)\n"
     ]
    }
   ],
   "source": [
    "for i in range(num_epoch):\n",
    "    for j,[image, label] in enumerate(train_loader):\n",
    "        x = Variable(image)\n",
    "        y_ = Variable(label)\n",
    "        \n",
    "        optimizer.zero_grad()\n",
    "        output = model.forward(x)\n",
    "        loss = loss_func(output, y_)\n",
    "        loss.backward()\n",
    "        optimizer.step()\n",
    "        \n",
    "        if j % 1000 ==0:\n",
    "            print(loss)"
   ]
  },
  {
   "cell_type": "markdown",
   "metadata": {},
   "source": [
    "## 5. Test"
   ]
  },
  {
   "cell_type": "code",
   "execution_count": 14,
   "metadata": {},
   "outputs": [
    {
     "name": "stderr",
     "output_type": "stream",
     "text": [
      "C:\\Users\\user\\Anaconda3\\lib\\site-packages\\ipykernel_launcher.py:5: UserWarning: volatile was removed and now has no effect. Use `with torch.no_grad():` instead.\n",
      "  \"\"\"\n"
     ]
    },
    {
     "name": "stdout",
     "output_type": "stream",
     "text": [
      "Accuracy of Test Data: 87.72000122070312\n"
     ]
    }
   ],
   "source": [
    "correct = 0\n",
    "total = 0\n",
    "\n",
    "for image, label in test_loader:\n",
    "    x = Variable(image, volatile=True)\n",
    "    y_ = Variable(label)\n",
    "    \n",
    "    output = model.forward(x)\n",
    "    _, output_index = torch.max(output,1)\n",
    "    \n",
    "    total += label.size(0)\n",
    "    correct += (output_index == y_).sum().float()\n",
    "    \n",
    "print(\"Accuracy of Test Data: {}\".format(100*correct/total))"
   ]
  },
  {
   "cell_type": "code",
   "execution_count": null,
   "metadata": {},
   "outputs": [],
   "source": []
  },
  {
   "cell_type": "code",
   "execution_count": null,
   "metadata": {},
   "outputs": [],
   "source": []
  },
  {
   "cell_type": "code",
   "execution_count": null,
   "metadata": {},
   "outputs": [],
   "source": []
  },
  {
   "cell_type": "code",
   "execution_count": null,
   "metadata": {},
   "outputs": [],
   "source": []
  },
  {
   "cell_type": "code",
   "execution_count": null,
   "metadata": {},
   "outputs": [],
   "source": []
  },
  {
   "cell_type": "code",
   "execution_count": null,
   "metadata": {},
   "outputs": [],
   "source": []
  }
 ],
 "metadata": {
  "kernelspec": {
   "display_name": "Python 3",
   "language": "python",
   "name": "python3"
  },
  "language_info": {
   "codemirror_mode": {
    "name": "ipython",
    "version": 3
   },
   "file_extension": ".py",
   "mimetype": "text/x-python",
   "name": "python",
   "nbconvert_exporter": "python",
   "pygments_lexer": "ipython3",
   "version": "3.6.5"
  }
 },
 "nbformat": 4,
 "nbformat_minor": 2
}
