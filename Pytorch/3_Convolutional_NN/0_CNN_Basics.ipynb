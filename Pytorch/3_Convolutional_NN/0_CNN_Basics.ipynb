{
 "cells": [
  {
   "cell_type": "markdown",
   "metadata": {},
   "source": [
    "## Convolutional Neural Network\n",
    "- MNIST data\n",
    "- Convolutional Layer\n",
    "- Pooling Layer"
   ]
  },
  {
   "cell_type": "markdown",
   "metadata": {},
   "source": [
    "## 1. Settings\n",
    "\n",
    "### 1) Import required libraries"
   ]
  },
  {
   "cell_type": "code",
   "execution_count": 1,
   "metadata": {},
   "outputs": [],
   "source": [
    "import torch\n",
    "import torch.nn as nn\n",
    "import torchvision.datasets as dset\n",
    "import torchvision.transforms as transforms\n",
    "from torch.autograd import Variable\n",
    "from torch.utils.data import DataLoader\n",
    "import matplotlib.pyplot as plt\n",
    "%matplotlib inline"
   ]
  },
  {
   "cell_type": "markdown",
   "metadata": {},
   "source": [
    "## 2. Data\n",
    "\n",
    "### 1) Download Data"
   ]
  },
  {
   "cell_type": "code",
   "execution_count": 3,
   "metadata": {},
   "outputs": [
    {
     "name": "stdout",
     "output_type": "stream",
     "text": [
      "Downloading http://yann.lecun.com/exdb/mnist/train-images-idx3-ubyte.gz\n",
      "Downloading http://yann.lecun.com/exdb/mnist/train-labels-idx1-ubyte.gz\n",
      "Downloading http://yann.lecun.com/exdb/mnist/t10k-images-idx3-ubyte.gz\n",
      "Downloading http://yann.lecun.com/exdb/mnist/t10k-labels-idx1-ubyte.gz\n",
      "Processing...\n",
      "Done!\n"
     ]
    }
   ],
   "source": [
    "mnist_train = dset.MNIST(\"./\", train=True, transform = transforms.ToTensor(), target_transform = None,download=True)"
   ]
  },
  {
   "cell_type": "code",
   "execution_count": 5,
   "metadata": {},
   "outputs": [
    {
     "name": "stdout",
     "output_type": "stream",
     "text": [
      "Dataset MNIST\n",
      "    Number of datapoints: 60000\n",
      "    Split: train\n",
      "    Root Location: ./\n",
      "    Transforms (if any): ToTensor()\n",
      "    Target Transforms (if any): None\n",
      "torch.Size([1, 28, 28]) tensor(5)\n",
      "torch.Size([1, 28, 28]) tensor(5)\n"
     ]
    }
   ],
   "source": [
    "### 2) Item\n",
    "print(mnist_train)\n",
    "\n",
    "# dataset.__getitem__(idx)\n",
    "image, label = mnist_train.__getitem__(0)\n",
    "print(image.size(), label)\n",
    "\n",
    "# dataset[idx]\n",
    "image, label = mnist_train[0]\n",
    "print(image.size(), label)"
   ]
  },
  {
   "cell_type": "code",
   "execution_count": 6,
   "metadata": {},
   "outputs": [
    {
     "name": "stdout",
     "output_type": "stream",
     "text": [
      "60000\n"
     ]
    },
    {
     "data": {
      "text/plain": [
       "60000"
      ]
     },
     "execution_count": 6,
     "metadata": {},
     "output_type": "execute_result"
    }
   ],
   "source": [
    "### 3) Length\n",
    "\n",
    "# dataset.__len__()\n",
    "print(mnist_train.__len__())\n",
    "\n",
    "# len(dataset)\n",
    "len(mnist_train)"
   ]
  },
  {
   "cell_type": "code",
   "execution_count": 8,
   "metadata": {},
   "outputs": [
    {
     "data": {
      "image/png": "[encoded data removed]",
      "text/plain": [
       "<Figure size 432x288 with 1 Axes>"
      ]
     },
     "metadata": {},
     "output_type": "display_data"
    },
    {
     "data": {
      "image/png": "[encoded data removed]",
      "text/plain": [
       "<Figure size 432x288 with 1 Axes>"
      ]
     },
     "metadata": {},
     "output_type": "display_data"
    },
    {
     "data": {
      "image/png": "[encoded data removed]",
      "text/plain": [
       "<Figure size 432x288 with 1 Axes>"
      ]
     },
     "metadata": {},
     "output_type": "display_data"
    }
   ],
   "source": [
    "#### 4) Show Image\n",
    "for i in range(3):\n",
    "    img = mnist_train[i][0].numpy()\n",
    "    plt.imshow(img[0], cmap = 'gray')\n",
    "    plt.show()"
   ]
  },
  {
   "cell_type": "markdown",
   "metadata": {},
   "source": [
    "### 3) Convolution Layer\n",
    "- torch.nn.Conv2d(in_channels, out_channels, kernel_size, stride = 1, padding = 0, dilation = 1, groups = 1, bias = True)\n",
    "- Channels\n",
    "- kernel size\n",
    "- Stride\n",
    "- Padding\n",
    "- [Batch, Channel, Height, Width]"
   ]
  },
  {
   "cell_type": "code",
   "execution_count": 15,
   "metadata": {},
   "outputs": [
    {
     "name": "stdout",
     "output_type": "stream",
     "text": [
      "torch.Size([1, 3, 26, 26])\n"
     ]
    },
    {
     "data": {
      "image/png": "[encoded data removed]",
      "text/plain": [
       "<Figure size 432x288 with 1 Axes>"
      ]
     },
     "metadata": {},
     "output_type": "display_data"
    },
    {
     "data": {
      "image/png": "[encoded data removed]",
      "text/plain": [
       "<Figure size 432x288 with 1 Axes>"
      ]
     },
     "metadata": {},
     "output_type": "display_data"
    },
    {
     "data": {
      "image/png": "[encoded data removed]",
      "text/plain": [
       "<Figure size 432x288 with 1 Axes>"
      ]
     },
     "metadata": {},
     "output_type": "display_data"
    }
   ],
   "source": [
    "#### 1) Channels\n",
    "image, label = mnist_train[0]\n",
    "image = image.view(-1, image.size()[0], image.size()[1], image.size()[2])\n",
    "\n",
    "conv_layer = nn.Conv2d(in_channels = 1, out_channels=3, kernel_size = 3)\n",
    "output = conv_layer(Variable(image))\n",
    "print(output.size())\n",
    "\n",
    "for i in range(3): # 3개의 activation map추출\n",
    "    plt.imshow(output[0,i,:,:].data.numpy(), cmap='gray')\n",
    "    plt.show()\n",
    "    \n",
    "    "
   ]
  },
  {
   "cell_type": "markdown",
   "metadata": {},
   "source": [
    "### 2) Kernel Size"
   ]
  },
  {
   "cell_type": "code",
   "execution_count": 16,
   "metadata": {},
   "outputs": [
    {
     "data": {
      "image/png": "[encoded data removed]",
      "text/plain": [
       "<Figure size 432x288 with 1 Axes>"
      ]
     },
     "metadata": {},
     "output_type": "display_data"
    },
    {
     "name": "stdout",
     "output_type": "stream",
     "text": [
      "torch.Size([1, 3, 28, 28])\n"
     ]
    }
   ],
   "source": [
    "conv_layer = nn.Conv2d(in_channels=1,out_channels=3,kernel_size=1) # kernel size 1이므로 그대로 출력\n",
    "output = conv_layer(Variable(image))\n",
    "plt.imshow(output[0,0,:,:].data.numpy(),cmap='gray')\n",
    "plt.show()\n",
    "print(output.size())"
   ]
  },
  {
   "cell_type": "code",
   "execution_count": 17,
   "metadata": {},
   "outputs": [
    {
     "data": {
      "image/png": "[encoded data removed]",
      "text/plain": [
       "<Figure size 432x288 with 1 Axes>"
      ]
     },
     "metadata": {},
     "output_type": "display_data"
    },
    {
     "name": "stdout",
     "output_type": "stream",
     "text": [
      "torch.Size([1, 3, 26, 26])\n"
     ]
    }
   ],
   "source": [
    "conv_layer = nn.Conv2d(in_channels=1,out_channels=3,kernel_size=3) # kernel size 3\n",
    "output = conv_layer(Variable(image))\n",
    "plt.imshow(output[0,0,:,:].data.numpy(),cmap='gray')\n",
    "plt.show()\n",
    "print(output.size())"
   ]
  },
  {
   "cell_type": "code",
   "execution_count": 18,
   "metadata": {},
   "outputs": [
    {
     "data": {
      "image/png": "[encoded data removed]",
      "text/plain": [
       "<Figure size 432x288 with 1 Axes>"
      ]
     },
     "metadata": {},
     "output_type": "display_data"
    },
    {
     "name": "stdout",
     "output_type": "stream",
     "text": [
      "torch.Size([1, 3, 24, 24])\n"
     ]
    }
   ],
   "source": [
    "conv_layer = nn.Conv2d(in_channels=1,out_channels=3,kernel_size=5) # kernel size 3\n",
    "output = conv_layer(Variable(image))\n",
    "plt.imshow(output[0,0,:,:].data.numpy(),cmap='gray')\n",
    "plt.show()\n",
    "print(output.size())"
   ]
  },
  {
   "cell_type": "code",
   "execution_count": 20,
   "metadata": {},
   "outputs": [
    {
     "data": {
      "image/png": "[encoded data removed]",
      "text/plain": [
       "<Figure size 432x288 with 1 Axes>"
      ]
     },
     "metadata": {},
     "output_type": "display_data"
    },
    {
     "name": "stdout",
     "output_type": "stream",
     "text": [
      "torch.Size([1, 3, 28, 28])\n"
     ]
    },
    {
     "data": {
      "image/png": "[encoded data removed]",
      "text/plain": [
       "<Figure size 432x288 with 1 Axes>"
      ]
     },
     "metadata": {},
     "output_type": "display_data"
    },
    {
     "name": "stdout",
     "output_type": "stream",
     "text": [
      "torch.Size([1, 3, 10, 10])\n"
     ]
    },
    {
     "data": {
      "image/png": "[encoded data removed]",
      "text/plain": [
       "<Figure size 432x288 with 1 Axes>"
      ]
     },
     "metadata": {},
     "output_type": "display_data"
    },
    {
     "name": "stdout",
     "output_type": "stream",
     "text": [
      "torch.Size([1, 3, 6, 6])\n"
     ]
    }
   ],
   "source": [
    "### 3_ Srride\n",
    "conv_layer = nn.Conv2d(in_channels=1,out_channels=3,kernel_size=1,stride=1)\n",
    "output = conv_layer(Variable(image))\n",
    "plt.imshow(output[0,0,:,:].data.numpy(),cmap='gray')\n",
    "plt.show()\n",
    "print(output.size())\n",
    "\n",
    "conv_layer = nn.Conv2d(in_channels=1,out_channels=3,kernel_size=1,stride=3)\n",
    "output = conv_layer(Variable(image))\n",
    "plt.imshow(output[0,0,:,:].data.numpy(),cmap='gray')\n",
    "plt.show()\n",
    "print(output.size())\n",
    "\n",
    "conv_layer = nn.Conv2d(in_channels=1,out_channels=3,kernel_size=1,stride=5)\n",
    "output = conv_layer(Variable(image))##\n",
    "plt.imshow(output[0,0,:,:].data.numpy(),cmap='gray')\n",
    "plt.show()\n",
    "print(output.size())\n",
    "\n"
   ]
  },
  {
   "cell_type": "code",
   "execution_count": 21,
   "metadata": {},
   "outputs": [
    {
     "data": {
      "image/png": "[encoded data removed]",
      "text/plain": [
       "<Figure size 432x288 with 1 Axes>"
      ]
     },
     "metadata": {},
     "output_type": "display_data"
    },
    {
     "name": "stdout",
     "output_type": "stream",
     "text": [
      "torch.Size([1, 3, 30, 30])\n"
     ]
    }
   ],
   "source": [
    "### 4) Padding\n",
    "conv_layer = nn.Conv2d(in_channels=1,out_channels=3,kernel_size=1,padding=1)\n",
    "output = conv_layer(Variable(image))\n",
    "plt.imshow(output[0,0,:,:].data.numpy(),cmap='gray')\n",
    "plt.show()\n",
    "print(output.size())"
   ]
  },
  {
   "cell_type": "code",
   "execution_count": 22,
   "metadata": {},
   "outputs": [
    {
     "data": {
      "image/png": "[encoded data removed]",
      "text/plain": [
       "<Figure size 432x288 with 1 Axes>"
      ]
     },
     "metadata": {},
     "output_type": "display_data"
    },
    {
     "name": "stdout",
     "output_type": "stream",
     "text": [
      "torch.Size([1, 3, 32, 32])\n"
     ]
    }
   ],
   "source": [
    "conv_layer = nn.Conv2d(in_channels=1,out_channels=3,kernel_size=1,padding=1)\n",
    "output = conv_layer(Variable(image))\n",
    "plt.imshow(output[0,0,:,:].data.numpy(),cmap='gray')\n",
    "plt.show()\n",
    "print(output.size())"
   ]
  },
  {
   "cell_type": "code",
   "execution_count": 23,
   "metadata": {},
   "outputs": [
    {
     "data": {
      "image/png": "[encoded data removed]",
      "text/plain": [
       "<Figure size 432x288 with 1 Axes>"
      ]
     },
     "metadata": {},
     "output_type": "display_data"
    },
    {
     "name": "stdout",
     "output_type": "stream",
     "text": [
      "torch.Size([1, 3, 28, 28])\n"
     ]
    }
   ],
   "source": [
    "conv_layer = nn.Conv2d(in_channels=1,out_channels=3,kernel_size=3,padding=1)\n",
    "output = conv_layer(Variable(image))\n",
    "plt.imshow(output[0,0,:,:].data.numpy(),cmap='gray')\n",
    "plt.show()\n",
    "print(output.size())"
   ]
  },
  {
   "cell_type": "code",
   "execution_count": 25,
   "metadata": {},
   "outputs": [
    {
     "data": {
      "image/png": "[encoded data removed]",
      "text/plain": [
       "<Figure size 432x288 with 1 Axes>"
      ]
     },
     "metadata": {},
     "output_type": "display_data"
    },
    {
     "name": "stdout",
     "output_type": "stream",
     "text": [
      "torch.Size([1, 3, 28, 28])\n"
     ]
    }
   ],
   "source": [
    "conv_layer = nn.Conv2d(in_channels=1,out_channels=3,kernel_size=5,padding=2)\n",
    "output = conv_layer(Variable(image))\n",
    "plt.imshow(output[0,0,:,:].data.numpy(),cmap='gray')\n",
    "plt.show()\n",
    "print(output.size())"
   ]
  }
 ],
 "metadata": {
  "kernelspec": {
   "display_name": "Python 3",
   "language": "python",
   "name": "python3"
  },
  "language_info": {
   "codemirror_mode": {
    "name": "ipython",
    "version": 3
   },
   "file_extension": ".py",
   "mimetype": "text/x-python",
   "name": "python",
   "nbconvert_exporter": "python",
   "pygments_lexer": "ipython3",
   "version": "3.6.5"
  }
 },
 "nbformat": 4,
 "nbformat_minor": 2
}
