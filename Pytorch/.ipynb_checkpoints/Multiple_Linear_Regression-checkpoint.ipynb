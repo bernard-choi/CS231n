{
 "cells": [
  {
   "cell_type": "markdown",
   "metadata": {},
   "source": [
    "## Multiple_Linear_Regression"
   ]
  },
  {
   "cell_type": "markdown",
   "metadata": {},
   "source": [
    "- 이번에는 multiple linear regression을 실제 데이터로 적용"
   ]
  },
  {
   "cell_type": "markdown",
   "metadata": {},
   "source": [
    "## 1. Import Required Libraries"
   ]
  },
  {
   "cell_type": "code",
   "execution_count": 146,
   "metadata": {},
   "outputs": [],
   "source": [
    "import pandas as pd\n",
    "import matplotlib.pylab as plt\n",
    "import numpy as np\n",
    "%matplotlib inline\n",
    "from sklearn.model_selection import train_test_split\n",
    "from sklearn.preprocessing import normalize\n",
    "\n",
    "import torch\n",
    "import torch.nn as nn\n",
    "from torch.autograd import Variable\n",
    "import torch.optim as optim\n",
    "import torch.nn.init as init"
   ]
  },
  {
   "cell_type": "markdown",
   "metadata": {},
   "source": [
    "## 2. Generate Data"
   ]
  },
  {
   "cell_type": "markdown",
   "metadata": {},
   "source": [
    "- 영화관람객 예측 모델링을 위한 전처리 완료된 데이터\n",
    "- 영화장르, 스크린수 등을 변수로 활용하여 first_week_audience 예측\n",
    "- train, test set을 7:3의 비율로 맞췄다"
   ]
  },
  {
   "cell_type": "code",
   "execution_count": 147,
   "metadata": {
    "scrolled": false
   },
   "outputs": [],
   "source": [
    "train = pd.read_csv(\"movie_data.csv\",encoding = 'euc-kr')\n",
    "test = pd.read_csv(\"test_data.csv\", encoding='euc-kr')"
   ]
  },
  {
   "cell_type": "code",
   "execution_count": 262,
   "metadata": {},
   "outputs": [
    {
     "data": {
      "text/html": [
       "<div>\n",
       "<style scoped>\n",
       "    .dataframe tbody tr th:only-of-type {\n",
       "        vertical-align: middle;\n",
       "    }\n",
       "\n",
       "    .dataframe tbody tr th {\n",
       "        vertical-align: top;\n",
       "    }\n",
       "\n",
       "    .dataframe thead th {\n",
       "        text-align: right;\n",
       "    }\n",
       "</style>\n",
       "<table border=\"1\" class=\"dataframe\">\n",
       "  <thead>\n",
       "    <tr style=\"text-align: right;\">\n",
       "      <th></th>\n",
       "      <th>title</th>\n",
       "      <th>first_week_audience</th>\n",
       "      <th>first_day_screen</th>\n",
       "      <th>drama</th>\n",
       "      <th>action</th>\n",
       "      <th>comedy</th>\n",
       "      <th>fantasy.SF</th>\n",
       "      <th>advanture</th>\n",
       "      <th>criminal.thrill</th>\n",
       "      <th>traditional</th>\n",
       "      <th>...</th>\n",
       "      <th>etc</th>\n",
       "      <th>series</th>\n",
       "      <th>holiday</th>\n",
       "      <th>actors</th>\n",
       "      <th>director</th>\n",
       "      <th>distributor_value</th>\n",
       "      <th>aud_18</th>\n",
       "      <th>korea</th>\n",
       "      <th>usa</th>\n",
       "      <th>first_day_aud</th>\n",
       "    </tr>\n",
       "  </thead>\n",
       "  <tbody>\n",
       "    <tr>\n",
       "      <th>0</th>\n",
       "      <td>무현,두도시이야기</td>\n",
       "      <td>25506</td>\n",
       "      <td>87</td>\n",
       "      <td>0</td>\n",
       "      <td>0</td>\n",
       "      <td>0</td>\n",
       "      <td>0</td>\n",
       "      <td>0</td>\n",
       "      <td>0</td>\n",
       "      <td>0</td>\n",
       "      <td>...</td>\n",
       "      <td>0</td>\n",
       "      <td>0</td>\n",
       "      <td>0</td>\n",
       "      <td>0</td>\n",
       "      <td>0</td>\n",
       "      <td>0</td>\n",
       "      <td>0</td>\n",
       "      <td>1</td>\n",
       "      <td>0</td>\n",
       "      <td>6374</td>\n",
       "    </tr>\n",
       "  </tbody>\n",
       "</table>\n",
       "<p>1 rows × 26 columns</p>\n",
       "</div>"
      ],
      "text/plain": [
       "       title  first_week_audience  first_day_screen  drama  action  comedy  \\\n",
       "0  무현,두도시이야기                25506                87      0       0       0   \n",
       "\n",
       "   fantasy.SF  advanture  criminal.thrill  traditional      ...        etc  \\\n",
       "0           0          0                0            0      ...          0   \n",
       "\n",
       "   series  holiday  actors  director  distributor_value  aud_18  korea  usa  \\\n",
       "0       0        0       0         0                  0       0      1    0   \n",
       "\n",
       "   first_day_aud  \n",
       "0           6374  \n",
       "\n",
       "[1 rows x 26 columns]"
      ]
     },
     "execution_count": 262,
     "metadata": {},
     "output_type": "execute_result"
    }
   ],
   "source": [
    "train.head(1) # 첫번쨰 변수인 first_week_audience가 target변수 \n",
    "              # shape (566, 26)"
   ]
  },
  {
   "cell_type": "code",
   "execution_count": 148,
   "metadata": {},
   "outputs": [],
   "source": [
    "train_X = train.iloc[:,2:]\n",
    "train_y = train.iloc[:,1]\n",
    "test_X = test.iloc[:,2:]\n",
    "test_y = test.iloc[:,1]"
   ]
  },
  {
   "cell_type": "markdown",
   "metadata": {},
   "source": [
    "## 3. Model & Optimizer"
   ]
  },
  {
   "cell_type": "code",
   "execution_count": 242,
   "metadata": {},
   "outputs": [],
   "source": [
    "from torch.utils.data import Dataset\n",
    "from torch.utils.data import DataLoader\n",
    "\n",
    "class makeData(Dataset):\n",
    "    def __init__(self, X_data, y_data):\n",
    "        self.X_data = X_data\n",
    "        self.y_data = y_data\n",
    "        \n",
    "    def __getitem__(self, index):\n",
    "        return (self.X_data[index], self.y_data[index])\n",
    "    \n",
    "    def __len__(self):\n",
    "        return len(self.y_data)\n",
    "    \n",
    "train_data = makeData(np.array(normalize(train_X)), np.array(train_y/10000)) # X랑 y값이 차이가 너무 많이 나서 y를 10000으로 나눴다. X도 Normalize해줬다\n",
    "test_data = makeData(np.array(normalize(test_X)), np.array(test_y/10000))"
   ]
  },
  {
   "cell_type": "code",
   "execution_count": 243,
   "metadata": {},
   "outputs": [],
   "source": [
    "class MultipleLinearRegression(nn.Module):\n",
    "    def __init__(self, feature_size):\n",
    "        super(MultipleLinearRegression, self).__init__()\n",
    "        self.Layer = nn.Linear(feature_size, 1)\n",
    "        \n",
    "        # 이 부분에서 x feature가 여러개 들어가기 때문에\n",
    "        # simple linear regression과 달리 1을 feature_size로 바꿔준다.\n",
    "        \n",
    "    def forward(self, inputs):\n",
    "        x = self.Layer(inputs)\n",
    "        return x.squeeze(1)\n",
    "    \n",
    "    def predict(self,test_input):\n",
    "        x = self.Layer(test_input)\n",
    "        return x"
   ]
  },
  {
   "cell_type": "code",
   "execution_count": 245,
   "metadata": {},
   "outputs": [
    {
     "data": {
      "text/plain": [
       "24"
      ]
     },
     "execution_count": 245,
     "metadata": {},
     "output_type": "execute_result"
    }
   ],
   "source": [
    "X_train.shape[1]"
   ]
  },
  {
   "cell_type": "markdown",
   "metadata": {},
   "source": [
    "## 3. Train"
   ]
  },
  {
   "cell_type": "code",
   "execution_count": 259,
   "metadata": {},
   "outputs": [
    {
     "name": "stdout",
     "output_type": "stream",
     "text": [
      "tensor(3440.0232, grad_fn=<MseLossBackward>)\n",
      "tensor(16388.7129, grad_fn=<MseLossBackward>)\n",
      "tensor(3674.8027, grad_fn=<MseLossBackward>)\n",
      "tensor(1760.2246, grad_fn=<MseLossBackward>)\n",
      "tensor(1754.8363, grad_fn=<MseLossBackward>)\n",
      "tensor(2506.0491, grad_fn=<MseLossBackward>)\n",
      "tensor(2805.9155, grad_fn=<MseLossBackward>)\n",
      "tensor(4058.4412, grad_fn=<MseLossBackward>)\n",
      "tensor(4626.1694, grad_fn=<MseLossBackward>)\n",
      "tensor(3399.8247, grad_fn=<MseLossBackward>)\n",
      "tensor(24177.1230, grad_fn=<MseLossBackward>)\n",
      "tensor(1377.2793, grad_fn=<MseLossBackward>)\n",
      "tensor(2698.2913, grad_fn=<MseLossBackward>)\n",
      "tensor(1742.1505, grad_fn=<MseLossBackward>)\n",
      "tensor(16667.0996, grad_fn=<MseLossBackward>)\n",
      "tensor(7199.3086, grad_fn=<MseLossBackward>)\n",
      "tensor(2969.4246, grad_fn=<MseLossBackward>)\n",
      "tensor(4496.7173, grad_fn=<MseLossBackward>)\n",
      "tensor(3011.6709, grad_fn=<MseLossBackward>)\n",
      "tensor(16270.9160, grad_fn=<MseLossBackward>)\n",
      "tensor(23901.3828, grad_fn=<MseLossBackward>)\n",
      "tensor(3179.5247, grad_fn=<MseLossBackward>)\n",
      "tensor(9293.6592, grad_fn=<MseLossBackward>)\n",
      "tensor(3886.8545, grad_fn=<MseLossBackward>)\n",
      "tensor(6478.8110, grad_fn=<MseLossBackward>)\n",
      "tensor(8742.6074, grad_fn=<MseLossBackward>)\n",
      "tensor(1881.0752, grad_fn=<MseLossBackward>)\n",
      "tensor(3732.0752, grad_fn=<MseLossBackward>)\n",
      "tensor(5003.7222, grad_fn=<MseLossBackward>)\n",
      "tensor(5370.6592, grad_fn=<MseLossBackward>)\n",
      "tensor(7419.0708, grad_fn=<MseLossBackward>)\n",
      "tensor(2387.2036, grad_fn=<MseLossBackward>)\n",
      "tensor(2446.3169, grad_fn=<MseLossBackward>)\n",
      "tensor(15113.4814, grad_fn=<MseLossBackward>)\n",
      "tensor(4968.6060, grad_fn=<MseLossBackward>)\n",
      "tensor(2908.9109, grad_fn=<MseLossBackward>)\n",
      "tensor(1820.6714, grad_fn=<MseLossBackward>)\n",
      "tensor(1955.2047, grad_fn=<MseLossBackward>)\n",
      "tensor(1529.0601, grad_fn=<MseLossBackward>)\n",
      "tensor(3056.5989, grad_fn=<MseLossBackward>)\n",
      "tensor(2311.8247, grad_fn=<MseLossBackward>)\n",
      "tensor(1927.6289, grad_fn=<MseLossBackward>)\n",
      "tensor(2808.0740, grad_fn=<MseLossBackward>)\n",
      "tensor(3794.4580, grad_fn=<MseLossBackward>)\n",
      "tensor(2063.2720, grad_fn=<MseLossBackward>)\n",
      "tensor(3291.9368, grad_fn=<MseLossBackward>)\n",
      "tensor(5763.5376, grad_fn=<MseLossBackward>)\n",
      "tensor(3265.0112, grad_fn=<MseLossBackward>)\n",
      "tensor(2320.0159, grad_fn=<MseLossBackward>)\n",
      "tensor(2434.9211, grad_fn=<MseLossBackward>)\n"
     ]
    }
   ],
   "source": [
    "EPOCHS = 5000\n",
    "BATCH_SIZE = 50\n",
    "FEATURE_SIZE = X_train.shape[1]\n",
    "\n",
    "model = MultipleLinearRegression(FEATURE_SIZE)\n",
    "criterion = nn.MSELoss()\n",
    "optimizer = optim.Adam(model.parameters(), lr = 0.1)\n",
    "\n",
    "train_batch = DataLoader(dataset = train_data, batch_size = BATCH_SIZE, shuffle=True)\n",
    "for epoch in range(EPOCHS):\n",
    "    for X_batch, y_batch in train_batch:\n",
    "        inputs = torch.Tensor(X_batch.float())\n",
    "        targets = torch.Tensor(y_batch.float())\n",
    "        model.zero_grad()\n",
    "        y_pred = model(inputs)\n",
    "        loss = criterion(y_pred, targets)\n",
    "        loss.backward()\n",
    "        optimizer.step()\n",
    "\n",
    "    if epoch % 100 == 0:\n",
    "        print(loss)        "
   ]
  },
  {
   "cell_type": "markdown",
   "metadata": {},
   "source": [
    "## 4. Check Trained Parameters"
   ]
  },
  {
   "cell_type": "code",
   "execution_count": 260,
   "metadata": {},
   "outputs": [],
   "source": [
    "y_pred = model.predict(torch.Tensor(normalize(test_X)))"
   ]
  },
  {
   "cell_type": "code",
   "execution_count": 261,
   "metadata": {},
   "outputs": [
    {
     "data": {
      "text/plain": [
       "tensor([[84.9523],\n",
       "        [87.3396],\n",
       "        [70.6623],\n",
       "        [ 9.3569],\n",
       "        [54.0811]], grad_fn=<AddmmBackward>)"
      ]
     },
     "execution_count": 261,
     "metadata": {},
     "output_type": "execute_result"
    }
   ],
   "source": [
    "y_pred"
   ]
  },
  {
   "cell_type": "code",
   "execution_count": 280,
   "metadata": {},
   "outputs": [
    {
     "data": {
      "text/html": [
       "<div>\n",
       "<style scoped>\n",
       "    .dataframe tbody tr th:only-of-type {\n",
       "        vertical-align: middle;\n",
       "    }\n",
       "\n",
       "    .dataframe tbody tr th {\n",
       "        vertical-align: top;\n",
       "    }\n",
       "\n",
       "    .dataframe thead th {\n",
       "        text-align: right;\n",
       "    }\n",
       "</style>\n",
       "<table border=\"1\" class=\"dataframe\">\n",
       "  <thead>\n",
       "    <tr style=\"text-align: right;\">\n",
       "      <th></th>\n",
       "      <th>title</th>\n",
       "      <th>first_week_audience</th>\n",
       "      <th>predicted</th>\n",
       "    </tr>\n",
       "  </thead>\n",
       "  <tbody>\n",
       "    <tr>\n",
       "      <th>0</th>\n",
       "      <td>대호</td>\n",
       "      <td>87.0751</td>\n",
       "      <td>84.952286</td>\n",
       "    </tr>\n",
       "    <tr>\n",
       "      <th>1</th>\n",
       "      <td>공조</td>\n",
       "      <td>142.8021</td>\n",
       "      <td>87.339554</td>\n",
       "    </tr>\n",
       "    <tr>\n",
       "      <th>2</th>\n",
       "      <td>플립</td>\n",
       "      <td>17.3194</td>\n",
       "      <td>70.662315</td>\n",
       "    </tr>\n",
       "    <tr>\n",
       "      <th>3</th>\n",
       "      <td>더보이</td>\n",
       "      <td>5.3313</td>\n",
       "      <td>9.356888</td>\n",
       "    </tr>\n",
       "    <tr>\n",
       "      <th>4</th>\n",
       "      <td>갤로우즈</td>\n",
       "      <td>7.9294</td>\n",
       "      <td>54.081051</td>\n",
       "    </tr>\n",
       "  </tbody>\n",
       "</table>\n",
       "</div>"
      ],
      "text/plain": [
       "  title  first_week_audience  predicted\n",
       "0    대호              87.0751  84.952286\n",
       "1    공조             142.8021  87.339554\n",
       "2    플립              17.3194  70.662315\n",
       "3   더보이               5.3313   9.356888\n",
       "4  갤로우즈               7.9294  54.081051"
      ]
     },
     "execution_count": 280,
     "metadata": {},
     "output_type": "execute_result"
    }
   ],
   "source": [
    "final = test.iloc[:,:2]\n",
    "final['first_week_audience'] = final['first_week_audience']/10000\n",
    "final['predicted'] = [x[0] for x in y_pred.detach().numpy()]\n",
    "final  # 좋은 모델은 아닌듯 하다"
   ]
  }
 ],
 "metadata": {
  "kernelspec": {
   "display_name": "Python 3",
   "language": "python",
   "name": "python3"
  },
  "language_info": {
   "codemirror_mode": {
    "name": "ipython",
    "version": 3
   },
   "file_extension": ".py",
   "mimetype": "text/x-python",
   "name": "python",
   "nbconvert_exporter": "python",
   "pygments_lexer": "ipython3",
   "version": "3.6.5"
  }
 },
 "nbformat": 4,
 "nbformat_minor": 2
}
