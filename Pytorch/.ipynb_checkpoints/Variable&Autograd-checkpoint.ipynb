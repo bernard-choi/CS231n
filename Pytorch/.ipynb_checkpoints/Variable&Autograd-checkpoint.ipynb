{
 "cells": [
  {
   "cell_type": "markdown",
   "metadata": {},
   "source": [
    "## Variable & Automatic Gradient Calculation\n",
    "- Tensor vs Variable\n",
    "- Graph and Gradient"
   ]
  },
  {
   "cell_type": "markdown",
   "metadata": {},
   "source": [
    "## 1. Import Required Libraries"
   ]
  },
  {
   "cell_type": "code",
   "execution_count": 43,
   "metadata": {},
   "outputs": [],
   "source": [
    "import torch\n",
    "from torch.autograd import Variable"
   ]
  },
  {
   "cell_type": "markdown",
   "metadata": {},
   "source": [
    "## 2. Tensor vs Variable\n",
    "\n",
    "#### 1) Declaration"
   ]
  },
  {
   "cell_type": "code",
   "execution_count": 44,
   "metadata": {},
   "outputs": [
    {
     "data": {
      "text/plain": [
       "tensor([[-1.0139e-07,  3.0012e-39, -2.4789e+09, -7.4240e+04],\n",
       "        [-5.0374e+04, -1.1223e+06,  3.0086e-39, -9.7644e-05],\n",
       "        [-1.5797e+06, -1.4267e-03, -9.0917e+01, -2.6624e-08]])"
      ]
     },
     "execution_count": 44,
     "metadata": {},
     "output_type": "execute_result"
    }
   ],
   "source": [
    "x_tensor = torch.Tensor(3,4)\n",
    "x_tensor"
   ]
  },
  {
   "cell_type": "code",
   "execution_count": 45,
   "metadata": {},
   "outputs": [
    {
     "data": {
      "text/plain": [
       "tensor([[-1.0139e-07,  3.0012e-39, -2.4789e+09, -7.4240e+04],\n",
       "        [-5.0374e+04, -1.1223e+06,  3.0086e-39, -9.7644e-05],\n",
       "        [-1.5797e+06, -1.4267e-03, -9.0917e+01, -2.6624e-08]])"
      ]
     },
     "execution_count": 45,
     "metadata": {},
     "output_type": "execute_result"
    }
   ],
   "source": [
    "x_variable =  Variable(x_tensor)\n",
    "x_variable"
   ]
  },
  {
   "cell_type": "markdown",
   "metadata": {},
   "source": [
    "#### 2) Variables of a Variable"
   ]
  },
  {
   "cell_type": "code",
   "execution_count": 46,
   "metadata": {},
   "outputs": [
    {
     "data": {
      "text/plain": [
       "tensor([[-1.0139e-07,  3.0012e-39, -2.4789e+09, -7.4240e+04],\n",
       "        [-5.0374e+04, -1.1223e+06,  3.0086e-39, -9.7644e-05],\n",
       "        [-1.5797e+06, -1.4267e-03, -9.0917e+01, -2.6624e-08]])"
      ]
     },
     "execution_count": 46,
     "metadata": {},
     "output_type": "execute_result"
    }
   ],
   "source": [
    "# .data -> wrapped tensor\n",
    "x_variable.data"
   ]
  },
  {
   "cell_type": "code",
   "execution_count": 47,
   "metadata": {},
   "outputs": [
    {
     "name": "stdout",
     "output_type": "stream",
     "text": [
      "None\n"
     ]
    }
   ],
   "source": [
    "# .grad -> gradient of the variable\n",
    "print(x_variable.grad)"
   ]
  },
  {
   "cell_type": "code",
   "execution_count": 50,
   "metadata": {},
   "outputs": [
    {
     "name": "stdout",
     "output_type": "stream",
     "text": [
      "False\n"
     ]
    },
    {
     "data": {
      "text/plain": [
       "True"
      ]
     },
     "execution_count": 50,
     "metadata": {},
     "output_type": "execute_result"
    }
   ],
   "source": [
    "# .requires_grad -> whether variable gradient\n",
    "print(x_variable.requires_grad)\n",
    "x_variable =Variable(x_tensor, requires_grad = True)\n",
    "x_variable.requires_grad"
   ]
  },
  {
   "cell_type": "markdown",
   "metadata": {},
   "source": [
    "## Graph & Variables"
   ]
  },
  {
   "cell_type": "code",
   "execution_count": 59,
   "metadata": {},
   "outputs": [
    {
     "data": {
      "text/plain": [
       "(True, True, True)"
      ]
     },
     "execution_count": 59,
     "metadata": {},
     "output_type": "execute_result"
    }
   ],
   "source": [
    "# create graph\n",
    "\n",
    "x = Variable(torch.FloatTensor(3,4), requires_grad=True)\n",
    "y = x**2 + 4*x\n",
    "z = 2*y + 3\n",
    "\n",
    "x.requires_grad, y.requires_grad,z.requires_grad"
   ]
  },
  {
   "cell_type": "code",
   "execution_count": 60,
   "metadata": {},
   "outputs": [
    {
     "name": "stdout",
     "output_type": "stream",
     "text": [
      "tensor([[0., 0., 0., 0.],\n",
      "        [0., 0., 0., 0.],\n",
      "        [0., 0., 0., 0.]])\n"
     ]
    },
    {
     "data": {
      "text/plain": [
       "(None, None)"
      ]
     },
     "execution_count": 60,
     "metadata": {},
     "output_type": "execute_result"
    }
   ],
   "source": [
    "# .backward(gradient, retain_graph, create_graph, retain_variables)\n",
    "# compute gradient of current variable w.r.t. graph leaves\n",
    "\n",
    "loss = torch.FloatTensor(3,4)\n",
    "z.backward(loss)\n",
    "\n",
    "print(x.grad)\n",
    "y.grad, z.grad"
   ]
  }
 ],
 "metadata": {
  "kernelspec": {
   "display_name": "Python 3",
   "language": "python",
   "name": "python3"
  },
  "language_info": {
   "codemirror_mode": {
    "name": "ipython",
    "version": 3
   },
   "file_extension": ".py",
   "mimetype": "text/x-python",
   "name": "python",
   "nbconvert_exporter": "python",
   "pygments_lexer": "ipython3",
   "version": "3.6.5"
  }
 },
 "nbformat": 4,
 "nbformat_minor": 2
}
