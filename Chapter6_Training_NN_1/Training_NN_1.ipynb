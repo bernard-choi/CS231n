{
 "cells": [
  {
   "cell_type": "code",
   "execution_count": 3,
   "metadata": {},
   "outputs": [],
   "source": [
    "import numpy as np\n",
    "import matplotlib.pyplot as plt\n",
    "%matplotlib inline"
   ]
  },
  {
   "cell_type": "markdown",
   "metadata": {},
   "source": [
    "## Activation Functions"
   ]
  },
  {
   "cell_type": "markdown",
   "metadata": {},
   "source": [
    "![](https://user-images.githubusercontent.com/36406676/52912218-bf547080-32f1-11e9-8cf7-cefdf1a1c167.PNG)"
   ]
  },
  {
   "cell_type": "markdown",
   "metadata": {},
   "source": [
    "입력 신호의 총합을 출력 신호로 변환하는 함수를 일반적으로 활성화 함수라 합니다.\n",
    "\n",
    "\n",
    "'활성화'라는 이름이 말해주듯 활성화 함수는 입력 신호의 총합이 활성화를 일으키는지를 정하는 역할을 합니다. \n",
    "\n",
    "\n",
    "활성화함수로 쓸 수 있는 여러 후보들을 알아보겠습니다.\n"
   ]
  },
  {
   "cell_type": "markdown",
   "metadata": {},
   "source": [
    "![](https://user-images.githubusercontent.com/36406676/52198187-54447c00-28a5-11e9-91da-a037f8cdd733.PNG)"
   ]
  },
  {
   "cell_type": "markdown",
   "metadata": {},
   "source": [
    "## Sigmoid"
   ]
  },
  {
   "cell_type": "markdown",
   "metadata": {},
   "source": [
    "- 특징\n",
    "    - output의 범위가 0과 1이 되게 한다\n",
    "    - neuron의 firing rate을 잘 나타낸다고 생각되어서 인기가 많았다. \n",
    "\n",
    "- 단점\n",
    "    - 극단값들의 gradient는 결국 0이 되어 의미가 없어진다.\n",
    "    - sigmoid의 output은 0이 중심이 되지 않는다. -> 레이어가 두개 쌓이면 두번째 레이어에 들어가는 input은 모두 양수가 된다. 항상 양수인 input이 들어오면 w에 대한 gradient은 all positive all negative. w vector가 비효율적으로 찾아진다.\n",
    "    \n",
    "    - 함수에 exp()가 들어가면 computational cost가 높아진다\n",
    "    \n",
    "### 우리가 활성화 함수로 비선형 함수를 쓰는 이유는??\n",
    "선형 함수를 이용하면 신경망의 층을 깊게 하는 의미가 없어지기 때문입니다.\n",
    "\n",
    "선형함수의 문제는 층을 아무리 깊게 해도 '은닉층이 없는 네트워크'로도 똑같은 기능을 할 수 있습니다. \n",
    "\n",
    "예를들면 h(x) = cx를 활성화 함수로 사용한 3층 네트워크를 떠올려보면 이 계산은 결국 y(x)는 C \\* C \\* C\\* x 처럼 곱셈을 3번 실행하지만 실은 y = ax랑 같은 식입니다. \n",
    "\n",
    "즉 은닉층이 없는 네트워크로 표현할 수 있습니다. 이 예처럼 선형함수를 이용해서는 여러 층으로 구성하는 이점을 살릴순 없습니다.\n",
    "\n",
    "그래서 층을 쌓는 혜택을 얻고 싶다면 활성화 함수로는 반드시 비선형 함수를 써야합니다."
   ]
  },
  {
   "cell_type": "markdown",
   "metadata": {},
   "source": [
    "![](https://user-images.githubusercontent.com/36406676/52912692-1b21f800-32f8-11e9-99f0-3dc76107dad9.PNG)"
   ]
  },
  {
   "cell_type": "code",
   "execution_count": 4,
   "metadata": {},
   "outputs": [],
   "source": [
    "def Sigmoid(x):\n",
    "    return 1 / ( 1+ np.exp(-x))"
   ]
  },
  {
   "cell_type": "code",
   "execution_count": 5,
   "metadata": {},
   "outputs": [
    {
     "data": {
      "image/png": "[encoded data removed]",
      "text/plain": [
       "<Figure size 432x288 with 1 Axes>"
      ]
     },
     "metadata": {},
     "output_type": "display_data"
    }
   ],
   "source": [
    "x = np.arange(-10,10,0.1)\n",
    "y = Sigmoid(x)\n",
    "plt.plot(x,y)\n",
    "plt.ylim(-0.1,1.1)\n",
    "plt.title(\"Sigmoid\")\n",
    "plt.show()"
   ]
  },
  {
   "cell_type": "markdown",
   "metadata": {},
   "source": [
    "## ReLU"
   ]
  },
  {
   "cell_type": "markdown",
   "metadata": {},
   "source": [
    "- 특징\n",
    "    - (+)부분에서 output부분은 뭉개지 않는다.(Sigmoid에서는 x값이 커지면 gradient 0에 가까워진다 )\n",
    "    - exp()이 없어서 컴퓨팅적으로 효율적이다. 함수 간단\n",
    "    - sigmoid나 tanh보다 빨리 converge한다.\n",
    "    - sigmoid보다 neuron의 작용을 더 잘 반영한다.\n",
    "- 단점\n",
    "    - 역시 0이 중심인 output은 아니다.\n",
    "    - 0보다 작은 부분의 gradient는 0이 되어버린다.\n",
    "    \n",
    "ReLU를 보완한 Leaky ReLU, PReLU등이 있다. 실제적으로 ReLU을 사용하면 좋다. (단 learning rate 설정 유의)\n",
    "\n",
    "Sigmoid는 별로 효과가 좋지 않다. 초반에 나온것이라 사용되었던 거지 지금은 ReLU를 많이 쓴다."
   ]
  },
  {
   "cell_type": "code",
   "execution_count": 6,
   "metadata": {},
   "outputs": [],
   "source": [
    "def ReLU(x):\n",
    "    return x * (x > 0)"
   ]
  },
  {
   "cell_type": "code",
   "execution_count": 7,
   "metadata": {},
   "outputs": [
    {
     "data": {
      "image/png": "[encoded data removed]",
      "text/plain": [
       "<Figure size 432x288 with 1 Axes>"
      ]
     },
     "metadata": {},
     "output_type": "display_data"
    }
   ],
   "source": [
    "x = np.arange(-10,10,0.1)\n",
    "y = ReLU(x)\n",
    "plt.plot(x,y)\n",
    "plt.ylim(-0.1,10)\n",
    "plt.title(\"ReLU\")\n",
    "plt.show()"
   ]
  },
  {
   "cell_type": "markdown",
   "metadata": {},
   "source": [
    "## Leaky ReLU"
   ]
  },
  {
   "cell_type": "markdown",
   "metadata": {},
   "source": [
    "- ReLU에서는 input이 0보다 작으면 gradient가 죽지만 Leaky ReLU는 산다. \n",
    "\n",
    "\n",
    "- ReLU의 단점을 보완. ReLU에서는 0 아니면 양수만 출력되었지만 Leaky ReLU에서는 음수도 출력된다.(Does not saturate)\n",
    "\n",
    "\n",
    "- sigmoid나 tanh 보다 빠르게 수렴한다.\n"
   ]
  },
  {
   "cell_type": "markdown",
   "metadata": {},
   "source": [
    "![](https://user-images.githubusercontent.com/36406676/52913251-94711900-32ff-11e9-81bd-e5d25e55f3b4.PNG)"
   ]
  },
  {
   "cell_type": "code",
   "execution_count": 29,
   "metadata": {},
   "outputs": [],
   "source": [
    "def Leaky_ReLU(x):\n",
    "    return np.where(x > 0, x, x * 0.01)"
   ]
  },
  {
   "cell_type": "code",
   "execution_count": 30,
   "metadata": {},
   "outputs": [
    {
     "data": {
      "image/png": "[encoded data removed]",
      "text/plain": [
       "<Figure size 432x288 with 1 Axes>"
      ]
     },
     "metadata": {},
     "output_type": "display_data"
    }
   ],
   "source": [
    "x = np.arange(-10,10,0.1)\n",
    "y = Leaky_ReLU(x)\n",
    "plt.plot(x,y)\n",
    "plt.ylim(-0.1,1)\n",
    "plt.title(\"Leaky_Relu\")\n",
    "plt.show()"
   ]
  },
  {
   "cell_type": "markdown",
   "metadata": {},
   "source": [
    "## Tanh(x)"
   ]
  },
  {
   "cell_type": "markdown",
   "metadata": {},
   "source": [
    "- 0을 기준으로 퍼뜨리지만 sigmoid와 마찬가지로 gradient가 죽는 문제가 생긴다. "
   ]
  },
  {
   "cell_type": "markdown",
   "metadata": {},
   "source": [
    "![](https://user-images.githubusercontent.com/36406676/52917506-b08cae80-332f-11e9-9abc-d08683670427.PNG)"
   ]
  },
  {
   "cell_type": "code",
   "execution_count": 31,
   "metadata": {},
   "outputs": [],
   "source": [
    "def Tanh(x):\n",
    "    return (np.exp(2*x) -1) / (np.exp(2*x) +1)"
   ]
  },
  {
   "cell_type": "code",
   "execution_count": 32,
   "metadata": {},
   "outputs": [
    {
     "data": {
      "image/png": "[encoded data removed]",
      "text/plain": [
       "<Figure size 432x288 with 1 Axes>"
      ]
     },
     "metadata": {},
     "output_type": "display_data"
    }
   ],
   "source": [
    "x = np.arange(-10,10,0.1)\n",
    "y = Tanh(x)\n",
    "plt.plot(x,y)\n",
    "plt.title(\"Tanh(x)\")\n",
    "plt.ylim(-1.1,1.1)\n",
    "plt.show()"
   ]
  },
  {
   "cell_type": "markdown",
   "metadata": {},
   "source": [
    "## ELU"
   ]
  },
  {
   "cell_type": "markdown",
   "metadata": {},
   "source": [
    "- ReLU의 장점을 지니고 Leaky Relu에서 이상치에 해당하는 값에 영행이 적다(음수에서 부드럽게 꺾인다)\n",
    "\n",
    "\n",
    "- exp() 때문에 계산량이 많다"
   ]
  },
  {
   "cell_type": "markdown",
   "metadata": {},
   "source": [
    "![](https://user-images.githubusercontent.com/36406676/52917574-77a10980-3330-11e9-9867-7b20d8900738.PNG)"
   ]
  },
  {
   "cell_type": "code",
   "execution_count": 33,
   "metadata": {},
   "outputs": [],
   "source": [
    "def ELU(x,a):\n",
    "    return np.where(x>=0, x, a*(np.exp(x)-1))"
   ]
  },
  {
   "cell_type": "code",
   "execution_count": 34,
   "metadata": {},
   "outputs": [
    {
     "data": {
      "image/png": "[encoded data removed]",
      "text/plain": [
       "<Figure size 432x288 with 1 Axes>"
      ]
     },
     "metadata": {},
     "output_type": "display_data"
    }
   ],
   "source": [
    "x = np.arange(-10,5,0.1)\n",
    "y = ELU(x,1)\n",
    "plt.plot(x,y)\n",
    "plt.title(\"ELU\")\n",
    "plt.ylim(-2,1.1)\n",
    "plt.show()"
   ]
  },
  {
   "cell_type": "markdown",
   "metadata": {},
   "source": [
    "## Sigmoid의 단점을 알아보자"
   ]
  },
  {
   "cell_type": "markdown",
   "metadata": {},
   "source": [
    "![](https://user-images.githubusercontent.com/36406676/52198102-1fd0c000-28a5-11e9-9dc6-ea97aa4943c8.PNG)"
   ]
  },
  {
   "cell_type": "code",
   "execution_count": 35,
   "metadata": {},
   "outputs": [],
   "source": [
    "class Sigmoid:\n",
    "    def __init__(self):\n",
    "        pass\n",
    "    \n",
    "    def forward(self,x):\n",
    "        self.x = x\n",
    "        out = 1 / ( 1+ np.exp(-x))\n",
    "        self.out = out\n",
    "        return out\n",
    "    \n",
    "    def backward(self, dout):\n",
    "        dx = (1-self.out)*(self.out)\n",
    "        return dx\n",
    "        "
   ]
  },
  {
   "cell_type": "code",
   "execution_count": 36,
   "metadata": {},
   "outputs": [],
   "source": [
    "sigmoid_layer1 = Sigmoid()\n",
    "sigmoid_layer2 = Sigmoid()\n",
    "sigmoid_layer3 = Sigmoid()\n"
   ]
  },
  {
   "cell_type": "code",
   "execution_count": 37,
   "metadata": {},
   "outputs": [],
   "source": [
    "x1 = 10\n",
    "x2 = 0\n",
    "x3 = -10"
   ]
  },
  {
   "cell_type": "code",
   "execution_count": 38,
   "metadata": {},
   "outputs": [
    {
     "name": "stdout",
     "output_type": "stream",
     "text": [
      "0.9999546021312976\n",
      "0.5\n",
      "4.5397868702434395e-05\n"
     ]
    }
   ],
   "source": [
    "print(sigmoid_layer1.forward(x1)) # 1에 가까운 수\n",
    "print(sigmoid_layer2.forward(x2)) # 0.5\n",
    "print(sigmoid_layer3.forward(x3)) # 0에 가까운 수 0혹은 양수만 출력된다. 다음 레이어 들어갈때 문제가 생긴다. "
   ]
  },
  {
   "cell_type": "code",
   "execution_count": 39,
   "metadata": {},
   "outputs": [
    {
     "name": "stdout",
     "output_type": "stream",
     "text": [
      "4.5395807735907655e-05\n",
      "0.25\n",
      "4.5395807735951673e-05\n"
     ]
    }
   ],
   "source": [
    "print(sigmoid_layer1.backward(1)) # 0에 가까움\n",
    "print(sigmoid_layer2.backward(1)) # 0.25 정상\n",
    "print(sigmoid_layer3.backward(1)) # 0에 가까움 gradient가 죽는다. 조금만 크거나 작아도 gradient값이 0에 가까워진다. "
   ]
  },
  {
   "cell_type": "markdown",
   "metadata": {},
   "source": [
    "## 이번엔 ReLU에 대입해보자"
   ]
  },
  {
   "cell_type": "markdown",
   "metadata": {},
   "source": [
    "![](https://user-images.githubusercontent.com/36406676/52200301-c91ab480-28ab-11e9-89f2-216bf4e52be2.PNG)"
   ]
  },
  {
   "cell_type": "code",
   "execution_count": 40,
   "metadata": {},
   "outputs": [],
   "source": [
    "class Relu:\n",
    "    def __init__(self):\n",
    "        pass\n",
    "    \n",
    "    def forward(self,x):\n",
    "        self.x = x\n",
    "        out= self.x * (self.x > 0)\n",
    "        self.out = out\n",
    "        return out\n",
    "    \n",
    "    def backward(self, dout):\n",
    "        dx = np.where(self.x >=0, dout*self.x,0)\n",
    "        return dx\n",
    "        "
   ]
  },
  {
   "cell_type": "code",
   "execution_count": 41,
   "metadata": {},
   "outputs": [],
   "source": [
    "relu_layer1 = Relu()\n",
    "relu_layer2 = Relu()\n",
    "relu_layer3 = Relu()\n"
   ]
  },
  {
   "cell_type": "code",
   "execution_count": 42,
   "metadata": {},
   "outputs": [],
   "source": [
    "x1 = 10\n",
    "x2 = 0\n",
    "x3 = -10"
   ]
  },
  {
   "cell_type": "code",
   "execution_count": 43,
   "metadata": {},
   "outputs": [
    {
     "name": "stdout",
     "output_type": "stream",
     "text": [
      "10\n",
      "0\n",
      "0\n"
     ]
    }
   ],
   "source": [
    "print(relu_layer1.forward(x1)) # 10\n",
    "print(relu_layer2.forward(x2)) # 0\n",
    "print(relu_layer3.forward(x3)) # 0  0혹은 양수만 출력된다. "
   ]
  },
  {
   "cell_type": "code",
   "execution_count": 44,
   "metadata": {},
   "outputs": [
    {
     "name": "stdout",
     "output_type": "stream",
     "text": [
      "10\n",
      "0\n",
      "0\n"
     ]
    }
   ],
   "source": [
    "print(relu_layer1.backward(1)) # 10  input이 커도 gradient가 죽지 않는다. \n",
    "print(relu_layer2.backward(1)) #  0\n",
    "print(relu_layer3.backward(1)) #  0 0보다 작은 구간에서는 graident가 죽는다 "
   ]
  },
  {
   "cell_type": "markdown",
   "metadata": {},
   "source": [
    "## Data Preprocessing"
   ]
  },
  {
   "cell_type": "markdown",
   "metadata": {},
   "source": [
    "데이터 전처리에 주로 zero_centereing을 많이 사용한다. 이미지 처리에서는 normalization까지 하지는 않는다."
   ]
  },
  {
   "cell_type": "markdown",
   "metadata": {},
   "source": [
    "![](https://user-images.githubusercontent.com/36406676/52917791-d071a180-3332-11e9-8f95-93aa962dcd46.PNG)"
   ]
  },
  {
   "cell_type": "markdown",
   "metadata": {},
   "source": [
    "앞에서 말했듯이 normalize해서 중앙을 0으로 맞춰주지 않으면 웨이트 업데이트가 비효율적으로 이뤄진다."
   ]
  },
  {
   "cell_type": "markdown",
   "metadata": {},
   "source": [
    "![](https://user-images.githubusercontent.com/36406676/52917827-20e8ff00-3333-11e9-83fd-f1a6c6a40600.PNG)"
   ]
  },
  {
   "cell_type": "markdown",
   "metadata": {},
   "source": [
    "## Weight Initialization"
   ]
  },
  {
   "cell_type": "markdown",
   "metadata": {},
   "source": [
    "weight를 처음에 어떻게 시작하는지에 따라 학습과정이 달라질 수 있으므로 weight initialization은 중요합니다.\n",
    "\n",
    "가중치의 초깃값에 따라 은닉층 활성화값들이 어떻게 변화하는지 살펴봅시다.\n",
    "\n",
    "구체적으로는 활성화 함수로 시그모이드 함수를 사용하는 5층 신경망에 무작위로 생성한 입력 데이터를 흘리며 각 층의 활성화 값 분포를 히스토그램으로 그려 살펴보겠습니다."
   ]
  },
  {
   "cell_type": "markdown",
   "metadata": {},
   "source": [
    "- 표준편차가 1인 정규분포"
   ]
  },
  {
   "cell_type": "code",
   "execution_count": 10,
   "metadata": {},
   "outputs": [],
   "source": [
    "input_data = np.random.randn(1000,100) # 1000개의 데이터\n",
    "node_num = 100                         # 각 은닉층의 노드 수\n",
    "hidden_layer_size = 5                  # 은닉충이 5개\n",
    "activations = {}                       # 이곳에 활성화 결과(활성화값)를 저장"
   ]
  },
  {
   "cell_type": "code",
   "execution_count": 11,
   "metadata": {},
   "outputs": [],
   "source": [
    "x = input_data\n",
    "for i in range(hidden_layer_size):\n",
    "    if i != 0:\n",
    "        x = activations[i-1]\n",
    "        \n",
    "    #variation  of initializers\n",
    "    w = np.random.randn(node_num, node_num) *1 # 가중치의 표준편차 1\n",
    "    a = np.dot(x,w)\n",
    "        \n",
    "    #variation of activation functions\n",
    "    z = Sigmoid(a)\n",
    "        \n",
    "    activations[i] = z"
   ]
  },
  {
   "cell_type": "code",
   "execution_count": 12,
   "metadata": {},
   "outputs": [
    {
     "data": {
      "image/png": "[encoded data removed]",
      "text/plain": [
       "<Figure size 432x288 with 5 Axes>"
      ]
     },
     "metadata": {},
     "output_type": "display_data"
    }
   ],
   "source": [
    "for i, a in activations.items():\n",
    "    plt.subplot(1, len(activations), i+1)\n",
    "    plt.title(str(i+1) + '-layer')\n",
    "    plt.hist(a.flatten(), 30)\n",
    "plt.show()"
   ]
  },
  {
   "cell_type": "markdown",
   "metadata": {},
   "source": [
    "각 층의 활성화 값들이 0과 1에 치우쳐 분포되어있다. \n",
    "\n",
    "\n",
    "여기에서 사용한 시그모이드 함수는 그 출력이 0에 가까워지면 그 미분은 0에 가까워진다.\n",
    "\n",
    "\n",
    "그래서 데이터가 0과1에 치우쳐 분포하게 되면 역전파의 기울기 값이 작아지다가 사라집니다.(기울기 소실 문제)\n",
    "\n",
    "&nbsp;\n",
    "\n",
    "- 표준편차를 0.01로 한 정규분포"
   ]
  },
  {
   "cell_type": "code",
   "execution_count": 13,
   "metadata": {},
   "outputs": [],
   "source": [
    "activations = {}\n",
    "for i in range(hidden_layer_size):\n",
    "    if i != 0:\n",
    "        x = activations[i-1]\n",
    "        \n",
    "    #variation  of initializers\n",
    "    w = np.random.randn(node_num, node_num) *0.01 # 가중치의 표준편차 0.01\n",
    "    a = np.dot(x,w)\n",
    "        \n",
    "    #variation of activation functions\n",
    "    z = Sigmoid(a)\n",
    "        \n",
    "    activations[i] = z"
   ]
  },
  {
   "cell_type": "code",
   "execution_count": 14,
   "metadata": {},
   "outputs": [
    {
     "data": {
      "image/png": "[encoded data removed]",
      "text/plain": [
       "<Figure size 432x288 with 5 Axes>"
      ]
     },
     "metadata": {},
     "output_type": "display_data"
    }
   ],
   "source": [
    "for i, a in activations.items():\n",
    "    plt.subplot(1, len(activations), i+1)\n",
    "    plt.title(str(i+1) + '-layer')\n",
    "    plt.hist(a.flatten(), 30)\n",
    "    plt.xlim(0.1,1)\n",
    "plt.show()"
   ]
  },
  {
   "cell_type": "markdown",
   "metadata": {},
   "source": [
    "0.5 부근에 집중되어있다.\n",
    "\n",
    "\n",
    "앞의 예처럼 0과 1로 치우치진 않았으니 기울기 소실 문제는 일어나지 않았으나 활성화값들이 치우쳤다는 것은 표현력 관점에서 큰 문제가 있는 것이다. \n",
    "\n",
    "\n",
    "이 상황에서 다수의 뉴런이 같은 값을 출력하고 있으니 뉴런을 여러개 둔 의미가 없어진다는 뜻입니다.\n",
    "\n",
    "\n",
    "예를 들어 뉴런을 100개가 거의 같은 값을 출력한다면 뉴런 1개짜리와 별반 다를게 없는 것이다. \n",
    "\n",
    "\n",
    "그래서 활성화 값들이 치우치면 **표현력을 제한한다는 점**에서 문제가 됩니다.\n",
    "\n",
    "&nbsp;\n",
    "\n",
    "- Xavier 초깃값을 사용\n",
    "\n",
    "\n",
    "     - Xavier초깃값을 사용하면 앞 층의 노드가 많을수록 대상 노드의 초깃값으로 설정하는 가중치가 좁게 펴집니다. \n",
    "     - sigmoid와 tanh함수는 좌우대칭이라 중앙부근이 선형인 함수로 볼 수 있다. 그래서 Xavier초깃값이 적당하다.\n",
    "     - 반면 ReLU를 이용할 때는 ReLU에 특화된 초깃값을 이용하라고 권장된다 - He초깃값\n",
    "     - ReLU는 음의 영역이 0이라서 더 넓게 분포시키기 위해 2배의 계수가 필요하다.(직감적으로)"
   ]
  },
  {
   "cell_type": "code",
   "execution_count": 15,
   "metadata": {},
   "outputs": [
    {
     "data": {
      "image/png": "[encoded data removed]",
      "text/plain": [
       "<Figure size 432x288 with 5 Axes>"
      ]
     },
     "metadata": {},
     "output_type": "display_data"
    }
   ],
   "source": [
    "activations = {} \n",
    "x = input_data\n",
    "for i in range(hidden_layer_size):\n",
    "    if i != 0:\n",
    "        x = activations[i-1]\n",
    "        \n",
    "    #variation  of initializers\n",
    "    w = np.random.randn(node_num, node_num) * np.sqrt(1/node_num) # 1/sqrt(n)\n",
    "    a = np.dot(x,w)\n",
    "        \n",
    "    #variation of activation functions\n",
    "    z = Sigmoid(a)\n",
    "        \n",
    "    activations[i] = z\n",
    "    \n",
    "for i, a in activations.items():\n",
    "    plt.subplot(1, len(activations), i+1)\n",
    "    plt.title(str(i+1) + '-layer')\n",
    "    plt.hist(a.flatten(), 30)\n",
    "    plt.xlim(0.1,1)\n",
    "plt.show()\n"
   ]
  },
  {
   "cell_type": "markdown",
   "metadata": {},
   "source": [
    "이 결과를 보면 층이 깊어지면서 형태가 다소 일그러지지만 본 방식보다는 확실히 넓게 분포됨을 알 수 있습니다. 각\n",
    "\n",
    "층에 흐르는 데이터는 적당히 퍼져있으므로 시그모이드 함수의 표현력도 제한 받지 않아 학습이 효율적으로 이뤄질 것으로 기대됩니다."
   ]
  },
  {
   "cell_type": "markdown",
   "metadata": {},
   "source": [
    "## ReLU에서의 weight_Initilization\n",
    "\n",
    "&nbsp;\n",
    "\n",
    "Xavier 초깃값은 활성화 함수가 선형인 것을 전제로 이끈 결과입니다.\n",
    "\n",
    "sigmoid함수와 tanh함수는 좌우 대칭이라 중앙부근이 선형인 함수로 볼 수 있다. \n",
    "\n",
    "그래서 Xavier초깃값이 적당합니다. 반면 ReLU를 이용할때는 ReLU에 특화된 초기값을 이용하라고 권장합니다. \n",
    "\n",
    "이특화된 토기값을 He초깃값이라고 합니다. Xavier초기값이 sqrt(1/n) 이였다면 He초기값은 표준편차가 sqrt(2/n)인 정규분포를 사용합니다.\n",
    "\n",
    "ReLU는 음의 영역이 0이라소 더 넓ㄱ게 분포시키기 위해 2배의 계수가 필요하다고 해석하면 됩니다."
   ]
  },
  {
   "cell_type": "code",
   "execution_count": 16,
   "metadata": {},
   "outputs": [
    {
     "data": {
      "image/png": "[encoded data removed]",
      "text/plain": [
       "<Figure size 432x288 with 5 Axes>"
      ]
     },
     "metadata": {},
     "output_type": "display_data"
    }
   ],
   "source": [
    "activations = {} \n",
    "x = input_data\n",
    "for i in range(hidden_layer_size):\n",
    "    if i != 0:\n",
    "        x = activations[i-1]\n",
    "        \n",
    "    #variation  of initializers\n",
    "    w = np.random.randn(node_num, node_num) *0.01 # 가중치의 표준편차 1\n",
    "    a = np.dot(x,w)\n",
    "        \n",
    "    #variation of activation functions\n",
    "    z = ReLU(a)\n",
    "        \n",
    "    activations[i] = z\n",
    "    \n",
    "for i, a in activations.items():\n",
    "    plt.subplot(1, len(activations), i+1)\n",
    "    plt.title(str(i+1) + '-layer')\n",
    "    plt.hist(a.flatten(), 30)\n",
    "    plt.xlim(0,1)\n",
    "    plt.ylim(0,7000)\n",
    "plt.show()"
   ]
  },
  {
   "cell_type": "markdown",
   "metadata": {},
   "source": [
    "결과를 보면 std = 0.01일 때의 각층의 활성화 값들이 아주 작은 값들입니다. \n",
    "\n",
    "신경망에 아주 작은 데이터가 흐른다는 것은 역전파 때 가중치의 기울기 역시 작아진다는 뜻\n",
    "이는 중대한 문제이며 실제로도 학습이 이뤄지지 않을 것이다."
   ]
  },
  {
   "cell_type": "code",
   "execution_count": 17,
   "metadata": {
    "scrolled": true
   },
   "outputs": [
    {
     "data": {
      "image/png": "[encoded data removed]",
      "text/plain": [
       "<Figure size 432x288 with 5 Axes>"
      ]
     },
     "metadata": {},
     "output_type": "display_data"
    }
   ],
   "source": [
    "activations = {} \n",
    "x = input_data\n",
    "for i in range(hidden_layer_size):\n",
    "    if i != 0:\n",
    "        x = activations[i-1]\n",
    "        \n",
    "    #variation  of initializers\n",
    "    w = np.random.randn(node_num, node_num) * np.sqrt(1/node_num) # 가중치의 표준편차 1\n",
    "    a = np.dot(x,w)\n",
    "        \n",
    "    #variation of activation functions\n",
    "    z = ReLU(a)\n",
    "        \n",
    "    activations[i] = z\n",
    "    \n",
    "for i, a in activations.items():\n",
    "    plt.subplot(1, len(activations), i+1)\n",
    "    plt.title(str(i+1) + '-layer')\n",
    "    plt.hist(a.flatten(), 30)\n",
    "    plt.ylim(0,70000)\n",
    "    plt.xlim(0,1)\n",
    "plt.show()"
   ]
  },
  {
   "cell_type": "markdown",
   "metadata": {},
   "source": [
    "Xavier초깃값 결과를 보면 이쪽은 층이 깊어지면서 치우침이 조금씩 커진다 .(숫자 0에 가까워진다)\n",
    "\n",
    "실제로 층이 깊어지면 활성화값들의 치우침도 커지고 학습할 때 '기울기 소실' 문제를 일으킵니다. "
   ]
  },
  {
   "cell_type": "code",
   "execution_count": 106,
   "metadata": {},
   "outputs": [
    {
     "data": {
      "image/png": "[encoded data removed]",
      "text/plain": [
       "<Figure size 432x288 with 5 Axes>"
      ]
     },
     "metadata": {},
     "output_type": "display_data"
    }
   ],
   "source": [
    "activations = {} \n",
    "x = input_data\n",
    "for i in range(hidden_layer_size):\n",
    "    if i != 0:\n",
    "        x = activations[i-1]\n",
    "        \n",
    "    #variation  of initializers\n",
    "    w = np.random.randn(node_num, node_num) * np.sqrt(2/node_num) # He\n",
    "    a = np.dot(x,w)\n",
    "        \n",
    "    #variation of activation functions\n",
    "    z = ReLU(a)\n",
    "        \n",
    "    activations[i] = z\n",
    "    \n",
    "for i, a in activations.items():\n",
    "    plt.subplot(1, len(activations), i+1)\n",
    "    plt.title(str(i+1) + '-layer')\n",
    "    plt.hist(a.flatten(), 30)\n",
    "    plt.ylim(0,70000)\n",
    "    plt.xlim(0,1)\n",
    "plt.show()"
   ]
  },
  {
   "cell_type": "markdown",
   "metadata": {},
   "source": [
    "마지막으로 He초깃값은 모든 층에서 균일하게 분포되어있습니다. \n",
    "\n",
    "층이 깊어져도 분포가 균일하게 유지되어 역전파때도 적절한 값이 나올 것으로 기대되고 있습니다. "
   ]
  },
  {
   "cell_type": "markdown",
   "metadata": {},
   "source": [
    "## MNIST셋으로 본 가중치 비교\n",
    "![](https://user-images.githubusercontent.com/36406676/52928727-9a5d0d80-3384-11e9-9a5b-628217c5cae7.PNG)"
   ]
  },
  {
   "cell_type": "markdown",
   "metadata": {},
   "source": [
    "이 실험은 층별 뉴런 수가 100개인 5층 신경망에서 활성화 함수로 ReLU를 사용했습니다. \n",
    "\n",
    "std = 0.01일 때는 학습이 전혀 이뤄지지 않습니다. 앞서 활성화값의 분포에서 본것처럼 std = 0.01일 때는 순전파때 값이 너무 작은 값이 흐르기 때문입니다. \n",
    "\n",
    "그로 인해 역전파때의 기울기도 작아져 가중치가 거의 갱신되지 않습니다.\n",
    "\n",
    "반대로 Xavier와 He 초깃값의 경우는 학습이 순조롭게 이뤄지고 있습니다.\n",
    "\n",
    "학습 진도는 He초기값 쪽이 더 빠르다"
   ]
  },
  {
   "cell_type": "markdown",
   "metadata": {},
   "source": [
    "## Batch Normalization"
   ]
  },
  {
   "cell_type": "markdown",
   "metadata": {},
   "source": [
    "PR12 딥러닝 논문읽기 내용 참조"
   ]
  },
  {
   "cell_type": "markdown",
   "metadata": {},
   "source": [
    "- batch normalization은 batch의 dimension마다 unit gaussain activation을 만들어주는 과정이다.\n",
    "\n",
    "\n",
    "- Deep Learning에서 Layer가 많아질 때 학습이 어려워지는 이유는 weoght의 미세한 변화들이 가중이 되어 쌓이게 되면 Hidden Layer가 높아질 수록 값의 변화가 커지기 때문입니다.\n",
    "\n",
    "\n",
    "- Training 셋의 분포와 Test셋의 분포가 다르다면 학습이 안되는 것과 같이 딥러닝의 weight를 학습하는 것 또한 처음에 학습하였던 노드의 분포와 다음에 학습하는 분포가 다르게 되면 학습이 잘 안되게 되고 논문의 저자는 이러한 문제를 Internal Covariate Shift라고 정의"
   ]
  },
  {
   "cell_type": "markdown",
   "metadata": {},
   "source": [
    " ![](https://user-images.githubusercontent.com/36406676/52929038-f83e2500-3385-11e9-9eb9-79e412a91f33.PNG)"
   ]
  },
  {
   "cell_type": "code",
   "execution_count": null,
   "metadata": {},
   "outputs": [],
   "source": []
  }
 ],
 "metadata": {
  "kernelspec": {
   "display_name": "Python 3",
   "language": "python",
   "name": "python3"
  },
  "language_info": {
   "codemirror_mode": {
    "name": "ipython",
    "version": 3
   },
   "file_extension": ".py",
   "mimetype": "text/x-python",
   "name": "python",
   "nbconvert_exporter": "python",
   "pygments_lexer": "ipython3",
   "version": "3.6.5"
  }
 },
 "nbformat": 4,
 "nbformat_minor": 2
}
