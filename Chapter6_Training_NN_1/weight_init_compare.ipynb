{
 "cells": [
  {
   "cell_type": "code",
   "execution_count": 1,
   "metadata": {
    "collapsed": true
   },
   "outputs": [],
   "source": [
    "import os\n",
    "import sys\n",
    "sys.path.append(os.pardir)\n",
    "import numpy as np\n",
    "import matplotlib.pyplot as plt\n",
    "from dataset.mnist import load_mnist\n",
    "from common.util import smooth_curve\n",
    "from common.multi_layer_net import MultiLayerNet\n",
    "from common.optimizer import SGD"
   ]
  },
  {
   "cell_type": "code",
   "execution_count": 2,
   "metadata": {
    "collapsed": true
   },
   "outputs": [],
   "source": [
    "(x_train, t_train), (x_test, t_test) = load_mnist(normalize=True)\n",
    "\n",
    "train_size = x_train.shape[0]\n",
    "batch_size = 128\n",
    "max_iterations = 2000"
   ]
  },
  {
   "cell_type": "code",
   "execution_count": 3,
   "metadata": {},
   "outputs": [],
   "source": [
    "weight_init_types = {\n",
    "    'std=0.01': 0.01,\n",
    "    'Xavier': 'sigmoid',\n",
    "    'He': 'relu',\n",
    "}\n",
    "optimizer = SGD(lr=0.01)\n",
    "\n",
    "networks = {}\n",
    "train_loss = {}\n",
    "for key, weight_type in weight_init_types.items():\n",
    "    networks[key] = MultiLayerNet(\n",
    "                        input_size=784,\n",
    "                        hidden_size_list=[100, 100, 100, 100],\n",
    "                        output_size=10,\n",
    "                        weight_init_std=weight_type,\n",
    "    )\n",
    "    train_loss[key] = []"
   ]
  },
  {
   "cell_type": "code",
   "execution_count": 4,
   "metadata": {},
   "outputs": [
    {
     "name": "stdout",
     "output_type": "stream",
     "text": [
      "========== iter: 0 =========\n",
      "std=0.01:2.30256464264\n",
      "Xavier:2.30507644897\n",
      "He:2.43648722061\n",
      "========== iter: 100 =========\n",
      "std=0.01:2.30264283056\n",
      "Xavier:2.20614231216\n",
      "He:1.57612371672\n",
      "========== iter: 200 =========\n",
      "std=0.01:2.30139251773\n",
      "Xavier:1.97783571356\n",
      "He:0.789076053227\n",
      "========== iter: 300 =========\n",
      "std=0.01:2.30106540078\n",
      "Xavier:1.49606842962\n",
      "He:0.576452231657\n",
      "========== iter: 400 =========\n",
      "std=0.01:2.30292231222\n",
      "Xavier:1.0966765022\n",
      "He:0.521330148197\n",
      "========== iter: 500 =========\n",
      "std=0.01:2.30408264046\n",
      "Xavier:0.761680369545\n",
      "He:0.395056830971\n",
      "========== iter: 600 =========\n",
      "std=0.01:2.29819798095\n",
      "Xavier:0.505950993649\n",
      "He:0.31349082133\n",
      "========== iter: 700 =========\n",
      "std=0.01:2.29714732872\n",
      "Xavier:0.499264892894\n",
      "He:0.302371384558\n",
      "========== iter: 800 =========\n",
      "std=0.01:2.30131894607\n",
      "Xavier:0.448223599369\n",
      "He:0.323449499323\n",
      "========== iter: 900 =========\n",
      "std=0.01:2.30037324453\n",
      "Xavier:0.442934866714\n",
      "He:0.310157368889\n",
      "========== iter: 1000 =========\n",
      "std=0.01:2.29694586853\n",
      "Xavier:0.412680932487\n",
      "He:0.299713129121\n",
      "========== iter: 1100 =========\n",
      "std=0.01:2.29951823639\n",
      "Xavier:0.460053017003\n",
      "He:0.300904492913\n",
      "========== iter: 1200 =========\n",
      "std=0.01:2.29812274372\n",
      "Xavier:0.384042093711\n",
      "He:0.321559505006\n",
      "========== iter: 1300 =========\n",
      "std=0.01:2.30185617645\n",
      "Xavier:0.317097468875\n",
      "He:0.233715997608\n",
      "========== iter: 1400 =========\n",
      "std=0.01:2.30326918579\n",
      "Xavier:0.304083697591\n",
      "He:0.17307689488\n",
      "========== iter: 1500 =========\n",
      "std=0.01:2.29301284141\n",
      "Xavier:0.214388566053\n",
      "He:0.17425328566\n",
      "========== iter: 1600 =========\n",
      "std=0.01:2.30129368374\n",
      "Xavier:0.31930093382\n",
      "He:0.245512600121\n",
      "========== iter: 1700 =========\n",
      "std=0.01:2.29997335093\n",
      "Xavier:0.341088166311\n",
      "He:0.223316082637\n",
      "========== iter: 1800 =========\n",
      "std=0.01:2.30690603475\n",
      "Xavier:0.489447180163\n",
      "He:0.341153676861\n",
      "========== iter: 1900 =========\n",
      "std=0.01:2.29870296678\n",
      "Xavier:0.243576274826\n",
      "He:0.172862124835\n"
     ]
    }
   ],
   "source": [
    "for i in range(max_iterations):\n",
    "    batch_mask = np.random.choice(train_size, batch_size)\n",
    "    x_batch = x_train[batch_mask]\n",
    "    t_batch = t_train[batch_mask]\n",
    "    \n",
    "    for key in weight_init_types.keys():\n",
    "        grads = networks[key].gradient(x_batch, t_batch)\n",
    "        optimizer.update(networks[key].params, grads)\n",
    "        \n",
    "        loss = networks[key].loss(x_batch, t_batch)\n",
    "        train_loss[key].append(loss)\n",
    "        \n",
    "    if i % 100 == 0:\n",
    "        print('========== iter: %d =========' % i)\n",
    "        for key in weight_init_types.keys():\n",
    "            loss = networks[key].loss(x_batch, t_batch)\n",
    "            print(key + ':' + str(loss))"
   ]
  },
  {
   "cell_type": "code",
   "execution_count": 5,
   "metadata": {},
   "outputs": [
    {
     "data": {
      "image/png": "[encoded data removed]",
      "text/plain": [
       "<matplotlib.figure.Figure at 0x7f83e027aa58>"
      ]
     },
     "metadata": {},
     "output_type": "display_data"
    }
   ],
   "source": [
    "markers = {'std=0.01': 'o', 'Xavier': 's', 'He': 'D'}\n",
    "x = np.arange(max_iterations)\n",
    "for key in weight_init_types.keys():\n",
    "    plt.plot(\n",
    "        x,\n",
    "        smooth_curve(train_loss[key]),\n",
    "        marker=markers[key],\n",
    "        markevery=100,\n",
    "        label=key,\n",
    "    )\n",
    "plt.xlabel('iterations')\n",
    "plt.ylabel('loss')\n",
    "plt.ylim(0, 2.5)\n",
    "plt.legend()\n",
    "plt.show()"
   ]
  }
 ],
 "metadata": {
  "kernelspec": {
   "display_name": "Python 3",
   "language": "python",
   "name": "python3"
  },
  "language_info": {
   "codemirror_mode": {
    "name": "ipython",
    "version": 3
   },
   "file_extension": ".py",
   "mimetype": "text/x-python",
   "name": "python",
   "nbconvert_exporter": "python",
   "pygments_lexer": "ipython3",
   "version": "3.6.5"
  }
 },
 "nbformat": 4,
 "nbformat_minor": 2
}
