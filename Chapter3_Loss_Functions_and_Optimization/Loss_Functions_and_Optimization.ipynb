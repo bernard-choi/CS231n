{
 "cells": [
  {
   "cell_type": "code",
   "execution_count": 11,
   "metadata": {},
   "outputs": [],
   "source": [
    "import numpy as np\n",
    "import matplotlib.pyplot as plt\n",
    "%matplotlib inline"
   ]
  },
  {
   "cell_type": "markdown",
   "metadata": {},
   "source": [
    "# 1. Loss_Function\n",
    "---\n",
    "랜덤으로 정해지는 W. 따라서 Loss를 최소화하는 W를 찾아야 한다.\n",
    "\n",
    "Loss는 모델에 의한 예측 이미지 라벨과 실제이미지의 라벨이 일치하는 정도를 의미한다. \n",
    "\n",
    "전체 데이터셋의 Loss는 다음과 같이 표현할 수 있다. \n",
    "\n",
    "## $L = 1/N\\sum_{i}^{N}L_{i}(f(x_{i},W),y_{i})$\n",
    "\n",
    "$f(x_{i},W)$ 는 모델에 의해 예측된 이미지 라벨, $y_{i}$는 실제 라벨을 말한다. Loss를 모두 합쳐 나누면, 전체 데이터셋의 Loss를 구할 수 있다. \n",
    "\n",
    "Loss를 측정하는 방법으로 두가지를 소개합니다\n"
   ]
  },
  {
   "cell_type": "markdown",
   "metadata": {},
   "source": [
    "## 1) SVM_LOSS\n",
    "\n",
    "&nbsp;\n",
    "&nbsp;\n",
    "&nbsp;\n",
    "\n",
    "- SVM Loss란?\n",
    "\n",
    "$L_{i} = \\sum_{j \\not\\equiv y_{i}}max(0,s_{j}-s_{y_{i}}+1)$\n",
    "\n",
    "true score 즉 $s_{y_{i}}$ 가 다른 $s_{j}$와 비교했을때 safety margin보다 높으면\n",
    "Loss가 떨어지고 낮으면 Loss가 생김. \n",
    "\n",
    "예를 들어 첫번째 고양이 사진을 봤을 때, car가 5.2로 score가 가장 높다. 따라서 car와 cat사이에 1.9 + 1 = 2.9 의 loss가 생긴다.\n",
    "\n",
    "근사한 차이의 경우 잘못 분류할 수 있으므로 safety margin을 설정하여 더 큰 차이로 분류를 해냈을때 성공(Loss = 0)으로 정의한다. safety margin은 반드시 1일 필요는 없다\n",
    "\n",
    "&nbsp;\n",
    "&nbsp;\n",
    "&nbsp;"
   ]
  },
  {
   "cell_type": "markdown",
   "metadata": {},
   "source": [
    "![](https://user-images.githubusercontent.com/36406676/52391717-12ece000-2ae2-11e9-8789-057790ae606b.PNG)\n",
    "\n",
    "\n",
    "\n",
    "\n",
    "\n"
   ]
  },
  {
   "cell_type": "markdown",
   "metadata": {},
   "source": [
    "\n",
    "\n",
    "\n",
    "\n",
    "\n",
    "\n",
    "\n",
    "\n",
    "\n",
    "\n"
   ]
  },
  {
   "cell_type": "markdown",
   "metadata": {},
   "source": [
    "&nbsp;\n",
    "&nbsp;\n",
    "&nbsp;\n",
    "\n",
    "- __Q&A 를 통한 SVM Loss이해하기__\n",
    "\n",
    "\n",
    "\n",
    "\n",
    "Q1.  __Loss의 최솟값, 최댓값은 무엇인가?__\n",
    "\n",
    "A1. 최솟값은 0이며, 최댓값은 Infinity\n",
    "\n",
    "\n",
    "\n",
    "Q2. __만약 상단 Car점수가 조금 올라간다면 Loss에는 차이가 있는가?__\n",
    "\n",
    "A2. Car점수가 가장 높기 때문에 Loss에는 차이가 없다.\n",
    "\n",
    "\n",
    "\n",
    "Q3. __각 라벨별 score가 0에 가까운 수이면 loss의 값은(safety margin이 1)?__\n",
    "\n",
    "A3. Number of classes -1 ($s_{j} - s_{y_{i}}$가 0이므로)\n",
    "\n",
    "\n",
    "Q4. __loss값을 구하는데 모든 class를 다 더하면 (Including j = y_i)?__\n",
    "\n",
    "\n",
    "A4. safety margin 만큼 loss가 커진다\n",
    "\n",
    "\n",
    "Q5. __Loss 값을 구하는 식에서  mean 대신에 sum을 쓴다면??__\n",
    "\n",
    "\n",
    "A5. rescaling이라서 둘다 써도 상관없음\n",
    "\n",
    "\n",
    "Q6. __Loss값을 구하는 식에서 제곱이 들어간다면?__\n",
    "$L_{i} = \\sum_{j \\not\\equiv y_{i}}max(0,s_{j}-s_{y_{i}}+1)^2$\n",
    "\n",
    "A6. 제곱을 한다는 것은 Loss의 크기에 따라 가중치가 들어감. 조금 나쁜 것과 나쁜 것의 차이를 크게 하여 Loss의 중요도를 조절.\n",
    "\n",
    "Q7. __L=0인 Weight가 유일한가?__\n",
    "\n",
    "A7. 아니다. 2\\*W도 L=0이다. \n",
    "\n",
    "&nbsp;\n",
    "&nbsp;\n",
    "&nbsp;"
   ]
  },
  {
   "cell_type": "code",
   "execution_count": 12,
   "metadata": {},
   "outputs": [
    {
     "name": "stdout",
     "output_type": "stream",
     "text": [
      "2.8999999999999995\n",
      "0.0\n",
      "12.9\n"
     ]
    }
   ],
   "source": [
    "def SVM_Loss(scores, y, safety_margin=1): \n",
    "    \"\"\"\n",
    "    scores : w.dot(x)\n",
    "    y : 라벨\n",
    "    safety_margin : safety_margin\n",
    "    \"\"\"\n",
    "    margins = np.maximum(0,scores - scores[y] + safety_margin)\n",
    "    margins[y] = 0\n",
    "    loss_i = np.sum(margins)\n",
    "    return loss_i\n",
    "\n",
    "\n",
    "scores1 = np.array([3.2, 5.1, -1.7])\n",
    "scores2 =  np.array([1.3, 4.9, 2.0])\n",
    "scores3 = np.array([2.2, 2.5, -3.1])\n",
    "\n",
    "y0 = 0\n",
    "y1 = 1\n",
    "y2 = 2\n",
    "\n",
    "\n",
    "print(SVM_Loss(scores1,y0)) # 2.89\n",
    "print(SVM_Loss(scores2,y1)) # 0\n",
    "print(SVM_Loss(scores3,y2)) # 12.9"
   ]
  },
  {
   "cell_type": "markdown",
   "metadata": {},
   "source": [
    "![](https://user-images.githubusercontent.com/36406676/52476823-3ba8ce80-2be3-11e9-9bce-a8e1aa5654e9.PNG)"
   ]
  },
  {
   "cell_type": "markdown",
   "metadata": {},
   "source": [
    "&nbsp;\n",
    "&nbsp;\n",
    "&nbsp;\n",
    "\n",
    "- Regularization : 모델 복잡도에 대한 페널티\n",
    "\n",
    "$\\lambda$ = regularization strength\n",
    "\n",
    "training_data에 overfitting되는 것을 방지하기 위해서 Regularization을 둔다.\n",
    "\n",
    "람다가 클수록 모델 복잡도에 대한 중요도를 크게 본다.(__Overfitting 방지__)\n",
    "\n",
    "람다가 작다면 고차원의 모델을 필요로 하는것 (__Underfitting 방지__)\n",
    "\n",
    "L1 regression model을 사용하는 regression model을 __Lasso Regression__,\n",
    "\n",
    "L2 regression model을 사용하는 regression model을 __Ridge Regression__ 이라고 부른다\n",
    "\n",
    "&nbsp;\n",
    "&nbsp;\n",
    "&nbsp;"
   ]
  },
  {
   "cell_type": "markdown",
   "metadata": {},
   "source": [
    "![](https://user-images.githubusercontent.com/36406676/52479637-a3174c00-2bec-11e9-9c7e-789cf7115746.PNG)"
   ]
  },
  {
   "cell_type": "markdown",
   "metadata": {},
   "source": [
    "&nbsp;\n",
    "&nbsp;\n",
    "&nbsp;\n",
    "\n",
    "R(W) 가 L2 Regularization이고, x값(이미지픽셀)이 [1,1,1,1]이면 w1[1,0,0,0] 과 w2[0.25,0.25,0.25,0.25] 가 각각 가중치라고 했을때 dot product를 하면 1이라는 똑같은 값이 나온다. \n",
    "\n",
    "L2 Regularization의 입장에서 봤을때 w1과 w2중 어떤 w값을 더 간결하다고 생각한다면 w2가 더 좋을 것이다. w1의 모든 원소의 제곱보다는 w1의 모든 원소의 곱이 더 작다. \n",
    "\n",
    "즉 L2는 w값이 최대한 평평하게 너무 큰 값없이 최대한 비슷한 값으로 이루어지게 하고 싶은 것이다. \n",
    "\n",
    "&nbsp;\n",
    "&nbsp;\n",
    "&nbsp;"
   ]
  },
  {
   "cell_type": "markdown",
   "metadata": {},
   "source": [
    "## 2) Softmax\n",
    "\n",
    "&nbsp;\n",
    "&nbsp;\n",
    "\n",
    "Softmax Classifier의 Loss는 다음과 같이 정의된다.\n",
    "\n",
    "$L_{i} = -log(\\frac{e^{s_{y_{i}}}}{\\sum_{j}e^{s_{j}}})$\n",
    "\n",
    "\n",
    "log안에 있는 부분은 제대로 이미지를 분류할 확률이다.\n",
    "\n",
    "이미지의 라벨을 올바르게 분류했을 경우 log안에 들어있는 부분(확률)은 1에 가까워 \n",
    "loss는 0이 나온다. \n",
    "\n",
    "하지만 log값이 0에 가까워지면 loss는 infinity로 향한다 \n",
    "\n",
    "&nbsp;\n",
    "&nbsp;"
   ]
  },
  {
   "cell_type": "markdown",
   "metadata": {},
   "source": [
    "![](https://user-images.githubusercontent.com/36406676/52392080-b12d7580-2ae3-11e9-88fc-d2cf4ef9f5ff.PNG)"
   ]
  },
  {
   "cell_type": "code",
   "execution_count": 13,
   "metadata": {},
   "outputs": [
    {
     "name": "stdout",
     "output_type": "stream",
     "text": [
      "[0.12998254 0.86904954 0.00096793]\n"
     ]
    }
   ],
   "source": [
    "def softmax(a): # 지수함수를 계산할 때 값이 커지면 nan이 계산됨\n",
    "    c = np.max(a)\n",
    "    exp_a = np.exp(a-c) # 소프트 맥스의 지수함수를 계산할 떄 어떤 정수를 더해도 결과는 바뀌지 않는다는 점을 이용\n",
    "    sum_exp_a = np.sum(exp_a)\n",
    "    y = exp_a / sum_exp_a\n",
    "\n",
    "    return y\n",
    "\n",
    "a = [3.2, 5.1, -1.7]\n",
    "\n",
    "print(softmax(a)) # 0.12998, 0.869049 0.000967"
   ]
  },
  {
   "cell_type": "markdown",
   "metadata": {},
   "source": [
    "&nbsp;\n",
    "&nbsp;\n",
    "&nbsp;\n",
    "\n",
    "- __Q&A 를 통한 Softmax Loss이해하기__\n",
    "\n",
    "Q1. __Softmax loss의 min값과 max값은?__\n",
    "\n",
    "A1. SVM과 똑같다. min값은 0이고 max값은 infinity이다.(unbounded)\n",
    "\n",
    "Q2. __W가 너무 작아서 score값이 0에 가깝다면 loss값은?__\n",
    "\n",
    "A2. -log(1/c) = log(c)       # c: class 개수\n",
    "\n",
    "&nbsp;\n",
    "&nbsp;\n",
    "&nbsp;"
   ]
  },
  {
   "cell_type": "markdown",
   "metadata": {},
   "source": [
    "![](https://user-images.githubusercontent.com/36406676/52392458-3b2a0e00-2ae5-11e9-924a-9d7b243407ba.PNG)"
   ]
  },
  {
   "cell_type": "code",
   "execution_count": 14,
   "metadata": {},
   "outputs": [
    {
     "name": "stdout",
     "output_type": "stream",
     "text": [
      "1.58\n"
     ]
    }
   ],
   "source": [
    "scores4 = np.array([-2.85, 0.86, 0.28])\n",
    "y4 = 2\n",
    "print(SVM_Loss(scores4,y4)) "
   ]
  },
  {
   "cell_type": "code",
   "execution_count": 21,
   "metadata": {},
   "outputs": [
    {
     "data": {
      "text/plain": [
       "1.0401902864545256"
      ]
     },
     "execution_count": 21,
     "metadata": {},
     "output_type": "execute_result"
    }
   ],
   "source": [
    "def cross_entropy_error(y, t): # t는 라벨\n",
    "    delta = 1e-7\n",
    "    return -np.sum(t* np.log(y + delta)) # np.log는 자연로그\n",
    "\n",
    "t0 = [0,0,1]\n",
    "cross_entropy_error(softmax(scores4),t0)"
   ]
  },
  {
   "cell_type": "markdown",
   "metadata": {},
   "source": [
    "![](https://user-images.githubusercontent.com/36406676/52392832-f30beb00-2ae6-11e9-9625-b8bdf1679597.PNG)"
   ]
  },
  {
   "cell_type": "markdown",
   "metadata": {},
   "source": [
    "&nbsp;\n",
    "&nbsp;\n",
    "&nbsp;\n",
    "\n",
    "- __Q&A 를 통한 Softmax Loss이해하기__\n",
    "\n",
    "Q3. __score값을 미세하게 조정한다면 Softmax와 SVM에서 loss가 어떻게 바뀔까?__\n",
    "\n",
    "A3. SVM은 똑같다. SVM에서는 잘 분류하기만 하면 그 크기나 변화는 반영이 안된다. 반면 Softmax에서는 항상 그 값이 갱신된다. (improve, worsen을 항상 반영)\n",
    "\n",
    "&nbsp;\n",
    "&nbsp;\n",
    "&nbsp;"
   ]
  },
  {
   "cell_type": "code",
   "execution_count": 19,
   "metadata": {},
   "outputs": [
    {
     "name": "stdout",
     "output_type": "stream",
     "text": [
      "0\n",
      "0.0\n",
      "--------------------------------------------------\n",
      "0.0009175049577967678\n",
      "0.0008302195426778567\n"
     ]
    }
   ],
   "source": [
    "## svm\n",
    "t0 = 0\n",
    "\n",
    "print(SVM_Loss(np.array([10,-2,3]),0))\n",
    "print(SVM_Loss(np.array([10.01,-2,3]),0))\n",
    "\n",
    "print('-'*50)\n",
    "\n",
    "## Softmax\n",
    "t0 = [1,0,0]\n",
    "\n",
    "print(cross_entropy_error(softmax([10,-2,3]),t0))\n",
    "print(cross_entropy_error(softmax([10.1,-2,3]),t0)) # 값이 조정된것 확인"
   ]
  },
  {
   "cell_type": "markdown",
   "metadata": {},
   "source": [
    "&nbsp;\n",
    "&nbsp;\n",
    "&nbsp;\n",
    "\n",
    "- Recap\n",
    "여태까지 배운 내용들을 정리한것입니다"
   ]
  },
  {
   "cell_type": "markdown",
   "metadata": {},
   "source": [
    "![](https://user-images.githubusercontent.com/36406676/52481566-31420100-2bf2-11e9-8de5-bbeaac93f31b.PNG)"
   ]
  },
  {
   "cell_type": "markdown",
   "metadata": {},
   "source": [
    "# 2. Optimization\n",
    "---"
   ]
  },
  {
   "cell_type": "markdown",
   "metadata": {},
   "source": [
    "&nbsp;\n",
    "&nbsp;\n",
    "&nbsp;\n",
    "\n",
    "앞에서 배운 loss_function을 최소화하는 과정을 optimization이라고 한다.\n",
    "\n",
    "산에서 내려오는 상황에 비유한다면 산의 높이는 loss이고 나의 위치는 w이다.\n",
    "optimization은 loss가 적은 곳으로 w를 변화시키며 내려오는 과정일 것이다.\n",
    "\n",
    "경사가 높은 쪽으로 이동한다면 빨리 낮은곳에 도착할 수 있습니다. \n",
    "\n",
    "&nbsp;\n",
    "&nbsp;\n",
    "&nbsp;"
   ]
  },
  {
   "cell_type": "markdown",
   "metadata": {},
   "source": [
    "![](https://user-images.githubusercontent.com/36406676/52393533-cdccac00-2ae9-11e9-861f-460c4c8dbf85.PNG)"
   ]
  },
  {
   "cell_type": "markdown",
   "metadata": {},
   "source": [
    "&nbsp;\n",
    "&nbsp;\n",
    "&nbsp;\n",
    "\n",
    "numerical한 방식으로 계산하는것은 느리고 정확하지 않아서 analytic한 방법을 사용할 것이다.(다음장에서)\n",
    "\n",
    "&nbsp;\n",
    "&nbsp;\n",
    "&nbsp;"
   ]
  },
  {
   "cell_type": "code",
   "execution_count": 17,
   "metadata": {},
   "outputs": [
    {
     "data": {
      "image/png": "[encoded data removed]",
      "text/plain": [
       "<Figure size 432x288 with 1 Axes>"
      ]
     },
     "metadata": {},
     "output_type": "display_data"
    },
    {
     "name": "stdout",
     "output_type": "stream",
     "text": [
      "0.1999999999990898\n",
      "0.2999999999986347\n"
     ]
    }
   ],
   "source": [
    "## Numerical_diff\n",
    "def numerical_diff(f,x):\n",
    "    h = 1e-4\n",
    "    return (f(x+h) - f(x-h)) / (2*h)\n",
    "\n",
    "def function_1(x):\n",
    "    return 0.01*x**2 + 0.1*x\n",
    "\n",
    "x = np.arange(0,20,0.1)\n",
    "y = function_1(x)\n",
    "plt.xlabel(\"x\")\n",
    "plt.ylabel(\"f(x)\")\n",
    "plt.title(\"f(x) = 0.01x^2 + 0.1x\")\n",
    "plt.plot(x,y)\n",
    "plt.show()\n",
    "\n",
    "print(numerical_diff(function_1,5)) # 0.199999\n",
    "print(numerical_diff(function_1,10)) # 0.299999"
   ]
  },
  {
   "cell_type": "code",
   "execution_count": 18,
   "metadata": {},
   "outputs": [
    {
     "name": "stdout",
     "output_type": "stream",
     "text": [
      "[3.00005 4.00005]\n",
      "[4.99999997e-05 2.00005000e+00]\n"
     ]
    }
   ],
   "source": [
    "## Partial_dff 이런식으로 구하면 속도가 굉장히 느리다. \n",
    "def numerical_gradient(f,x):\n",
    "    h = 1e-4\n",
    "    grad = np.zeros_like(x)\n",
    "\n",
    "    for idx in range(x.size):\n",
    "        tmp_val = x[idx]\n",
    "        x[idx] = tmp_val + h\n",
    "        fxh1 = f(x)\n",
    "\n",
    "        x[idx] = tmp_val # f(x-h) 계산\n",
    "        fxh2 = f(x)\n",
    "\n",
    "        grad[idx] = (fxh1 - fxh2) / (2*h)\n",
    "        x[idx] = tmp_val # 값 복원\n",
    "\n",
    "    return grad\n",
    "\n",
    "def function_2(x):\n",
    "    return x[0]**2 + x[1]**2\n",
    "    # 또는 return np.sum(x**2)\n",
    "\n",
    "print(numerical_gradient(function_2, np.array([3.0,4.0]))) # 3.00005, 4.00005\n",
    "print(numerical_gradient(function_2, np.array([0.0,2.0]))) # 4.99999-e5 2.000005"
   ]
  }
 ],
 "metadata": {
  "kernelspec": {
   "display_name": "Python 3",
   "language": "python",
   "name": "python3"
  },
  "language_info": {
   "codemirror_mode": {
    "name": "ipython",
    "version": 3
   },
   "file_extension": ".py",
   "mimetype": "text/x-python",
   "name": "python",
   "nbconvert_exporter": "python",
   "pygments_lexer": "ipython3",
   "version": "3.6.5"
  }
 },
 "nbformat": 4,
 "nbformat_minor": 2
}
